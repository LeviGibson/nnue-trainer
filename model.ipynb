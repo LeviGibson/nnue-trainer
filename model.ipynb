{
 "cells": [
  {
   "cell_type": "code",
   "execution_count": 1,
   "metadata": {},
   "outputs": [
    {
     "name": "stderr",
     "output_type": "stream",
     "text": [
      "2022-03-29 11:27:20.926431: W tensorflow/stream_executor/platform/default/dso_loader.cc:64] Could not load dynamic library 'libcudart.so.11.0'; dlerror: libcudart.so.11.0: cannot open shared object file: No such file or directory\n",
      "2022-03-29 11:27:20.926458: I tensorflow/stream_executor/cuda/cudart_stub.cc:29] Ignore above cudart dlerror if you do not have a GPU set up on your machine.\n"
     ]
    }
   ],
   "source": [
    "import tensorflow as tf\n",
    "from tensorflow.keras.models import Sequential\n",
    "from tensorflow.keras.layers import Dense\n",
    "from tensorflow.keras.activations import relu\n",
    "from DataLoader import DataLoader\n",
    "from halfkp import get_halfkp_indeicies\n",
    "import chess\n",
    "from chess import Board\n",
    "\n",
    "import numpy as np"
   ]
  },
  {
   "cell_type": "code",
   "execution_count": 2,
   "metadata": {},
   "outputs": [],
   "source": [
    "training_generator = DataLoader(128, \"train\")\n",
    "val_generator = DataLoader(128, \"val\")"
   ]
  },
  {
   "cell_type": "code",
   "execution_count": 6,
   "metadata": {},
   "outputs": [],
   "source": [
    "from keras import backend as K\n",
    "def clipped_relu(x):\n",
    "    return K.relu(x, max_value=4)"
   ]
  },
  {
   "cell_type": "code",
   "execution_count": 9,
   "metadata": {},
   "outputs": [],
   "source": [
    "halfAcc = Dense(256, clipped_relu)\n",
    "i1 = tf.keras.Input((64*64*12,))\n",
    "i2 = tf.keras.Input((64*64*12,))\n",
    "acc1 = halfAcc(i1)\n",
    "acc2 = halfAcc(i2)\n",
    "layerStack = tf.keras.layers.Concatenate()([acc1, acc2])\n",
    "\n",
    "h1 = Dense(32, clipped_relu)\n",
    "h2 = Dense(32, clipped_relu)\n",
    "out = Dense(1, 'sigmoid')\n",
    "\n",
    "layerStack = out(h2(h1(layerStack)))\n",
    "\n",
    "model = tf.keras.Model(inputs=[i1, i2], outputs=layerStack)\n",
    "\n",
    "model.compile(optimizer=tf.keras.optimizers.Adam(), loss='mse', metrics=['mae'])"
   ]
  },
  {
   "cell_type": "code",
   "execution_count": 8,
   "metadata": {},
   "outputs": [],
   "source": [
    "model = tf.keras.models.load_model(\"production/\")"
   ]
  },
  {
   "cell_type": "code",
   "execution_count": 10,
   "metadata": {},
   "outputs": [
    {
     "name": "stdout",
     "output_type": "stream",
     "text": [
      "312/312 [==============================] - 76s 242ms/step - loss: 0.0733 - mae: 0.2014 - val_loss: 0.1003 - val_mae: 0.2365\n"
     ]
    },
    {
     "data": {
      "text/plain": [
       "<keras.callbacks.History at 0x7f5cbc4ba820>"
      ]
     },
     "execution_count": 10,
     "metadata": {},
     "output_type": "execute_result"
    }
   ],
   "source": [
    "#2890/2890 [==============================] - 109s 38ms/step - loss: 0.2221 - mae: 0.4492 - val_loss: 0.2205 - val_mae: 0.4457\n",
    "#2890/2890 [==============================] - 100s 35ms/step - loss: 0.2091 - mae: 0.4277 - val_loss: 0.2259 - val_mae: 0.4423\n",
    "model.fit(training_generator, validation_data=val_generator, epochs=1)"
   ]
  },
  {
   "cell_type": "code",
   "execution_count": 11,
   "metadata": {},
   "outputs": [
    {
     "name": "stdout",
     "output_type": "stream",
     "text": [
      "[0.7342551]\n"
     ]
    }
   ],
   "source": [
    "indicies = get_halfkp_indeicies(Board(\"rnb2bnr/pp1kpppp/3p4/2p5/4P3/1P6/P1PP1PPP/RNBQK1NR w KQ - 0 5\"))\n",
    "indicies = indicies.reshape(2, -1)\n",
    "indicies = (np.array([indicies[0], indicies[0]]), np.array([indicies[1], indicies[1]]))\n",
    "pred = model.predict(indicies)\n",
    "print(pred[0])"
   ]
  },
  {
   "cell_type": "code",
   "execution_count": 18,
   "metadata": {},
   "outputs": [
    {
     "name": "stdout",
     "output_type": "stream",
     "text": [
      "[-0.04949099] 0.02425539296249868 r1bq1rk1/1ppp1ppp/p1n2n2/1Bb1p3/4P3/P1N2N1P/1PPP1PP1/R1BQK2R w KQ - 0 7\n",
      "[-0.02719867] -0.6109751454932664 3r1rk1/4bpp1/pq2b2p/3pP3/4NB2/1P1Q4/P1P2PPP/3R1RK1 b - - 0 20\n",
      "[0.35908425] -0.020791418713248633 r2q2k1/pppb2pn/3p3p/3P4/5B2/2N3P1/PPP2Q1P/R5K1 b - - 3 22\n",
      "[0.0639931] -0.017326945218914314 rnbqkbnr/pp2pppp/2pp4/8/4P3/5Q2/PPPP1PPP/RNB1KBNR w KQkq - 0 3\n",
      "[-0.1036787] -0.31472309449890357 r1bq1rk1/b5pp/p4p2/1p3P2/1P1pNR2/P6P/2P1B1P1/1R1Q3K b - - 0 20\n",
      "[-0.22453517] -0.7504007867771375 2kr3r/ppp1qp2/4pb1p/6p1/3P3P/2P3P1/PP2Q1bR/RN2K3 w Q - 0 17\n",
      "[0.02252209] -0.12753395844224835 r2q1rk1/ppp1bppn/3p3p/3Pn3/4P1b1/2N3P1/PPP1N1BP/R1B1QRK1 w - - 3 13\n",
      "[-0.14433706] -0.7348611154986888 6k1/5pp1/7p/p3P3/8/1P1bP3/P4KPP/8 w - - 0 30\n",
      "[-0.1788454] -0.35168739210477495 r1b2rk1/b5pp/p4p2/1p3P2/1PqpNR2/P6P/2P1B1P1/1R1Q3K b - - 4 22\n",
      "[0.18866515] -0.7884973059452912 r2qkb1r/1ppb1p1p/p1np1np1/4p3/B3P3/1N1PBN2/PPP2PPP/R2QK2R b KQkq - 1 8\n",
      "[0.2273469] 0.762264322827523 3nrr2/p5bp/3k2p1/3P4/2p1N3/2P4P/PP3PP1/R1B1R1K1 b - - 4 23\n",
      "[-0.12947524] -0.4908572461658596 5k1r/ppq3pp/2np1b2/5P2/3PQ3/2P5/PP4PP/R1B2bK1 w - - 0 20\n",
      "[-0.40564817] -0.4420741369073373 r1bqk2r/1p3ppp/p3p1n1/2bp4/8/P1N5/1PPBBPPP/R2Q1R1K b kq - 0 12\n",
      "[0.6438364] -0.5910538774179617 3r2k1/5p1p/p7/2p1RP2/1pK5/3P3P/8/8 b - - 1 37\n",
      "[0.85494757] 0.11729264947414109 2kr3r/bpp2p1p/p2pqp2/P7/1P2P3/2P2Q2/3N1PPP/R4RK1 b - - 2 16\n",
      "[0.8513706] 0.1411464836118459 2kr3r/bpp2p1p/p2pqp2/P7/1P2P3/2P2Q2/5PPP/RN3RK1 w - - 1 16\n",
      "[0.5608057] 0.05539500805687103 5kr1/pp5p/n1p1p3/3pn3/1P6/P1N2P2/2P5/4RRK1 w - - 2 29\n",
      "[0.31020665] 0.8668946454454258 r2k1b1r/ppNq2pp/2np1nb1/3N4/2BPpP2/8/PPP3PP/R1BQK2R w KQ - 1 12\n",
      "[0.8382844] 1.0 8/p5RR/1b5p/3p2p1/3P2k1/2P5/PP3PPP/6K1 w - - 5 36\n",
      "[0.63946664] -0.6131425565389013 8/5k2/1R4pp/1P2p3/4PbPP/5P2/2r5/4K3 b - - 6 44\n",
      "[-0.52071726] -0.7578737414094685 5r2/p5bp/6p1/5kB1/2p2n1P/2P5/PP4P1/4R1K1 w - - 0 29\n",
      "[0.13803661] -0.0034657220268392575 rnbqkb1r/ppp3pp/3p1n2/4pP2/2B2P2/5N2/PPPP2PP/RNBQK2R b KQkq - 0 5\n",
      "[-0.0669241] -0.3394803405579323 r2q1rk1/pppbbppn/3p3p/3Pn3/3NP3/2N2BP1/PPP2R1P/R1B1Q1K1 b - - 8 15\n",
      "[0.1960231] 0.9823330189005497 r1bqkbnr/pp3ppp/2p1p3/1B1P4/8/2N2Q2/PPPP1PPP/R1B1K2R w KQkq - 0 7\n",
      "[-0.12054127] 0.020791418713248522 r2q1rk1/1bp2ppp/p1p2n2/1pb1p1B1/1P2P3/P1NP1N1P/2P2PP1/R2QK2R b KQ - 0 10\n",
      "[0.29479623] -0.85337953919583 6k1/p1r1ppb1/6pp/3Pp3/1P2P1P1/5P1P/P2Q3R/2q1K3 w - - 3 28\n",
      "[0.46717215] -0.0242553929624989 8/6b1/3k4/8/4PK2/8/8/8 b - - 0 58\n",
      "[0.29532635] -0.44763386904262303 5rk1/ppp2qpn/3p3p/3P4/4NB2/6Pb/PPP2Q1P/4R1K1 b - - 11 26\n",
      "[0.79967976] -0.5609577966573693 6k1/5p1p/p7/2p1RP2/1pKr4/3P3P/8/8 w - - 2 38\n",
      "[0.5961002] -0.8668946454454258 6k1/5pp1/7p/p3P3/8/1PK1P3/b5PP/8 b - - 1 32\n",
      "[0.04635036] -0.41089098951347813 2k2r2/ppp1q1r1/4p3/8/1P1P1p2/2P2Q2/P5pR/2K3R1 w - - 3 30\n",
      "[0.40009546] 0.9996665496817687 2R5/p3Rpkp/5rp1/b2p4/3P4/2P5/PP3PPP/2B3K1 w - - 3 26\n",
      "[-0.09445065] -0.03810463666924069 rnbqkb1r/ppp1pppp/5n2/8/8/5p2/PPPPQ1PP/RNB1KBNR w KQkq - 0 5\n",
      "[0.00922859] -0.010396833071865341 r2q1rk1/ppp1bpp1/3p1n1p/3Pn3/4P1b1/2N3P1/PPP1N1BP/R1BQ1RK1 w - - 1 12\n",
      "[-0.30194837] -0.3271578555789557 r1bq1rk1/b5pp/p4p2/1p2pP2/1P1pNn2/P6P/2PBB1P1/1R1Q1R1K w - - 1 19\n",
      "[0.11745822] -0.8301899889199396 r4rk1/p3ppb1/3q2pp/1bNPp3/B3P3/7P/PP1Q1PP1/R3K2R b KQ - 2 18\n",
      "[0.4437952] 0.9923774417698292 5k1r/ppNqb1pp/2np1nb1/3N4/2BPpP2/8/PPP3PP/R1BQ1RK1 w - - 5 15\n",
      "[0.09468031] -0.031181511436510045 r1bq1rk1/2p1bppp/p2p1n2/1p6/3QP3/1BN5/PPP2PPP/R1B2RK1 w - - 3 11\n",
      "[0.702512] -0.29586769779331257 5k1r/ppqn2rp/n1p1p3/3pN2Q/1P1P2P1/P1N5/2P2P2/R4RK1 b - - 0 23\n",
      "[-0.09489346] -0.5977773159798425 r4rk1/bbp1qppp/p4n2/1pP1p1B1/4P3/P1NP1N1P/2P1QPP1/2KR3R b - - 0 13\n",
      "[0.45237362] -0.7300419697801845 6k1/5pp1/7p/p3P3/8/1P2P3/P5PP/1b2K3 w - - 2 31\n",
      "[0.20824015] 0.2895300954006079 r1bqk1nr/pppp1ppp/8/2b5/2B1P3/5Q2/PPP2PPP/RNB1K2R b KQkq - 2 6\n",
      "[-0.08869761] -0.9898846866008724 2k2r1r/ppp1q3/4p3/8/1P1P1p2/2P2Q1p/P5pR/2K3R1 w - - 2 28\n",
      "[0.09194231] 0.04156486963612749 r3k2r/ppp1qppp/3pbn2/2b5/2B1P3/1P3Q2/PBP2PPP/RN3RK1 w kq - 3 10\n",
      "[0.86069036] 1.0 8/6pk/1Q5p/1p1P4/1P3B2/3b2P1/P6P/6K1 w - - 3 37\n",
      "[0.4079591] 0.780501409895558 r2qr1k1/6p1/p1p2nP1/1p1p4/3P4/2NQPp1R/PP3P2/2K4R b - - 4 19\n",
      "[-0.5437611] 1.0 5rk1/p1b2ppp/n7/3p4/1Pp2PB1/P2qr1PP/8/R1K5 b - - 3 29\n",
      "[-0.28746837] -0.5141690552885723 r1bqk2r/ppp1bppp/2n1pn2/6B1/7P/2PP1N2/PP2Q1P1/RN2KB1R b KQkq - 0 9\n",
      "[-0.0447818] -0.14793311594040792 r1bqk1nr/1p3ppp/p1n1p3/2bpP3/8/2N2N2/PPP1BPPP/R1BQK2R b KQkq - 1 7\n",
      "[0.24758995] 1.0 5rk1/p1b2ppp/n7/3p4/1Pp2PB1/P3r1PP/K7/RN5q b - b3 0 26\n",
      "[0.12513459] 0.24773542738565202 r2qkn1r/pp2bppp/n1p1p3/3pP2P/3P2P1/2NQBN2/PPP2P2/R3K2R b KQkq - 0 11\n",
      "[0.6123729] -0.4420741369073373 5rk1/ppp2qp1/3p1N1p/3P4/5B2/6Pb/PPP2Q1P/4R1K1 b - - 0 27\n",
      "[0.8390964] 0.006931360799515396 2kr3r/1pp2p1p/pb1pqp2/P7/1P2P3/2P2Q2/5PPP/RN3RK1 b - - 0 15\n",
      "[-0.31596994] -0.8625233495290642 6k1/p3ppb1/6pp/3Pp3/1P2P1P1/5P1P/P4K1R/2r5 b - - 1 29\n",
      "[0.53943944] -0.759344983303313 2r3k1/p2R4/1b2p1pp/1P2p3/4P1PP/5PK1/P7/8 w - - 1 37\n",
      "[0.25044274] -0.8121441767938771 r2r2k1/bbp2p1p/p4p2/1p6/1q2P3/R2P1N1P/3KQPP1/1N5R w - - 3 21\n",
      "[0.37537098] 0.10702633202784284 7r/3k4/Bn3p1p/4p3/P3P1b1/B2P4/6PP/R6K b - - 0 28\n",
      "[0.8080611] 1.0 8/6pk/1P5p/Q2P4/p4B2/3b2P1/7P/6K1 b - - 0 40\n",
      "[-0.36341733] -0.4280257811497662 r1bqk2r/1p3ppp/p3p3/2bpn3/8/2N5/PPPBBPPP/R2Q1R1K b kq - 1 11\n",
      "[-0.22118723] -0.831263991763125 r3r1k1/b1p2p1p/p7/1p3P2/q7/2RP1P1P/2K2P2/1N3Q1R w - - 3 26\n",
      "[0.0580411] -0.20831560241084324 r2q1rk1/pppb1ppn/3p3p/3P4/4P3/2N2RP1/PPP4P/R1B1Q1K1 b - - 0 18\n",
      "[0.39240968] -0.05193925752084505 5rk1/pppb1qpn/3p3p/3P4/4NB2/6P1/PPP2Q1P/5RK1 b - - 9 25\n",
      "[0.17766285] -0.7578737414094685 6k1/p3ppb1/6pp/3Pp3/1P2P1P1/2r2PKP/P6R/8 w - - 4 31\n",
      "[0.03778791] -0.10702633202784317 rnbqkbnr/pp3ppp/2ppp3/8/2B1P3/5Q1N/PPPP1PPP/RNB1K2R b KQkq - 1 4\n",
      "[0.8061086] 1.0 8/6pk/7p/3P4/5B2/6P1/Q6P/6K1 b - - 0 45\n",
      "[0.867285] 0.8686067570870248 3kB2r/8/1n3p1p/4p3/P3P3/B2P4/6PP/2R4K b - - 0 31\n",
      "[0.8519479] 0.19168052286983728 2kr3r/bpp2p2/p2pqp2/P6p/1P2P3/2P2Q2/3N1PPP/R4RK1 w - - 0 17\n",
      "[-0.0929237] -0.0795435241378909 r1bqk1nr/pp3ppp/2n1p3/2bpP3/8/2N5/PPP2PPP/R1BQKBNR w KQkq - 2 6\n",
      "[-0.18491507] -0.4194957514056481 r4rk1/bbp2p1p/p4p2/1p2p3/4P3/q1NP1N1P/2PKQPP1/R6R b - - 1 16\n",
      "[-0.09660345] -0.08986603792967096 r3r1k1/b1p2p1p/p7/1p3P2/5q2/2RP1P1P/2K1QP2/1N5R w - - 1 25\n",
      "[0.19120777] 0.02425539296249868 r1r5/5kpp/3Qpp2/pP6/N3q1P1/1P6/1P4PP/3R3K w - - 2 28\n",
      "[-0.2653678] 0.5465407418784802 7r/pp3kpp/2nQ1b2/5P2/3P4/2P5/PP4PP/R4bK1 w - - 1 24\n",
      "[0.5569371] 0.998790080345134 R7/p3Rpkp/5rp1/b2p4/3P4/2P5/PP3PPP/2B3K1 b - - 4 26\n",
      "[0.01631582] 0.8524349585709778 r1bqkb1r/pp3ppp/2n5/3np1N1/2B5/4Q3/PPP2PPP/RNB2RK1 w kq - 0 10\n",
      "[-0.10083622] -0.1513212563069054 r2q1rk1/pppbbppn/3p3p/3Pn3/4P3/2N2BP1/PPP1NR1P/R1B1Q1K1 w - - 7 15\n",
      "[0.26169932] 0.9866742977693439 B2qk1nr/p2b1ppp/4p3/8/1b6/2N2Q2/PPPP1PPP/R1B1K2R w KQk - 1 10\n",
      "[0.8473954] -0.9999980390304211 r1r5/6pp/4ppk1/pP6/N3q1P1/1P1Q4/1P4PP/3R3K b - - 5 29\n",
      "[0.17602861] -0.020791418713248633 rnbqkb1r/pp1p1ppp/4pn2/2P5/8/2N2N2/PPP1PPPP/R1BQKB1R b KQkq - 1 4\n",
      "[0.2587067] -0.19168052286983728 r5k1/pppbq1pn/3p3p/3P4/5B2/2N3P1/PPP2Q1P/4R1K1 b - - 5 23\n",
      "[0.07102883] 0.4080062822856456 r2q1rk1/1b1p1ppp/4p3/pP1n4/N7/1P1QPN2/1P3PPP/R4RK1 w - - 3 16\n",
      "[-0.02432317] 0.1648375447849062 r1b1kbnr/pp2pp1p/1qn3p1/3p4/3P4/2PB1N2/PP3PPP/RNBQK2R w KQkq - 0 7\n",
      "[0.831753] 1.0 3k1r2/6R1/p1pqr1P1/1p1p1Q2/3PnN2/4PR2/PP3P2/2K5 w - - 1 26\n",
      "[0.04529369] -0.006931360799515285 rnbqkbnr/pp1p1ppp/4p3/8/2BpP3/8/PPP2PPP/RNBQK1NR w KQkq - 0 4\n",
      "[0.17612255] -0.9329759045641527 r4r2/1ppq1pkp/p2p2p1/6n1/7P/8/PPP2PP1/R2Q1RK1 b - - 0 16\n",
      "[-0.02404571] -0.9702632984758573 r2q1rk1/ppp1bppn/3p3p/3Pn3/4P1b1/2N2BP1/PPP1N2P/R1B1QRK1 b - - 4 13\n",
      "[0.45798922] 0.04156486963612749 5k1r/pp5p/n1p1p3/3pn3/1P6/P1N2P2/2P5/4RRK1 b - - 1 28\n",
      "[-0.3189277] -0.9938467916603986 2kr3r/ppp1qp2/4pb2/8/1P1P4/2P3pp/P2NQ3/2KR3R b - - 1 22\n",
      "[0.2187444] 0.031181511436509934 r1bq1rk1/p3ppb1/3p2pp/2pPn3/4P2B/1BN4P/PP1Q1PP1/R3K2R w KQ - 2 14\n",
      "[0.7495409] -0.0242553929624989 8/8/3k4/4PK2/3b4/8/8/8 b - - 0 60\n",
      "[-0.234756] -0.9971642364137494 r5k1/b1p2p1p/p7/1p3P2/8/2RP3P/2KNrq2/3Q3R b - - 1 30\n",
      "[-0.09506708] -0.85337953919583 r2r2k1/bbp2p1p/p7/1p3P2/5q2/2RP1N1P/2K1QPP1/1N5R b - - 2 23\n",
      "[0.48822117] -0.5367451632475477 8/1R3k2/6pp/1P2p3/4PbPP/5P2/1r6/4K3 b - - 8 45\n",
      "[0.7779739] 1.0 1Q6/6pk/7p/Q2P4/4bB2/6P1/p6P/6K1 w - - 0 43\n",
      "[-0.23942709] -0.9360487967024487 r4rk1/bbp2p1p/p4p2/1pq5/3pP3/5N1P/2PKQPP1/RN5R b - - 1 18\n",
      "[0.08583641] -0.7694288729617148 5bk1/p3pp2/6pp/3Pp3/1P2P1P1/2r2PKP/PR6/8 w - - 6 32\n",
      "[0.73063827] 1.0 8/6pk/7p/Q2P4/pP3B2/6P1/2b4P/6K1 w - - 2 39\n",
      "[-0.00200653] -0.14793311594040792 r2qk2r/1b1p1ppp/p1n1pn2/1pb5/8/1BN1PN2/PPP2PPP/R1BQ1RK1 w kq - 2 9\n",
      "[0.8304677] 0.12753395844224835 2kr3r/1pp2p1p/pb1pqp2/8/PP2P3/2P2Q2/5PPP/RN3RK1 w - - 0 15\n",
      "[0.6983057] -0.7201819101658848 6k1/R7/4p1pp/bP2p3/2r1P1PP/5PK1/8/8 b - - 0 39\n",
      "[0.8713107] 1.0 8/p3R2R/1b5p/3p2pk/3P4/2P4P/PP3PP1/6K1 b - - 2 37\n",
      "[-0.3408125] -0.9901599294773773 2kr3r/ppp1q3/4p3/5p2/1P1P4/2P4p/P2Q2pR/2K3R1 w - - 0 26\n",
      "[0.64794743] -0.05539500805687103 8/2k5/2R3pp/1P2p3/4PbPP/5P2/1r6/5K2 b - - 14 48\n",
      "[0.2902192] 0.273575589207925 rn2kb1r/ppp1q1pp/3pNnb1/8/2BPpP2/2N5/PPP3PP/R1BQK2R b KQkq - 5 9\n",
      "[0.07795763] -0.5703845261258012 r1bq1rk1/p4ppp/n3p3/1p1p4/3Pn1Qb/P1P3PN/1P3P1P/RNBBK2R b KQ - 0 13\n",
      "[0.8724538] -0.7504007867771375 5r2/p5bp/6p1/8/2p4P/2P1k3/PP4P1/5RK1 w - - 2 31\n",
      "[0.6609906] -0.07609878069901532 rqr3k1/3Q2pp/4pp2/pP6/N3P1P1/1P6/1Pn3PP/R4R1K b - - 0 24\n",
      "[0.79269373] 0.9973538877660275 r1b4r/1p1knQp1/p4p1p/2qBp3/4P3/P2P4/1BP3PP/R4R1K w - - 0 20\n",
      "[-0.18709904] -0.027718784880379266 r2q1rk1/pppbbppn/3p3p/3P4/3NP3/2N2nP1/PPP2R1P/R1B1Q1K1 w - - 0 16\n",
      "[-0.39293504] 0.9998804490048523 6k1/1pp1q1p1/p2p3p/3P4/1PP2B2/4Q1Pb/P6P/6K1 w - - 0 32\n",
      "[-0.01269269] 0.4166357576356272 r1bqkb1r/pp3ppp/2n5/4p1N1/8/2N1Q3/PPP2PPP/R1BR2K1 b kq - 3 12\n",
      "[-0.04907709] -0.0242553929624989 r2q1rk1/bbp2ppp/p1p2n2/1p2p1B1/1P2P3/P1NP1N1P/2P1QPP1/R3K2R b KQ - 2 11\n",
      "[0.835979] 1.0 4k3/6p1/Q2P3p/8/5B2/6P1/7P/6K1 w - - 1 48\n",
      "[0.8404144] 0.9998175399324354 r1b4r/1p1kn1Q1/p4p1p/3Bp3/4P3/P2P4/1Bq3PP/R4R1K w - - 0 21\n",
      "[0.32400823] -0.855252014638471 6k1/p1r1ppb1/6pp/3Pp3/1P2P1P1/5P1P/P6R/2Q1K3 b - - 0 28\n",
      "[0.2492441] -0.22153792683772155 r2q2k1/ppp3pn/3p3p/3P1b2/8/2N3P1/PPP4P/R1B1Q1K1 w - - 0 21\n",
      "[0.787369] 1.0 8/6p1/6kp/3P4/5B2/6P1/Q6P/6K1 w - - 1 46\n",
      "[0.16156638] -0.9113307634497031 6k1/p1r1ppb1/q5pp/3Pp3/1P2P3/5PPP/P2Q4/4K2R w K - 1 26\n",
      "[0.0639621] -0.07265221976667924 8/5k2/4R1pp/1P2p3/2r1PbPP/5P2/5K2/8 w - - 3 43\n",
      "[0.64626944] -0.7665858595339922 2r3k1/p2R4/4p1pp/1Pb1p3/4P1P1/5PKP/P7/8 w - - 4 36\n",
      "[-0.04312843] 0.020791418713248522 r1bq1rk1/1ppp1ppp/p1B2n2/2b1p3/4P3/P1N2N1P/1PPP1PP1/R1BQK2R b KQ - 0 7\n",
      "[0.26521218] 0.9996618956756933 4R3/p3Rpkp/6p1/b2p4/1r1P4/8/PPP2PPP/2B3K1 w - - 10 24\n",
      "[0.83213246] 0.0 2kr3r/ppp2p1p/1b1pqp2/8/1P2P3/2P2Q2/P4PPP/RN3RK1 w - - 1 14\n",
      "[-0.04555005] -0.22153792683772155 r1bqk2r/1p3ppp/p1n1p1n1/2bpP3/8/2N2N2/PPP1BPPP/R1BQ1RK1 w kq - 4 9\n",
      "[-0.07623678] 0.9935418623755183 5k1r/ppq3pp/2npQb2/5P2/3P1B2/2P5/PP4PP/R4bK1 w - - 4 22\n",
      "[0.02219558] 0.28316700478020884 r1bqkb1r/pp3ppp/2n5/4p1N1/8/2N1Q3/PPP2PPP/R1B2RK1 w kq - 2 12\n",
      "[-0.02688628] 0.2116285362590966 r1bq1rk1/ppp1bpp1/2np1n1p/8/4P3/2NP2P1/PPP1N1BP/R1BQ1RK1 w - - 2 10\n",
      "[0.01015854] 0.1343465590492101 r2q1rk1/p3ppb1/6pp/1bpPp3/N3P3/1B5P/PP1Q1PP1/R3K2R w KQ - 2 17\n",
      "[-0.45983428] 0.4392814406438055 r1b1k2r/1p4p1/p2p1p1p/2qBp3/3nPP2/P2P4/1BP3PP/R2Q1R1K b kq - 1 16\n"
     ]
    }
   ],
   "source": [
    "pred = model.predict(val_generator[0][0]) * 2 - 1\n",
    "act = val_generator[0][1] * 2 - 1\n",
    "for i in range(128):\n",
    "    print(pred[i], act[i], val_generator.getfen(0)[i])"
   ]
  },
  {
   "cell_type": "code",
   "execution_count": 7,
   "metadata": {},
   "outputs": [
    {
     "name": "stderr",
     "output_type": "stream",
     "text": [
      "2022-03-29 11:22:07.600237: W tensorflow/python/util/util.cc:368] Sets are not currently considered sequences, but this may change in the future, so consider avoiding using them.\n"
     ]
    },
    {
     "name": "stdout",
     "output_type": "stream",
     "text": [
      "INFO:tensorflow:Assets written to: production/assets\n"
     ]
    }
   ],
   "source": [
    "import time\n",
    "# model.save(\"models/model-{}\".format(int(time.time())))\n",
    "model.save(\"production/\")"
   ]
  }
 ],
 "metadata": {
  "interpreter": {
   "hash": "916dbcbb3f70747c44a77c7bcd40155683ae19c65e1c03b4aa3499c5328201f1"
  },
  "kernelspec": {
   "display_name": "Python 3.8.10 64-bit",
   "language": "python",
   "name": "python3"
  },
  "language_info": {
   "codemirror_mode": {
    "name": "ipython",
    "version": 3
   },
   "file_extension": ".py",
   "mimetype": "text/x-python",
   "name": "python",
   "nbconvert_exporter": "python",
   "pygments_lexer": "ipython3",
   "version": "3.8.10"
  },
  "orig_nbformat": 4
 },
 "nbformat": 4,
 "nbformat_minor": 2
}
