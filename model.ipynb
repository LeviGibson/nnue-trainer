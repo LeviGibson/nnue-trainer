{
 "cells": [
  {
   "cell_type": "code",
   "execution_count": 5,
   "metadata": {},
   "outputs": [],
   "source": [
    "import tensorflow as tf\n",
    "from tensorflow.keras.models import Sequential\n",
    "from tensorflow.keras.layers import Dense\n",
    "from tensorflow.keras.activations import relu\n",
    "from DataLoader import DataLoader\n",
    "from halfkp import get_halfkp_indeicies\n",
    "import chess\n",
    "from chess import Board\n",
    "\n",
    "import numpy as np"
   ]
  },
  {
   "cell_type": "code",
   "execution_count": 6,
   "metadata": {},
   "outputs": [],
   "source": [
    "training_generator = DataLoader(128, \"train\")\n",
    "val_generator = DataLoader(128, \"val\")"
   ]
  },
  {
   "cell_type": "code",
   "execution_count": 7,
   "metadata": {},
   "outputs": [],
   "source": [
    "from keras import backend as K\n",
    "def clipped_relu(x):\n",
    "    return K.relu(x, max_value=1)"
   ]
  },
  {
   "cell_type": "code",
   "execution_count": 8,
   "metadata": {},
   "outputs": [
    {
     "name": "stderr",
     "output_type": "stream",
     "text": [
      "2022-03-27 19:17:28.650999: I tensorflow/stream_executor/cuda/cuda_gpu_executor.cc:939] successful NUMA node read from SysFS had negative value (-1), but there must be at least one NUMA node, so returning NUMA node zero\n",
      "2022-03-27 19:17:28.654141: I tensorflow/stream_executor/cuda/cuda_gpu_executor.cc:939] successful NUMA node read from SysFS had negative value (-1), but there must be at least one NUMA node, so returning NUMA node zero\n",
      "2022-03-27 19:17:28.654464: I tensorflow/stream_executor/cuda/cuda_gpu_executor.cc:939] successful NUMA node read from SysFS had negative value (-1), but there must be at least one NUMA node, so returning NUMA node zero\n",
      "2022-03-27 19:17:28.654957: I tensorflow/core/platform/cpu_feature_guard.cc:151] This TensorFlow binary is optimized with oneAPI Deep Neural Network Library (oneDNN) to use the following CPU instructions in performance-critical operations:  AVX2 FMA\n",
      "To enable them in other operations, rebuild TensorFlow with the appropriate compiler flags.\n",
      "2022-03-27 19:17:28.655538: I tensorflow/stream_executor/cuda/cuda_gpu_executor.cc:939] successful NUMA node read from SysFS had negative value (-1), but there must be at least one NUMA node, so returning NUMA node zero\n",
      "2022-03-27 19:17:28.655859: I tensorflow/stream_executor/cuda/cuda_gpu_executor.cc:939] successful NUMA node read from SysFS had negative value (-1), but there must be at least one NUMA node, so returning NUMA node zero\n",
      "2022-03-27 19:17:28.656294: I tensorflow/stream_executor/cuda/cuda_gpu_executor.cc:939] successful NUMA node read from SysFS had negative value (-1), but there must be at least one NUMA node, so returning NUMA node zero\n",
      "2022-03-27 19:17:28.972348: I tensorflow/stream_executor/cuda/cuda_gpu_executor.cc:939] successful NUMA node read from SysFS had negative value (-1), but there must be at least one NUMA node, so returning NUMA node zero\n",
      "2022-03-27 19:17:28.972948: I tensorflow/stream_executor/cuda/cuda_gpu_executor.cc:939] successful NUMA node read from SysFS had negative value (-1), but there must be at least one NUMA node, so returning NUMA node zero\n",
      "2022-03-27 19:17:28.973254: I tensorflow/stream_executor/cuda/cuda_gpu_executor.cc:939] successful NUMA node read from SysFS had negative value (-1), but there must be at least one NUMA node, so returning NUMA node zero\n",
      "2022-03-27 19:17:28.973548: I tensorflow/core/common_runtime/gpu/gpu_device.cc:1525] Created device /job:localhost/replica:0/task:0/device:GPU:0 with 6635 MB memory:  -> device: 0, name: NVIDIA GeForce GTX 1080, pci bus id: 0000:0e:00.0, compute capability: 6.1\n"
     ]
    }
   ],
   "source": [
    "halfAcc = Dense(256, clipped_relu)\n",
    "i1 = tf.keras.Input((64*64*12,))\n",
    "i2 = tf.keras.Input((64*64*12,))\n",
    "acc1 = halfAcc(i1)\n",
    "acc2 = halfAcc(i2)\n",
    "layerStack = tf.keras.layers.Concatenate()([acc1, acc2])\n",
    "\n",
    "h1 = Dense(32, clipped_relu)\n",
    "h2 = Dense(32, clipped_relu)\n",
    "out = Dense(1, 'sigmoid')\n",
    "\n",
    "layerStack = out(h2(h1(layerStack)))\n",
    "\n",
    "model = tf.keras.Model(inputs=[i1, i2], outputs=layerStack)\n",
    "\n",
    "model.compile(optimizer=tf.keras.optimizers.Adam(), loss='mse', metrics=['mae'])"
   ]
  },
  {
   "cell_type": "code",
   "execution_count": 5,
   "metadata": {},
   "outputs": [
    {
     "name": "stderr",
     "output_type": "stream",
     "text": [
      "2022-03-27 18:37:47.672673: W tensorflow/core/framework/cpu_allocator_impl.cc:82] Allocation of 50331648 exceeds 10% of free system memory.\n",
      "2022-03-27 18:37:47.696176: W tensorflow/core/framework/cpu_allocator_impl.cc:82] Allocation of 50331648 exceeds 10% of free system memory.\n",
      "2022-03-27 18:37:47.730876: W tensorflow/core/framework/cpu_allocator_impl.cc:82] Allocation of 50331648 exceeds 10% of free system memory.\n"
     ]
    }
   ],
   "source": [
    "model = tf.keras.models.load_model(\"production/\")"
   ]
  },
  {
   "cell_type": "code",
   "execution_count": 10,
   "metadata": {},
   "outputs": [
    {
     "name": "stdout",
     "output_type": "stream",
     "text": [
      "2890/2890 [==============================] - 100s 35ms/step - loss: 0.2091 - mae: 0.4277 - val_loss: 0.2259 - val_mae: 0.4423\n"
     ]
    },
    {
     "data": {
      "text/plain": [
       "<keras.callbacks.History at 0x7f5ce0fa2700>"
      ]
     },
     "execution_count": 10,
     "metadata": {},
     "output_type": "execute_result"
    }
   ],
   "source": [
    "#2890/2890 [==============================] - 109s 38ms/step - loss: 0.2221 - mae: 0.4492 - val_loss: 0.2205 - val_mae: 0.4457\n",
    "#2890/2890 [==============================] - 100s 35ms/step - loss: 0.2091 - mae: 0.4277 - val_loss: 0.2259 - val_mae: 0.4423\n",
    "model.fit(training_generator, validation_data=val_generator, epochs=1)"
   ]
  },
  {
   "cell_type": "code",
   "execution_count": 6,
   "metadata": {},
   "outputs": [
    {
     "name": "stdout",
     "output_type": "stream",
     "text": [
      "[0.5957211]\n"
     ]
    }
   ],
   "source": [
    "indicies = get_halfkp_indeicies(Board(\"3R4/2P2kp1/b1r2p1p/1p5P/p4B2/P4P2/6PK/8 b - - 77 81\"))\n",
    "indicies = indicies.reshape(2, -1)\n",
    "indicies = (np.array([indicies[0], indicies[0]]), np.array([indicies[1], indicies[1]]))\n",
    "pred = model.predict(indicies)\n",
    "print(pred[0])"
   ]
  },
  {
   "cell_type": "code",
   "execution_count": 7,
   "metadata": {},
   "outputs": [
    {
     "name": "stdout",
     "output_type": "stream",
     "text": [
      "[0.05389988] 1.0 r5k1/5p2/4b1p1/q3P3/8/6Pp/P3RQ1P/4R1K1 w - - 1 44\n",
      "[0.22341466] 1.0 r1b1k2r/2qp1ppp/p4n2/1p2b3/4P3/1B6/PP3PPP/RNBQ1RK1 w kq - 0 12\n",
      "[0.07042468] 1.0 r2qk2r/pp1bbpp1/2npp2p/8/3NN2B/8/PPPQ1PPP/1K1R1B1R b kq - 0 11\n",
      "[0.3372172] 1.0 8/8/5n2/8/P6k/4NK2/8/8 w - - 0 57\n",
      "[-0.10945517] 0.0 R7/5pk1/1p3p2/7p/P6P/5PK1/1r4P1/8 b - - 2 37\n",
      "[-0.23685908] -1.0 8/pp4pk/2q4p/8/5PK1/6QP/PP6/8 b - - 5 50\n",
      "[-0.0353601] -1.0 2kr2r1/ppp1q3/4pp2/3p1npp/2PP1P2/PP2P3/1B1Q2PP/R4RK1 b - - 2 19\n",
      "[0.11502671] -1.0 rnb1r1k1/1p3p1p/p2N2p1/2pP4/P3Pb1q/2N2Q2/1P3PBP/R4RK1 w - - 0 18\n",
      "[0.00280166] -1.0 r2q1rk1/p3ppbp/2Bp1np1/8/2P5/2N3Pb/PP2PP1P/R1BQ1RK1 w - - 1 11\n",
      "[-0.0111109] -1.0 rnbr2k1/pp3ppp/8/1R1pP3/2p2P2/q4B2/P1PQ1PPP/5RK1 b - - 2 16\n",
      "[-0.01358819] -1.0 r1bqk2r/ppp1ppb1/2np1npp/8/3PP2B/2N2P1P/PPPQ2P1/R3KBNR b KQkq - 0 9\n",
      "[-0.11784208] 1.0 2r5/4R3/pk1Pp3/8/7p/1P6/P1P2r2/1K2R3 w - - 2 32\n",
      "[-0.2560897] -1.0 8/2r4p/7K/3k3P/8/P7/2p5/2R5 b - - 0 39\n",
      "[0.07278204] 1.0 rnbqkbnr/pppppppp/8/8/8/8/PPPPPPPP/RNBQKBNR w KQkq - 0 1\n",
      "[-0.24957514] -1.0 4r3/5k2/4p3/1PP5/8/2P2Rb1/P4p2/2K5 b - - 1 35\n",
      "[0.33681142] -1.0 8/3R4/4p1k1/4Pp2/5P2/r5BK/8/8 w - - 26 94\n",
      "[0.4970467] 1.0 1R2nk2/R7/8/P5p1/4p3/2p5/2P3P1/5K2 b - - 0 44\n",
      "[0.38935065] 0.0 r4k1r/5p2/pR6/2p2n2/P4R2/2PP4/B1P2K1P/8 b - - 10 31\n",
      "[0.2663319] -1.0 r1bq1r1k/pp4bp/2p3p1/4pp2/3PP1n1/1QPB1N2/P2B1PPP/2R1K2R w K - 0 16\n",
      "[-0.14957118] -1.0 8/5pkp/2n3p1/3N4/8/p1P1B3/r4PPP/5K2 b - - 0 34\n",
      "[0.0979389] 1.0 r1bqkb1r/pppp1ppp/2n5/8/2B1np2/2N2N2/PPPPQ1PP/R1B1K2R b KQkq - 1 6\n",
      "[0.10635304] -1.0 r1bq1rk1/1ppnn1bp/3p2p1/3Ppp2/PBP1P3/2N2N2/4BPPP/R2Q1RK1 w - - 0 13\n",
      "[0.16658509] -1.0 r2qk2r/1p2bpp1/2p2np1/3pn1B1/p6P/2N1PP2/PPPQN1P1/2KR3R w kq - 0 13\n",
      "[0.20004547] 1.0 3r4/p4p1p/2k2np1/2B2b2/1P1N4/8/P2KBP1P/6R1 b - - 1 31\n",
      "[0.33081007] 1.0 2B2k2/2Bp1p2/3P2p1/Pb3p2/1b3P2/4nN2/8/2K5 b - - 8 38\n",
      "[0.12016237] 1.0 1r3rk1/pp1n1ppp/2p1bb2/N7/8/P1BB1P2/1PP3PP/2KRR3 w - - 1 20\n",
      "[0.12627423] 1.0 8/5kP1/8/4B3/K4P2/8/3r4/8 b - - 5 62\n",
      "[0.22235465] 1.0 6k1/prq2ppp/5n2/2B5/P2Q4/6P1/P3PP1P/R5K1 b - - 0 20\n",
      "[0.07266343] -1.0 r1bqkb1r/pppp1ppp/2n2n2/8/3NP3/8/PPP2PPP/RNBQKB1R w KQkq - 1 5\n",
      "[0.3770975] 1.0 4b1k1/4r1b1/1qp4p/pn1pNBp1/3P4/PP1Q2P1/1B3P1P/4R1K1 b - - 9 27\n",
      "[0.4089496] 0.0 5b2/2k5/2P5/1B5p/8/N4K2/2b4P/8 b - - 0 49\n",
      "[0.19089532] -1.0 r3k2r/ppq2ppp/2nbp3/3p4/3P1Pb1/1RP2N2/P1BN1PPP/3Q1RK1 w kq - 3 14\n",
      "[-0.01125997] 0.0 r2q1rk1/pp2bppp/2n2n2/2pp4/3P2b1/1PN1PN2/PB2BPPP/R2QK2R w KQ - 3 10\n",
      "[-0.00811541] -1.0 rnbqnrk1/1p2bppp/p2p4/2pPp3/2P1P3/2N2NPP/PP3PB1/R1BQK2R b KQ - 2 9\n",
      "[-0.14325458] -1.0 r5k1/3p1ppp/2q1p1n1/8/1P2P3/2P1Q1P1/3N1PKP/5R2 b - - 2 21\n",
      "[0.00640821] -1.0 r5k1/pp1n1ppp/2pbr3/6q1/3Pp3/1Q2P2P/PP1BRPP1/R4NK1 b - - 4 18\n",
      "[-0.05992174] 1.0 8/3R1p2/5kp1/2pP2p1/2n4P/3r1N2/5PK1/8 w - - 0 34\n",
      "[-0.17007416] -1.0 8/1kp5/8/8/2K5/8/8/q7 w - - 0 58\n",
      "[0.3202474] 1.0 4r2k/6bp/3q2p1/pp3p2/1P1p4/PB1P1Q1P/5PP1/2R3K1 w - - 0 33\n",
      "[0.05022109] -1.0 rnbqkb1r/pppppppp/5n2/8/2PP4/8/PP2PPPP/RNBQKBNR b KQkq - 0 2\n",
      "[0.13323891] 1.0 r4rk1/1ppb1pp1/p2p3p/4p2q/2BPPn2/P3N1QP/1PP2PP1/R3R1K1 b - - 0 19\n",
      "[0.00790656] 1.0 r2q1rk1/ppp2pp1/1bnpbn1p/4p3/P1B1P3/3PBN1P/1PPN1PP1/R2QR1K1 b - - 3 10\n",
      "[0.1211729] 1.0 3r2k1/3Pqp1p/ppB3p1/n7/8/P4Q1P/5PP1/3R2K1 b - - 1 28\n",
      "[-0.03639495] 0.0 8/pp5k/4P1pp/3PQ1n1/8/8/P5R1/3q2K1 w - - 17 47\n",
      "[0.27855575] -1.0 1r3r1k/1npnq1bp/pp1p2p1/3Ppp2/1PP1P3/2N1BB1P/P1Q2PP1/R4RK1 w - - 0 19\n",
      "[0.07049775] -1.0 r2q1rk1/1b2bpp1/4pn2/p7/QpBP4/4P2P/1P1B1P1P/R1R2NK1 b - - 0 20\n",
      "[-0.11999345] 1.0 r1b2rk1/pppnq1bp/3p4/3Ppp2/2P2n2/2N1B2N/PP1QB1PP/R3K2R w KQ - 0 13\n",
      "[0.09736598] 1.0 r2qkb1r/p1pb1ppp/2p2n2/3pN3/3P4/2N2R2/PPP1Q1PP/R1B3K1 b kq - 0 11\n",
      "[0.07932234] 1.0 r2qkbnr/ppp1pppp/2n5/3p4/3P2b1/5NP1/PPP1PPBP/RNBQK2R b KQkq - 0 4\n",
      "[0.04684639] -1.0 5rk1/2qn1pp1/p7/1pbB2p1/2p5/6P1/1P3P1P/R2QR1K1 w - - 1 22\n",
      "[0.25862205] 1.0 5b2/rp3rk1/1N2b1p1/p1P1p1Pp/1P1pPp1P/P2B4/5K2/R1R5 w - - 5 31\n",
      "[0.08380008] 1.0 r1bqkbnr/pp1ppppp/2n5/8/3pP3/5N2/PPP2PPP/RNBQKB1R w KQkq - 0 4\n",
      "[0.03189862] -1.0 4bk2/7p/4p1p1/Np3p2/3n4/1P5P/1P3PP1/3NK3 w - - 0 39\n",
      "[-0.01027572] 1.0 r2q1rk1/pp2ppbp/2npbnp1/2p5/4P3/2NP2PP/PPP1NPB1/R1BQ1RK1 w - - 1 9\n",
      "[0.03433061] 1.0 5rk1/8/q2Np2p/2p2pp1/3p4/3n1PB1/6PP/1R1Q2K1 b - - 1 39\n",
      "[0.10551178] 1.0 r1bqrbk1/2p2pp1/p1np1n1p/1p1Np3/4P3/PB1PBN1P/1PP2PP1/R2Q1RK1 b - - 4 12\n",
      "[0.07786512] -1.0 rn1qkbnr/ppp1pppp/8/3p1b2/3P4/5N2/PPP1PPPP/RNBQKB1R w KQkq - 2 3\n",
      "[0.22294319] 1.0 r1bqkb1r/ppp2ppp/1nn5/4p3/8/2N2NP1/PP1PPPBP/R1BQ1RK1 b kq - 1 7\n",
      "[-0.4821939] -1.0 2k5/pp2b1r1/2bn4/3p1pP1/2pP4/PnP3R1/1P4BN/4R1K1 w - - 2 45\n",
      "[-0.0515281] 1.0 6k1/7p/5Qp1/3N4/4K3/8/3qp2P/8 w - - 12 52\n",
      "[0.19790101] 1.0 rn1qkbnr/pp2pppp/2p5/3p1b2/8/5NP1/PPPPPPBP/RNBQ1RK1 b kq - 3 4\n",
      "[0.11829877] 1.0 r2qr1k1/3nbpp1/b1p1pn1p/p1Pp4/Pp1P1B2/1N3NP1/1PQ1PPBP/R3R1K1 b - - 3 14\n",
      "[-0.23382711] 1.0 r2q1rk1/1p1n2pp/1np1p3/p7/Pb6/2NQBP2/1P2P1PP/R3KB1R w KQ - 0 15\n",
      "[-0.10258102] -1.0 r2q1rk1/pp1b2pp/2p1p2n/2Pp1p2/1P1PnP2/2N1PN1P/P1Q2PB1/R4R1K w - - 1 16\n",
      "[0.084306] 1.0 rnbqkbnr/pp2pppp/3p4/8/3NP3/8/PPP2PPP/RNBQKB1R b KQkq - 0 4\n",
      "[0.07637608] 1.0 rnbqkbnr/pppppppp/8/8/4P3/8/PPPP1PPP/RNBQKBNR b KQkq - 0 1\n",
      "[0.2019515] -1.0 r1b1k2r/pp1n1ppp/2p1pn2/q2p4/2PP1B2/2bBPN2/PP3PPP/R2Q1RK1 w kq - 0 9\n",
      "[-0.29260397] 0.0 4R1k1/5pp1/4p2p/4P3/1p6/1N5P/4r1P1/7K b - - 1 34\n",
      "[-0.11354864] 1.0 r7/3k1p1p/3b1p2/1P1p1p2/8/3NP1P1/1RK2P1P/8 b - - 2 29\n",
      "[-0.07141525] 1.0 rnbq1rk1/ppppppbp/5np1/8/2PPP3/2N5/PP3PPP/R1BQKBNR w KQ - 1 5\n",
      "[0.02831793] 1.0 r1b1kb1r/p1ppqppp/2p5/3nP3/8/8/PPP1QPPP/RNB1KB1R w KQkq - 3 8\n",
      "[0.08922935] 1.0 rnbqkb1r/pp3ppp/3p1n2/2pP4/8/2N2N2/PP2PPPP/R1BQKB1R b KQkq - 1 6\n",
      "[0.06411982] -1.0 rnbqk2r/ppp1ppbp/3p1np1/8/2B1PP2/2NP4/PPP3PP/R1BQK1NR b KQkq - 0 5\n",
      "[0.06141019] 1.0 r1bqk2r/pp4pp/2nbpn2/3p4/3P4/3B1N2/PP2NPPP/R1BQK2R w KQkq - 2 11\n",
      "[0.05819428] -1.0 r2q1rk1/pp3pbp/2n1pn2/3p1p2/P2P1B2/2P3N1/1P1N1PPP/R2Q1RK1 b - - 1 13\n",
      "[0.07007051] 1.0 rn1qkb1r/4pppp/b2p1n2/2pP4/8/5N2/PP2PPPP/RNBQKB1R w KQkq - 0 7\n",
      "[-0.12965572] 1.0 r7/1p3pk1/3p1Rnn/3P2Q1/1ppqP3/2N3P1/1P4K1/5R2 w - - 4 37\n",
      "[0.5040139] 1.0 4k3/pR6/5p2/3P1K1P/6P1/8/8/5r2 w - - 1 51\n",
      "[0.08590341] -1.0 rnbqkbnr/pp2pppp/2p5/8/3PN3/8/PPP2PPP/R1BQKBNR b KQkq - 0 4\n",
      "[0.31392765] 1.0 8/8/6rp/3pR3/4p1k1/8/5PP1/6K1 w - - 0 40\n",
      "[-0.09948158] 1.0 r1bq2k1/ppp2pp1/1b5p/3P4/N1B5/5N2/PPP1QnPP/R5K1 b - - 7 19\n",
      "[0.02938676] -1.0 r3r3/ppk1q3/2n1bpQ1/2P1b3/2P5/4B1N1/P4PPP/1R3RK1 w - - 2 21\n",
      "[0.07366598] 1.0 r2qkb1r/3n1p2/2p1ppb1/pp6/3P3p/1Q3N1P/PPPB1PP1/R3KB1R w KQkq - 0 15\n",
      "[0.08309853] -1.0 rnbqkbnr/pp1ppppp/8/2p5/3PP3/8/PPP2PPP/RNBQKBNR b KQkq - 0 2\n",
      "[-0.00637376] -1.0 r1bq1rk1/3nbpp1/ppp2n2/3Pp2p/P3P3/2N3PP/1PP1N1B1/R1BQ1RK1 b - - 0 12\n",
      "[-0.16528058] 1.0 3r1rk1/p2qbp1p/2b3p1/1p2P2n/P1p1NP2/3p2P1/1PP1QBBP/R2R3K w - - 0 24\n",
      "[0.09335399] 1.0 rnbqkb1r/pp2pppp/5n2/3p4/3P4/2N2N2/PP2PPPP/R1BQKB1R b KQkq - 2 5\n",
      "[-0.3076337] 1.0 8/pp3pp1/4k3/1r1p4/8/P2N2rP/KP1R2P1/3R4 b - - 15 31\n",
      "[0.33208263] 1.0 3r3r/p5b1/1p3N2/1k2p1p1/1B1p2P1/1B1b4/PP4P1/R1R3K1 w - - 3 33\n",
      "[-0.0068689] 0.0 r1b1k2r/p2nppbp/2pp1np1/qp6/3PP3/4BP2/PPPQN1PP/1K1R1BNR b kq - 5 9\n",
      "[-0.00394118] 1.0 2brr1k1/1pq2ppp/p1p2n2/3Pb3/P1P5/2N1NQ1P/5PP1/BR1R2K1 w - - 0 22\n",
      "[0.00624979] 1.0 r3r1k1/2q1bppp/ppb1pn2/4P3/2P5/2NB4/PP1BQ1PP/4RR1K b - - 0 16\n",
      "[0.1267128] -1.0 r1bqk2r/ppp4p/2nb1pp1/1B1p4/3P4/6N1/PPP1NPPP/R2QK2R b KQkq - 5 9\n",
      "[0.38575757] 1.0 8/8/p1K5/2P5/1P5p/P5k1/8/8 b - - 0 52\n",
      "[0.10261297] 1.0 6k1/p4ppp/2p5/4P1Q1/7P/1P6/P1qr1PP1/4R1K1 b - - 0 24\n",
      "[0.17843676] 1.0 r1b1k2r/bpqp1pp1/p1N1pn2/7p/4P3/2N1B1PP/PPP2PB1/R2Q1RK1 b kq - 0 11\n",
      "[0.00870717] 1.0 r1bqkb1r/pp1n1ppp/2p1pn2/3p4/2P5/1P4P1/PB1PPPBP/RN1QK1NR w KQkq - 2 6\n",
      "[0.09779823] -1.0 r3k3/1ppq2b1/p5p1/2n1B1Q1/8/P2bPN2/3P1PPP/4K2R b Kq - 0 20\n",
      "[0.07968986] 1.0 r1bqk1nr/ppp1bppp/8/3p4/2NPP3/2P5/P4PPP/RNBQK2R w KQkq - 0 9\n",
      "[0.04694831] 1.0 rnbqkb1r/pppppppp/8/3nP3/8/8/PPPP1PPP/RNBQKBNR w KQkq - 1 3\n",
      "[-0.08097869] -1.0 8/1p2bkpp/3p4/pq1N4/8/5K2/P2R1P1P/8 b - - 1 28\n",
      "[-0.0576365] 1.0 6B1/1b6/8/p2pk1P1/Pp1p4/8/1PP5/R5K1 w - - 0 38\n",
      "[0.2842945] 1.0 r2qk2r/pp2n3/1bn1P1p1/1B1p1p1p/5Q2/5N2/PP3PPP/R1B2RK1 b kq - 1 16\n",
      "[-0.02416968] -1.0 2rqr1k1/pb3ppp/1pn1p2b/4P3/3PpP2/1P2N1P1/PB1QN2P/2RR2K1 b - - 0 20\n",
      "[-0.00463736] -1.0 rn1q1rk1/1b3ppp/p2b1n2/1p1PN3/2p5/2N3P1/1P3PBP/R1BQR1K1 w - - 3 15\n",
      "[0.15584207] 1.0 r1b2k1r/pppp4/1bn2p1p/8/8/2N2N2/PPP1K1PP/R4B1R w - - 0 14\n",
      "[-0.06108314] -1.0 2r3k1/pq2ppb1/1p4pp/8/PPnN4/4P1B1/4QPPP/3R2K1 b - - 0 23\n",
      "[-0.11525959] 1.0 5bk1/1q3p1p/4p1p1/4P3/3QPP1P/5N2/2r3PK/4R3 w - - 7 29\n",
      "[0.27659857] -1.0 4r2k/pp4pp/1r6/8/8/P2P1B2/1PK3PP/7R b - - 2 26\n",
      "[-0.01842141] -1.0 8/1p2r1k1/1Qp2pp1/5p1p/P4N1P/5RP1/5PK1/3rq3 w - - 5 36\n",
      "[0.14519024] -1.0 8/8/5K2/8/6q1/6k1/8/8 b - - 1 67\n",
      "[-0.00770074] 1.0 r1b2rk1/p4ppp/2pp1qn1/8/4P3/1PN2N2/P2Q1PPP/R3R1K1 b - - 1 15\n",
      "[0.07278204] 1.0 rnbqkbnr/pppppppp/8/8/8/8/PPPPPPPP/RNBQKBNR w KQkq - 0 1\n",
      "[-0.10860711] -1.0 1r1r2k1/p1p2pb1/4pq1p/2P3p1/Q6P/2P5/PP1N1P2/2KR2R1 w - - 1 19\n",
      "[0.41508234] 1.0 r6r/pp3p1p/5np1/k1Bn1b2/3N4/8/PP2BP1P/2R1K1R1 b - - 4 20\n",
      "[-0.16037542] -1.0 3rr3/5ppk/p4n1p/1p1p1q2/2nRp3/2P3RP/P1P1QPPK/2B5 b - - 1 32\n",
      "[-0.13484508] -1.0 r3kb1r/p1ppqp1p/b1p5/3nP1p1/2P5/BP6/P3QPPP/RN2KB1R b KQkq - 1 10\n",
      "[0.08315754] 0.0 3r1rk1/1p2p1bp/p4pp1/P1qPP1B1/2p5/5Q1P/1PP2RP1/4R1K1 w - - 0 23\n",
      "[0.09255946] -1.0 rnbqkbnr/pppp1ppp/8/8/3pP3/5N2/PPP2PPP/RNBQKB1R b KQkq - 1 3\n",
      "[0.33348227] 1.0 4k2r/1q3ppp/2p2n2/p3N3/2PPbP2/Q3N3/P5PP/5RK1 w k - 2 25\n",
      "[-0.00498372] -1.0 r1bq1rk1/pp2ppbp/2n2np1/2pp4/4P3/2NP1NP1/PPP2PBP/R1BQ1RK1 w - - 1 8\n",
      "[-0.04337209] -1.0 2r1r1k1/5ppp/1pN4q/1P1p3P/p6R/PnB1PbP1/1Q3P2/4RK2 b - - 1 31\n",
      "[0.08076501] -1.0 r1bqk1nr/pp1pppbp/2n3p1/2p5/4P3/2PP1NP1/PP3P1P/RNBQKB1R b KQkq - 0 5\n",
      "[-0.00866097] -1.0 2rqr1k1/1b1n1pbp/1p2p1p1/p1pP4/P2Pn3/BP1QPNP1/3N1PBP/2R1R1K1 b - - 0 17\n",
      "[0.14739764] -1.0 3r4/p5kp/1p3qp1/4n2n/3pR3/7P/PPP2PQ1/1K2R3 b - - 1 27\n",
      "[-0.13995987] 0.0 8/p7/8/1P1bkn2/3p4/8/3KB3/5N2 w - - 3 48\n",
      "[0.28567398] 1.0 r6r/4kp1p/pq1p1p2/3P4/Q4P2/1N6/PPP3PP/2K4R w - - 3 25\n",
      "[0.14192939] 0.0 8/3k1p2/1B1n1bp1/3p3p/5P1P/3BPK2/8/8 w - - 5 41\n"
     ]
    }
   ],
   "source": [
    "pred = model.predict(val_generator[0][0]) * 2 - 1\n",
    "act = val_generator[0][1] * 2 - 1\n",
    "for i in range(128):\n",
    "    print(pred[i], act[i], val_generator.getfen(0)[i])"
   ]
  },
  {
   "cell_type": "code",
   "execution_count": 8,
   "metadata": {},
   "outputs": [
    {
     "name": "stderr",
     "output_type": "stream",
     "text": [
      "2022-03-27 19:05:01.600799: W tensorflow/python/util/util.cc:368] Sets are not currently considered sequences, but this may change in the future, so consider avoiding using them.\n"
     ]
    },
    {
     "name": "stdout",
     "output_type": "stream",
     "text": [
      "INFO:tensorflow:Assets written to: models/model-1648422301/assets\n"
     ]
    }
   ],
   "source": [
    "import time\n",
    "model.save(\"models/model-{}\".format(int(time.time())))"
   ]
  }
 ],
 "metadata": {
  "interpreter": {
   "hash": "916dbcbb3f70747c44a77c7bcd40155683ae19c65e1c03b4aa3499c5328201f1"
  },
  "kernelspec": {
   "display_name": "Python 3.8.10 64-bit",
   "language": "python",
   "name": "python3"
  },
  "language_info": {
   "codemirror_mode": {
    "name": "ipython",
    "version": 3
   },
   "file_extension": ".py",
   "mimetype": "text/x-python",
   "name": "python",
   "nbconvert_exporter": "python",
   "pygments_lexer": "ipython3",
   "version": "3.8.10"
  },
  "orig_nbformat": 4
 },
 "nbformat": 4,
 "nbformat_minor": 2
}
