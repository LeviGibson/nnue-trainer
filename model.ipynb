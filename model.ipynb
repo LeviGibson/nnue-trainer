{
 "cells": [
  {
   "cell_type": "code",
   "execution_count": 2,
   "metadata": {},
   "outputs": [],
   "source": [
    "import tensorflow as tf\n",
    "from tensorflow.keras.models import Sequential\n",
    "from tensorflow.keras.layers import Dense\n",
    "from tensorflow.keras.activations import relu\n",
    "from DataLoader import DataLoader\n",
    "from halfkp import get_halfkp_indeicies\n",
    "import chess\n",
    "from chess import Board\n",
    "\n",
    "import numpy as np"
   ]
  },
  {
   "cell_type": "code",
   "execution_count": 6,
   "metadata": {},
   "outputs": [],
   "source": [
    "training_generator = DataLoader(128, \"train\")\n",
    "val_generator = DataLoader(128, \"val\")"
   ]
  },
  {
   "cell_type": "code",
   "execution_count": 3,
   "metadata": {},
   "outputs": [],
   "source": [
    "from keras import backend as K\n",
    "def clipped_relu(x):\n",
    "    return K.relu(x, max_value=1)"
   ]
  },
  {
   "cell_type": "code",
   "execution_count": null,
   "metadata": {},
   "outputs": [],
   "source": [
    "halfAcc = Dense(256, clipped_relu)\n",
    "i1 = tf.keras.Input((64*64*12,))\n",
    "i2 = tf.keras.Input((64*64*12,))\n",
    "acc1 = halfAcc(i1)\n",
    "acc2 = halfAcc(i2)\n",
    "layerStack = tf.keras.layers.Concatenate()([acc1, acc2])\n",
    "\n",
    "h1 = Dense(32, clipped_relu)\n",
    "h2 = Dense(32, clipped_relu)\n",
    "out = Dense(1, 'sigmoid')\n",
    "\n",
    "layerStack = out(h2(h1(layerStack)))\n",
    "\n",
    "model = tf.keras.Model(inputs=[i1, i2], outputs=layerStack)\n",
    "\n",
    "model.compile(optimizer=tf.keras.optimizers.Adam(), loss='mse', metrics=['mae'])"
   ]
  },
  {
   "cell_type": "code",
   "execution_count": 3,
   "metadata": {},
   "outputs": [
    {
     "name": "stderr",
     "output_type": "stream",
     "text": [
      "2022-03-27 11:10:09.039289: I tensorflow/stream_executor/cuda/cuda_gpu_executor.cc:939] successful NUMA node read from SysFS had negative value (-1), but there must be at least one NUMA node, so returning NUMA node zero\n",
      "2022-03-27 11:10:09.042673: I tensorflow/stream_executor/cuda/cuda_gpu_executor.cc:939] successful NUMA node read from SysFS had negative value (-1), but there must be at least one NUMA node, so returning NUMA node zero\n",
      "2022-03-27 11:10:09.044882: I tensorflow/stream_executor/cuda/cuda_gpu_executor.cc:939] successful NUMA node read from SysFS had negative value (-1), but there must be at least one NUMA node, so returning NUMA node zero\n",
      "2022-03-27 11:10:09.045480: I tensorflow/core/platform/cpu_feature_guard.cc:151] This TensorFlow binary is optimized with oneAPI Deep Neural Network Library (oneDNN) to use the following CPU instructions in performance-critical operations:  AVX2 FMA\n",
      "To enable them in other operations, rebuild TensorFlow with the appropriate compiler flags.\n",
      "2022-03-27 11:10:09.045994: I tensorflow/stream_executor/cuda/cuda_gpu_executor.cc:939] successful NUMA node read from SysFS had negative value (-1), but there must be at least one NUMA node, so returning NUMA node zero\n",
      "2022-03-27 11:10:09.046310: I tensorflow/stream_executor/cuda/cuda_gpu_executor.cc:939] successful NUMA node read from SysFS had negative value (-1), but there must be at least one NUMA node, so returning NUMA node zero\n",
      "2022-03-27 11:10:09.046607: I tensorflow/stream_executor/cuda/cuda_gpu_executor.cc:939] successful NUMA node read from SysFS had negative value (-1), but there must be at least one NUMA node, so returning NUMA node zero\n",
      "2022-03-27 11:10:09.340681: I tensorflow/stream_executor/cuda/cuda_gpu_executor.cc:939] successful NUMA node read from SysFS had negative value (-1), but there must be at least one NUMA node, so returning NUMA node zero\n",
      "2022-03-27 11:10:09.341012: I tensorflow/stream_executor/cuda/cuda_gpu_executor.cc:939] successful NUMA node read from SysFS had negative value (-1), but there must be at least one NUMA node, so returning NUMA node zero\n",
      "2022-03-27 11:10:09.341327: I tensorflow/stream_executor/cuda/cuda_gpu_executor.cc:939] successful NUMA node read from SysFS had negative value (-1), but there must be at least one NUMA node, so returning NUMA node zero\n",
      "2022-03-27 11:10:09.341616: I tensorflow/core/common_runtime/gpu/gpu_device.cc:1525] Created device /job:localhost/replica:0/task:0/device:GPU:0 with 6518 MB memory:  -> device: 0, name: NVIDIA GeForce GTX 1080, pci bus id: 0000:0e:00.0, compute capability: 6.1\n"
     ]
    }
   ],
   "source": [
    "model = tf.keras.models.load_model(\"production/\")"
   ]
  },
  {
   "cell_type": "code",
   "execution_count": 5,
   "metadata": {},
   "outputs": [
    {
     "name": "stdout",
     "output_type": "stream",
     "text": [
      "2981/2981 [==============================] - 130s 44ms/step - loss: 0.1439 - mae: 0.3189 - val_loss: 0.1613 - val_mae: 0.3482\n"
     ]
    },
    {
     "data": {
      "text/plain": [
       "<keras.callbacks.History at 0x7f7004156a00>"
      ]
     },
     "execution_count": 5,
     "metadata": {},
     "output_type": "execute_result"
    }
   ],
   "source": [
    "#921/921 [==============================] - 24s 26ms/step - loss: 0.1499 - mae: 0.3252 - val_loss: 0.1661 - val_mae: 0.3544\n",
    "#921/921 [==============================] - 25s 27ms/step - loss: 0.1361 - mae: 0.3087 - val_loss: 0.1685 - val_mae: 0.3563\n",
    "model.fit(training_generator, validation_data=val_generator, epochs=1)"
   ]
  },
  {
   "cell_type": "code",
   "execution_count": 19,
   "metadata": {},
   "outputs": [
    {
     "name": "stdout",
     "output_type": "stream",
     "text": [
      "[0.7542669]\n"
     ]
    }
   ],
   "source": [
    "indicies = get_halfkp_indeicies(Board(\"3R4/2P2kp1/b1r2p1p/1p5P/p4B2/P4P2/6PK/8 b - - 77 81\"))\n",
    "indicies = indicies.reshape(2, -1)\n",
    "indicies = (np.array([indicies[0], indicies[0]]), np.array([indicies[1], indicies[1]]))\n",
    "pred = model.predict(indicies)\n",
    "print(pred[0])"
   ]
  },
  {
   "cell_type": "code",
   "execution_count": 8,
   "metadata": {},
   "outputs": [
    {
     "name": "stdout",
     "output_type": "stream",
     "text": [
      "[0.19559193] 1.0 8/5k1p/1q2b1p1/4P3/8/2QPP2P/1P4PK/8 w - - 1 42\n",
      "[0.06666791] 0.0 2rq1k2/R4pp1/3p4/3Pp3/2B2B1b/1P3P2/1P1Q4/3K4 b - - 0 25\n",
      "[0.06795657] -1.0 2r5/p1p2pk1/1pB1rnpp/2P1p3/8/P3PP1q/1PQ2P1P/K2R2R1 w - - 3 24\n",
      "[0.11350274] 1.0 r2q1rk1/2pbbppp/p1np1n2/1p6/3PP3/NB3N1P/PP3PP1/R1BQR1K1 b - - 0 12\n",
      "[0.50853384] 1.0 3R4/2P2kp1/b1r2p1p/1p5P/p4B2/P4P2/6PK/8 b - - 77 81\n",
      "[-0.41439885] -1.0 1k6/8/5p1P/8/8/5np1/r7/5K2 w - - 0 61\n",
      "[-0.02499861] -1.0 2r3k1/1b1r3p/1p1pp3/pPq1np2/P1P5/1B6/2Q2PPP/2R1RNK1 w - - 0 29\n",
      "[0.04379761] 1.0 r1bq1rk1/1p1nnpbp/6p1/pPp1p3/P1Pp4/3P1NP1/1B1NPPBP/R2Q1RK1 b - - 0 13\n",
      "[0.43809354] 1.0 8/1p2b1rk/p3p2p/8/P3N3/3R1P1P/4Q1PK/2q5 w - - 8 50\n",
      "[-0.14248043] -1.0 2r2r1k/p1q3pp/1p2p3/3p1p2/b2P1P2/1RN1PBP1/2R4P/3Q2K1 w - - 0 23\n",
      "[0.11118567] -1.0 r1b1k2r/pp1n1ppp/5n2/q1pp2B1/1b1P4/2NBPN2/PPQ2PPP/R3K2R b KQkq - 3 9\n",
      "[-0.28942424] -1.0 8/2R4p/3p2pk/p2P1p2/1p4PP/q4B2/6K1/8 b - - 0 41\n",
      "[0.25974047] 1.0 3r2k1/pqn2rpp/1p6/3p4/8/1P1Q2P1/PB2PP1P/2RR2K1 w - - 3 30\n",
      "[0.14871323] 0.0 2rr2k1/1p1bqpp1/p1pRp2p/4P3/4B3/P3P3/1PQ2PPP/3R2K1 w - - 4 24\n",
      "[0.3523636] 1.0 r4r2/1ppq1nbk/3p1pp1/3Pp2p/3PP1bP/pPB3P1/P1Q2PB1/1R2NRK1 b - - 2 19\n",
      "[0.4956447] 1.0 5r1k/2q3pp/R6n/2p1Nb2/2P1N2P/6P1/1Q3P2/6K1 w - - 7 37\n",
      "[0.09866261] 1.0 rnbqkb1r/pppppppp/5n2/8/3P4/8/PPP1PPPP/RNBQKBNR w KQkq - 1 2\n",
      "[0.41489136] 0.0 6k1/R7/2b3K1/8/3n4/5p2/5N2/8 w - - 5 106\n",
      "[0.09292042] 1.0 r2qk2r/pbpn1pp1/1p1p1n1p/4p3/2PPP2B/2P2P2/P2N2PP/R2QKB1R w KQkq - 0 11\n",
      "[0.11546886] 0.0 2r3k1/1pq3pp/4p3/p1Pp1r2/1pbQ1p2/3N1P2/P1R3PP/4RBK1 b - - 5 26\n",
      "[0.49370968] 1.0 8/P7/1K1kp3/2N5/5P2/5b1p/7P/8 b - - 1 60\n",
      "[0.06505978] 0.0 r1bq1rk1/pp1n1ppp/2p1pn2/8/1b1P4/2NBPN2/PP3PPP/R1BQ1RK1 b - - 2 9\n",
      "[0.5979208] 1.0 5k2/Q6p/P3q3/1p1p1p2/8/7P/5P2/6K1 b - - 0 47\n",
      "[0.16162765] 0.0 r3r1k1/2q1bppp/b1p1pn2/p2pP3/P4P2/1PN1BB2/2PQ2PP/R2R3K b - - 0 18\n",
      "[0.09866261] 1.0 rnbqkb1r/1p2pppp/p2p1n2/8/3NP3/2N5/PPP2PPP/R1BQKB1R w KQkq - 0 6\n",
      "[-0.30800325] 0.0 8/5p1P/R7/6k1/p2n4/8/1b2K3/8 w - - 3 54\n",
      "[-0.09474069] 0.0 1R6/8/4pk1p/1p1n1pp1/pr1P4/R6P/5PPK/8 w - - 2 47\n",
      "[0.03534997] 1.0 r1bq1rk1/ppp1bppp/1nn5/4p3/8/P1NP1NP1/1P2PPBP/R1BQ1RK1 b - - 0 9\n",
      "[-0.04136789] 1.0 2r4k/5ppp/1n2p3/N3P3/8/8/P2R2PP/6K1 w - - 0 36\n",
      "[-0.6780343] -1.0 8/3Q4/8/6kp/pp2p2P/3n4/q5NK/8 b - - 0 57\n",
      "[0.09866261] -1.0 rnbqkb1r/p1pp1ppp/1p2pn2/8/2PP4/5NP1/PP2PP1P/RNBQKB1R b KQkq - 0 4\n",
      "[-0.3774705] -1.0 8/6pk/p6p/5p2/2pPb3/4P2P/Pr1B1RP1/6K1 b - - 2 41\n",
      "[0.34110463] 0.0 8/1pR4p/pk5P/r7/2K1bB1P/8/1P6/8 w - - 2 96\n",
      "[0.53318644] 0.0 r3r2k/1bq3p1/p3pnQp/2pp4/1P3P2/P1NB1R2/2P3PP/4R2K w - - 0 24\n",
      "[-0.29408544] 1.0 1r3q1k/7p/2p2bp1/N1P1np2/Np6/1Q2PpPP/PP3P2/3R2K1 w - - 1 31\n",
      "[-0.3756354] -1.0 8/6pk/p5qp/7P/1P3B2/3n2P1/4rP2/2R3K1 w - - 0 45\n",
      "[0.1015873] -1.0 r4rk1/ppq1ppb1/1np1b1p1/4P2p/4PB1Q/5NP1/PP3PBP/R2R2K1 b - - 2 15\n",
      "[-0.13327646] -1.0 8/7p/5kp1/3p1p2/3P1P1P/4PKP1/3qB3/8 b - - 2 54\n",
      "[0.06887269] -1.0 rnbq1rk1/ppp1bpp1/4pn1p/3p4/2PP3B/2N1PN2/PP3PPP/R2QKB1R b KQ - 1 7\n",
      "[0.09866261] 0.0 rnbqkb1r/ppp2ppp/4pn2/3p4/2PP4/2N2N2/PP2PPPP/R1BQKB1R b KQkq - 1 4\n",
      "[0.47305465] 1.0 4brk1/1p4p1/4R3/1q2B1Qp/4pP2/1P2P2P/6PK/8 b - - 3 37\n",
      "[0.09487283] 1.0 r3kb1r/1b1p1ppp/pp1q1n2/4p3/2P1P3/2NQ2P1/PP3PBP/R1B2RK1 w kq - 2 14\n",
      "[0.13592565] 1.0 8/1R2kp2/p7/2N5/4Pr2/8/PPP1K3/7r b - - 0 29\n",
      "[0.14173853] 1.0 r3kb1r/1q4p1/p3Pp1p/2n5/P1B1b3/1N6/1P1BQPPP/2R2RK1 b kq - 0 23\n",
      "[0.05949962] 0.0 6k1/1p2qppp/1n1np3/p3Nb2/Pp1P4/4P3/1P2BPPP/2BQ2K1 w - - 3 21\n",
      "[0.09323013] -1.0 1r2kb1r/pQ1bpp1p/2Np4/5p2/2P5/2q1P3/PP3PPP/R3KB1R w KQk - 0 12\n",
      "[-0.25799978] 1.0 r5k1/p1p1rpb1/1pBp4/3P2pp/P2R3P/4P3/1PQ2PP1/5nK1 b - - 1 22\n",
      "[0.34445775] 1.0 5rk1/p2nq2r/1p1Rp3/1Q2P1p1/6B1/5pP1/PP3P2/5RK1 b - - 2 36\n",
      "[-0.21049303] 0.0 8/5p1p/4p1k1/2B1P1P1/4P2q/5KR1/8/8 b - - 23 88\n",
      "[-0.01122534] 0.0 3r4/5k2/5b2/2K5/1p6/5R2/8/8 w - - 0 75\n",
      "[0.10300374] 0.0 rnbqkb1r/1p2pppp/p2p1n2/8/3NP3/2N1B3/PPP2PPP/R2QKB1R b KQkq - 1 6\n",
      "[0.1455245] 1.0 2r5/2nR4/1r4p1/1ppBk3/4P3/2P3P1/7P/1R4K1 w - - 1 34\n",
      "[0.24414599] 1.0 3kr3/p1q2p2/2Q5/1p1p3P/5R2/P3P3/1PK5/8 w - - 5 45\n",
      "[0.08399594] -1.0 r1b1k1nr/3p1ppp/p1q1p3/8/Pp2PB1b/5P2/NPPQ2PP/R2K1B1R b kq - 1 13\n",
      "[-0.26057887] 0.0 8/8/1p2k3/1P3p2/5b2/3RpB2/1r4PP/5K2 b - - 16 56\n",
      "[0.13873076] -1.0 5rk1/pr3ppp/4p2b/2P1P3/P1qP4/2B3Q1/5R1P/R5K1 w - - 3 31\n",
      "[-0.42525935] -1.0 6k1/5pp1/7p/3R3P/2n3P1/1q2p1NK/2b2BB1/8 w - - 0 49\n",
      "[0.09513164] 1.0 r1bqk2r/2p1bppp/p1np1n2/1p2p3/4P3/1B3N2/PPPP1PPP/RNBQR1K1 w kq - 0 8\n",
      "[0.21049309] 0.0 7k/8/3R1p1p/1p1n1P2/3p1P2/P1r3PP/3K4/8 w - - 0 56\n",
      "[-0.12135631] 1.0 8/6k1/1p3pq1/pNr2p2/P3pP1p/1P1nP2P/3Q2P1/3R3K w - - 0 111\n",
      "[0.29404438] -1.0 6k1/6p1/pN2b2p/P1R1p3/7q/3P4/1PR3PK/8 w - - 0 46\n",
      "[0.05842161] 0.0 r2qr1k1/1p1n1pbp/2p1p1p1/3p4/p1PP4/1PB1PPP1/P2Q2NP/R4RK1 w - - 0 17\n",
      "[0.7743386] 1.0 1Rbr4/2r1qpnk/pQ1p3p/P1pPp1p1/2P1Pn2/4NP1P/1RB2BP1/7K w - - 11 47\n",
      "[0.05048406] -1.0 7k/5p1p/8/1Pp5/1P2PKP1/3rR3/3b1q2/8 w - - 3 48\n",
      "[0.2462771] 0.0 r1b2rk1/1pq1bppp/p1nppn2/8/P2NPP2/2N1B3/1PP1B1PP/R2Q1RK1 w - - 1 11\n",
      "[0.15335071] 0.0 r2qr1k1/3b1p1p/2p3pb/ppQpP3/3P4/8/PP1NBPPP/3RR1K1 w - - 7 28\n",
      "[0.19288778] 0.0 6k1/p6p/1p1r1pp1/3Pr3/P3P1P1/8/7P/2R1R1K1 w - - 0 34\n",
      "[0.09866261] 0.0 r1bqkb1r/pp2pppp/2np1n2/8/2BNP3/2N5/PPP2PPP/R1BQK2R b KQkq - 4 6\n",
      "[0.3104571] 1.0 8/p5k1/5bp1/1p1B4/5P2/8/P5PP/4K3 b - - 0 36\n",
      "[0.09866261] -1.0 rnbqkbnr/pp1ppppp/8/2p5/4P3/8/PPPP1PPP/RNBQKBNR w KQkq - 0 2\n",
      "[0.49349105] 0.0 8/P2q2pk/7p/3b4/3Q4/4BP2/5KP1/8 b - - 18 54\n",
      "[0.24325037] 0.0 r3qbk1/1pp3p1/2n2p1p/p4P2/P1N1PNP1/8/1P4QP/R2r3K w - - 0 39\n",
      "[0.01800466] -1.0 r2q1rk1/1b3ppp/3bpn2/p1n5/P7/4PN2/NP1BBPPP/R2Q1RK1 b - - 1 16\n",
      "[0.10634053] 0.0 r1b1k2r/pp2ppbp/2n3p1/q7/3pP3/2P1BN2/P2Q1PPP/2R1KB1R w Kkq - 0 11\n",
      "[0.2576871] 0.0 1r4k1/B1bqnrpp/3ppp2/p6P/P3PP2/2Nb2Q1/1P1N2P1/1R1R3K b - - 4 34\n",
      "[0.41532516] 0.0 8/2r1k3/2r3p1/2p2p1p/R1P2P1P/2P2P2/3P1B2/2K5 w - - 58 82\n",
      "[0.10301602] 1.0 5r2/1b4kp/1n1p1pp1/2p1p3/1q2P3/1PNPP1N1/1PQ3PP/5R1K w - - 2 25\n",
      "[-0.14880764] 0.0 6k1/5p2/3q2pQ/7P/5P2/n2pp3/6PK/R7 b - - 0 46\n",
      "[0.09866261] 1.0 r1bqkb1r/pppp1ppp/2n1pn2/8/2PP4/2N5/PP2PPPP/R1BQKBNR w KQkq - 3 4\n",
      "[0.10480785] 0.0 5r1k/pp2bpp1/3p3p/8/4P3/P1rB1P2/2P2P1P/1R2R1K1 b - - 1 21\n",
      "[-0.28259474] -1.0 6k1/p4b2/r5n1/7p/8/2PN2R1/5PK1/8 b - - 1 34\n",
      "[0.08916259] 0.0 r1b1k2r/bp3ppp/p1n1pn2/8/N7/1B2PN2/PP1B1PPP/R2R2K1 b kq - 3 12\n",
      "[-0.06644768] 0.0 8/8/pp1k2pp/2p2p2/2P2P2/1P1K3P/P4P2/8 b - - 13 43\n",
      "[0.2072469] 1.0 4rnk1/1br3pp/p2qpp2/3p4/2P5/1P1B4/P2QNPPP/3RR1K1 b - - 2 22\n",
      "[-0.60763395] -1.0 6rk/p6Q/8/4bp2/2P5/4pRPP/6K1/8 b - - 0 54\n",
      "[0.37467492] 1.0 1r4k1/2q1nppp/pp2p3/8/2P5/PR3QP1/P3BP1P/6K1 w - - 1 31\n",
      "[-0.37640178] -1.0 5rkr/1b2qpp1/p7/3nN3/1p2RP1p/1Q5B/1P1B1bPP/5N1K b - - 9 35\n",
      "[-0.34126842] -1.0 8/3k1p2/p1b5/2Q1P1P1/3p4/3Pq1B1/P6P/5K2 b - - 8 55\n",
      "[0.22422063] -1.0 1k3r2/ppp5/3bpr1B/1q1n2Q1/4B3/6PP/P1R2P2/4R1K1 b - - 2 27\n",
      "[0.02170873] -1.0 5k2/3b1p2/r4np1/1p2B3/2p2PPR/8/P3r2P/1B3RK1 w - - 3 29\n",
      "[0.32805407] 0.0 r2q1rk1/5pbp/p1bpp2B/1p2n3/4P3/P1N5/1PPQB2P/2KR2R1 b - - 3 20\n",
      "[0.06789804] -1.0 2r1r1k1/3nbppp/p1q1bn2/1p2p3/4P3/1NNBB3/PPP3PP/1K1RQR2 w - - 4 17\n",
      "[0.09866261] -1.0 rnbqkb1r/pp2pppp/3p1n2/8/3NP3/2N5/PPP2PPP/R1BQKB1R b KQkq - 2 5\n",
      "[-0.22973841] -1.0 8/5p2/8/8/3k2K1/7P/2pr4/2R5 w - - 2 55\n",
      "[0.0705837] 0.0 rn3rk1/1p1B2pp/4p3/4qp2/1Q6/2P1B3/P4PPP/R3K2R b KQ - 2 17\n",
      "[0.30700386] 1.0 8/5B2/8/1p2r3/7R/2k2P1K/6PP/r7 w - - 0 49\n",
      "[0.13706708] 1.0 5r2/4kpQ1/1qbrpp2/ppR4B/3P4/P7/1P3PPP/4R1K1 b - - 0 33\n",
      "[-0.02367407] 1.0 2r4k/2b2p2/4p3/pp3p2/7P/P4R2/3N3P/4N1K1 b - - 0 34\n",
      "[-0.00719202] 1.0 8/p4k2/6p1/3pB2p/5P1P/r7/P3RK2/8 w - - 5 35\n",
      "[0.29720068] -1.0 2r2bk1/1b3ppp/2q5/p1PR4/3B2n1/5Q2/P4PPP/R5K1 w - - 7 26\n",
      "[0.00622606] 0.0 8/8/2R3k1/p1b4p/P7/1n2pKP1/7P/8 b - - 13 61\n",
      "[0.492455] 1.0 r1b1r2k/1pq4p/6p1/p2B1p2/N2N4/1P4PK/P2QPP2/3R4 b - - 0 27\n",
      "[0.17474973] 1.0 r4r2/1ppq2bk/2np1ppn/3Np2p/2P1P1bP/pPBP1NP1/P1Q2PB1/R4RK1 w - - 0 16\n",
      "[0.41279507] 0.0 6k1/2q3p1/3Np3/pP1nP1P1/5r2/6QP/5R1K/8 b - - 10 45\n",
      "[0.51508] -1.0 4r1k1/5q1p/1pprp1nQ/p5P1/PnBPPp2/1PB2P2/7R/1R5K w - - 14 49\n",
      "[0.6627879] 0.0 5k2/1R6/3K4/3p4/4p3/P2r4/1P6/8 w - - 10 79\n",
      "[-0.00817192] 1.0 8/8/P4p1k/Q5p1/3b4/5KP1/2r5/8 w - - 7 41\n",
      "[0.20637095] 1.0 3rr1k1/p1nnqpbp/bp1p2p1/2pP4/Q3PB2/2N2NP1/PP3PBP/3RR1K1 b - - 2 17\n",
      "[-0.01141751] -1.0 4r1k1/4qp1p/3p2n1/1NpPnQ2/3bP1Pp/5P2/r3B2B/1R3R1K w - - 4 30\n",
      "[0.66849566] 1.0 8/P7/1R4pk/2p4p/2P2p1P/5P2/8/7K b - - 0 52\n",
      "[0.5255035] 0.0 2b1rbk1/1Nq2p2/B3p2p/2Nn2p1/3P4/Q3P1P1/5PP1/1R4K1 b - - 0 31\n",
      "[0.33108664] 1.0 r7/4k1q1/1n3p1p/3p1BpQ/1p1P4/1P2P3/5PPP/2R3K1 b - - 2 35\n",
      "[-0.18781525] -1.0 3b1rk1/3p2p1/1qpPp2p/1b2P3/1P3P2/6P1/r1B2R1P/1RBQK3 w - - 7 24\n",
      "[0.09866261] 0.0 rnbqkbnr/pp1ppppp/8/2p5/4P3/8/PPPP1PPP/RNBQKBNR w KQkq - 0 2\n",
      "[0.10007668] -1.0 rnbqk2r/ppppppbp/5np1/8/2PP1B2/2N5/PP2PPPP/R2QKBNR b KQkq - 3 4\n",
      "[0.09763062] -1.0 r1bqkb1r/p2n1ppp/2p1pn2/1p6/2BP4/2N1PN2/PP3PPP/R1BQK2R w KQkq - 0 8\n",
      "[0.09866261] 0.0 rnbqkbnr/pp1p1ppp/4p3/2p5/4P3/5N2/PPPP1PPP/RNBQKB1R w KQkq - 0 3\n",
      "[-0.07674199] -1.0 4k3/4P3/5q2/4b3/R7/5K2/4R3/8 w - - 26 95\n",
      "[0.7538794] 0.0 5k2/2q3r1/p2R1p1Q/P3p3/1p1b3P/5P1B/P1P5/1K1R4 b - - 0 32\n",
      "[0.38824058] 1.0 2r3k1/1pqr1ppp/p1n1p3/8/2PPn2R/P2RBN1P/2Q2PP1/6K1 b - - 4 25\n",
      "[0.09866261] 1.0 rnbqkbnr/pp1p1ppp/4p3/8/3NP3/8/PPP2PPP/RNBQKB1R b KQkq - 0 4\n",
      "[0.06119907] 0.0 r1b2r1k/ppqn1ppp/2pbpn2/8/3P4/2NBPN2/PPQB1PPP/R4RK1 b - - 4 11\n",
      "[0.7739506] 1.0 2n5/3Qbkpp/R2P1r2/2BP4/6P1/1Pq5/5P2/6K1 w - - 3 43\n",
      "[0.14036202] -1.0 r3kb1r/1bqn1ppp/p3pn2/8/PN1Np3/4BP2/1PPQB1PP/3R1RK1 b kq - 5 14\n",
      "[0.00382495] 0.0 8/p5p1/Pr1P1p2/5K1p/4P2P/2k2P2/1p6/1R6 w - - 1 48\n",
      "[0.51193273] 0.0 5qk1/5p2/1Q2bPp1/6P1/p7/5P2/3B2K1/8 w - - 0 59\n",
      "[0.502311] 1.0 5k2/1b1r2pp/p3Qp2/1p6/1P1qP3/P1RB4/3N4/3K4 b - - 2 31\n",
      "[0.0505991] 0.0 4k1r1/1b2qp2/2p1pR1Q/4P3/1pp1P3/6P1/1P3P2/2KN4 b - - 1 25\n"
     ]
    }
   ],
   "source": [
    "pred = model.predict(val_generator[0][0]) * 2 - 1\n",
    "act = val_generator[0][1] * 2 - 1\n",
    "for i in range(128):\n",
    "    print(pred[i], act[i], val_generator.getfen(0)[i])"
   ]
  },
  {
   "cell_type": "code",
   "execution_count": 8,
   "metadata": {},
   "outputs": [
    {
     "name": "stderr",
     "output_type": "stream",
     "text": [
      "2022-03-27 11:00:00.900905: W tensorflow/python/util/util.cc:368] Sets are not currently considered sequences, but this may change in the future, so consider avoiding using them.\n"
     ]
    },
    {
     "name": "stdout",
     "output_type": "stream",
     "text": [
      "INFO:tensorflow:Assets written to: models/model-1648393200/assets\n"
     ]
    }
   ],
   "source": [
    "import time\n",
    "model.save(\"models/model-{}\".format(int(time.time())))"
   ]
  }
 ],
 "metadata": {
  "interpreter": {
   "hash": "916dbcbb3f70747c44a77c7bcd40155683ae19c65e1c03b4aa3499c5328201f1"
  },
  "kernelspec": {
   "display_name": "Python 3.8.10 64-bit",
   "language": "python",
   "name": "python3"
  },
  "language_info": {
   "codemirror_mode": {
    "name": "ipython",
    "version": 3
   },
   "file_extension": ".py",
   "mimetype": "text/x-python",
   "name": "python",
   "nbconvert_exporter": "python",
   "pygments_lexer": "ipython3",
   "version": "3.8.10"
  },
  "orig_nbformat": 4
 },
 "nbformat": 4,
 "nbformat_minor": 2
}
