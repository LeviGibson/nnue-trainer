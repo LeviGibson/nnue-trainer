{
 "cells": [
  {
   "cell_type": "code",
   "execution_count": 13,
   "metadata": {},
   "outputs": [],
   "source": [
    "import tensorflow as tf\n",
    "from tensorflow.keras.models import Sequential\n",
    "from tensorflow.keras.layers import Dense\n",
    "from tensorflow.keras.activations import relu\n",
    "from DataLoader import DataLoader\n",
    "from halfkp import get_halfkp_indeicies\n",
    "import chess\n",
    "from chess import Board\n",
    "\n",
    "import numpy as np"
   ]
  },
  {
   "cell_type": "code",
   "execution_count": 14,
   "metadata": {},
   "outputs": [],
   "source": [
    "training_generator = DataLoader(64, \"train\")\n",
    "val_generator = DataLoader(64, \"val\")"
   ]
  },
  {
   "cell_type": "code",
   "execution_count": 15,
   "metadata": {},
   "outputs": [],
   "source": [
    "from keras import backend as K\n",
    "def clipped_relu(x):\n",
    "    return K.relu(x, max_value=2)"
   ]
  },
  {
   "cell_type": "code",
   "execution_count": 16,
   "metadata": {},
   "outputs": [],
   "source": [
    "halfAcc = Dense(256, clipped_relu)\n",
    "i1 = tf.keras.Input((64*64*12,))\n",
    "i2 = tf.keras.Input((64*64*12,))\n",
    "acc1 = halfAcc(i1)\n",
    "acc2 = halfAcc(i2)\n",
    "layerStack = tf.keras.layers.Concatenate()([acc1, acc2])\n",
    "\n",
    "h1 = Dense(32, clipped_relu)\n",
    "h2 = Dense(32, clipped_relu)\n",
    "out = Dense(1, 'sigmoid')\n",
    "\n",
    "layerStack = out(h2(h1(layerStack)))\n",
    "\n",
    "model = tf.keras.Model(inputs=[i1, i2], outputs=layerStack)\n",
    "\n",
    "model.compile(optimizer=tf.keras.optimizers.Adam(), loss='mse', metrics=['mae'])"
   ]
  },
  {
   "cell_type": "code",
   "execution_count": 5,
   "metadata": {},
   "outputs": [],
   "source": [
    "model = tf.keras.models.load_model(\"production/\")"
   ]
  },
  {
   "cell_type": "code",
   "execution_count": 17,
   "metadata": {},
   "outputs": [
    {
     "name": "stdout",
     "output_type": "stream",
     "text": [
      "7812/7812 [==============================] - 1088s 139ms/step - loss: 0.0709 - mae: 0.1979 - val_loss: 0.0808 - val_mae: 0.2126\n"
     ]
    },
    {
     "data": {
      "text/plain": [
       "<keras.callbacks.History at 0x7fc11cd4aa00>"
      ]
     },
     "execution_count": 17,
     "metadata": {},
     "output_type": "execute_result"
    }
   ],
   "source": [
    "#625/625 [==============================] - 76s 120ms/step - loss: 0.0710 - mae: 0.1957 - val_loss: 0.0967 - val_mae: 0.2318\n",
    "model.fit(training_generator, validation_data=val_generator, epochs=1)"
   ]
  },
  {
   "cell_type": "code",
   "execution_count": 18,
   "metadata": {},
   "outputs": [
    {
     "name": "stdout",
     "output_type": "stream",
     "text": [
      "[0.13856101]\n"
     ]
    }
   ],
   "source": [
    "indicies = get_halfkp_indeicies(Board(\"r3k1nr/pp2ppbp/n2p2p1/q1p5/3N1P2/1P2P3/PBPP3P/RN1K1B1R w kq - 1 9\"))\n",
    "indicies = indicies.reshape(2, -1)\n",
    "indicies = (np.array([indicies[0], indicies[0]]), np.array([indicies[1], indicies[1]]))\n",
    "pred = model.predict(indicies)\n",
    "print(pred[0])"
   ]
  },
  {
   "cell_type": "code",
   "execution_count": 19,
   "metadata": {},
   "outputs": [
    {
     "name": "stdout",
     "output_type": "stream",
     "text": [
      "[-0.03286403] -0.5750424331208387 1rbqr1k1/1pp2pp1/p2b3p/P3p3/3pB3/1Q1P2P1/1B2PP1P/R1R3K1 b - - 0 20\n",
      "[0.42872286] -0.04502410583767502 2k5/7p/3Bp1p1/pb2Pp2/5P2/8/6PP/6K1 b - - 2 35\n",
      "[0.48281097] 0.9969819732475262 7r/1p6/p1p2kp1/3R4/3P1P2/P3RK2/1P6/8 w - - 0 37\n",
      "[0.5905397] 0.999369167382091 7r/7p/p1k4p/1p1RR3/1P2B3/7P/6PK/r7 b - - 2 32\n",
      "[-0.46399802] -0.9995894903236348 2k2bnr/pppr4/8/4q1pp/8/5pP1/PP3P1P/RN3QK1 w - - 0 24\n",
      "[0.73144317] 1.0 8/8/8/p1K4p/b5kP/3p4/8/8 w - - 0 47\n",
      "[0.38178885] 0.9546603230906032 r6N/pppnBBpp/2kp4/8/8/2Pb4/P4PPP/2R2RK1 w - - 3 18\n",
      "[-0.03446245] 0.031181511436509934 rnbqkb1r/pppp1pp1/5n1p/4p3/2P5/2N3P1/PP1PPP1P/R1BQKBNR w KQkq - 1 4\n",
      "[-0.13979626] -0.2182397668754964 8/p6p/6p1/2pbp1k1/3p2P1/3P2K1/PPP4P/8 w - - 3 33\n",
      "[-0.28543943] 0.0 8/8/8/8/6kp/8/5K2/8 w - - 0 52\n",
      "[0.22935808] 0.34864661826708976 r3r1k1/1n4pp/p1Npbp2/8/PP2PP2/2N5/2P1K1PP/R2R4 b - - 0 21\n",
      "[-0.06159341] 0.8213725114010577 8/R1N3pp/1P1p1k2/2n2p2/2r2P2/5K2/2P3PP/8 w - - 5 34\n",
      "[0.1743784] 1.0 rnb2rk1/pp3ppp/8/8/1R2N1nq/3B1Pb1/P1PB2K1/3Q1R2 b - - 1 19\n",
      "[-0.23501903] -0.46682073930409607 rnbqk2r/pppp1ppp/8/2b1p3/4n3/2P4P/PP1PNPP1/R1BQKBNR w KQkq - 1 6\n",
      "[0.01986253] -0.0034657220268392575 1rb2rk1/5p1p/3pp1p1/p1p5/Pp1qP3/1P1P2P1/2P1QPBP/3R1RK1 w - - 0 17\n",
      "[0.17684662] 1.0 r7/1k5p/1P1p2p1/1K1P4/4p3/6PP/8/8 w - - 0 44\n",
      "[-0.4750656] -0.35168739210477495 2k5/1p6/p7/8/1P5p/8/1KP3rr/2R2R2 w - - 0 39\n",
      "[0.4208045] 0.09673714175054116 2kr2nN/pp1bq1pp/4p3/3p4/3P4/2P5/P2B1PPP/R2QR1K1 b - - 0 16\n",
      "[-0.12934935] -0.08642723372588967 rnbq1rk1/ppppppbp/5np1/8/8/2PP2P1/PP1NPP1P/R1BQKBNR w KQ - 1 5\n",
      "[0.22435045] 0.4695268275310802 r1bq1rk1/p3bppp/1p2p3/n7/3PP3/2NQ1N2/PP3PPP/R1BR2K1 w - - 0 14\n",
      "[0.19373512] 0.6109751454932664 8/6k1/5np1/7p/2PK4/1P1N1P2/4r3/3R4 b - - 0 42\n",
      "[0.39628506] 0.16820717323114387 5b2/1r2n1k1/1p1p2p1/n6p/4N3/3P2P1/PPP4P/1R3RK1 b - - 1 26\n",
      "[-0.2456792] -0.3787158508198588 r1bq1rk1/pp1pbppp/4pn2/2p1P3/8/5Q1N/PPPP1PPP/RNB1K2R b KQ - 0 9\n",
      "[0.68936825] 1.0 8/8/7R/8/6p1/4k1b1/1r6/2K5 b - - 17 54\n",
      "[0.19394124] 0.3577466837574652 r1b1kb1r/ppq2pp1/2n5/3p3p/3P2n1/5NP1/PP3PBP/RNBQ1RK1 w kq - 0 11\n",
      "[-0.3504181] -0.41089098951347813 8/8/3kp3/p3bpp1/8/5P2/P1B3K1/8 b - - 1 40\n",
      "[-0.04686308] 0.04156486963612749 rnbqkb1r/pppp1ppp/5n2/4p3/8/4P2P/PPPP1PP1/RNBQKBNR w KQkq - 0 3\n",
      "[0.25695705] 0.06920392276152709 r1b2k1r/p1pq1ppp/2pn4/8/Q7/BBP5/P4PPP/R3R1K1 b - - 5 14\n",
      "[-0.35325456] -0.3240595646611759 rnbqk2r/pp3ppp/5b2/4p3/3p4/P1NP3P/1PP2PP1/R2QKBNR w KQkq - 0 9\n",
      "[0.05477381] -0.1648375447849061 rn2q1k1/1p4bp/p2p2p1/2pPp1BP/2PR4/2N2r2/PP2QP2/2K4R b - - 0 18\n",
      "[0.10965383] 0.16146406412781644 rnbqr1k1/pp1pppbp/2p2np1/6B1/2PP4/2NBPN2/PP3PPP/R2QK2R b KQ - 3 7\n",
      "[0.83058727] 1.0 8/3K4/5k2/4q2p/7P/8/8/5b2 w - - 22 60\n",
      "[0.15233493] 0.23467928914553982 r1bqk2r/3nbpp1/p1np3p/1ppNp3/4P3/P2P2B1/BPP1NPPP/R2Q1RK1 b kq - 1 12\n",
      "[-0.19126308] -1.0 8/8/7p/5kp1/8/7P/6K1/8 b - - 1 43\n",
      "[0.41712296] 0.0 8/4k3/2R5/1p2P3/8/4K3/2pr4/8 b - - 3 46\n",
      "[0.10717511] 0.02425539296249868 rnbqkbnr/pp1p1pp1/4p2p/2p1P3/8/5N2/PPPP1PPP/RNBQKB1R w KQkq - 0 4\n",
      "[0.8110335] 0.9996222478770604 r1b2q1k/1ppp2pp/5p2/p4P2/2B1QB2/2P3P1/PP5P/RN2K1R1 b Q - 1 17\n",
      "[0.7622521] 1.0 4R3/p5pk/2pB3n/3p3Q/6r1/2N5/PPP4K/8 b - - 2 30\n",
      "[0.7402072] 1.0 6k1/3K2pp/r4p2/P3p3/8/4P1P1/8/8 w - - 2 36\n",
      "[0.25077033] 0.257469106578325 4r3/2p1kp2/2p5/1p2Pq2/pP2R3/P7/2P2PQ1/1K6 w - - 2 32\n",
      "[0.04161215] -0.9999999999999982 8/8/5k2/p1pbp2p/P2p3P/1P1P2K1/2P5/8 w - - 0 37\n",
      "[0.22761273] 0.08642723372588978 1rbqnbk1/p2p1p1p/6p1/n2P4/1p3P2/3P1NP1/PPP3BP/1R1Q1RK1 w - - 1 15\n",
      "[0.52353454] 0.0 8/8/5kP1/8/1p2P3/4K3/8/8 w - - 1 51\n",
      "[0.5157039] -0.3963861095195873 8/4R3/8/6p1/3p1k2/5P1P/1r6/4K3 w - - 3 47\n",
      "[-0.56008977] -0.7750246199656429 1r1r2k1/pp3ppp/n1p5/3p1p2/3P4/2P5/1K2P1PP/4RBR1 w - - 1 19\n",
      "[-0.2671407] 1.0 8/8/8/p1pbpk1p/P2p3P/1P1P3K/2P5/8 w - - 2 38\n",
      "[-0.4492798] -0.08986603792967096 r1bq1rk1/pp1n1ppp/3N1b2/4p3/3p4/P2P1Q1P/1PP2PP1/R3KBNR b KQ - 5 11\n",
      "[0.09287071] 0.4613822745017895 r1bq1rk1/pp2bppp/2n1p3/8/2QPP3/2N2N2/PP3PPP/R1BR2K1 b - - 4 12\n",
      "[-0.00415915] 0.10016928061937791 2rr4/5pkp/4p1p1/p1p1R3/Pp6/1P1P2P1/2P2PKP/4R3 w - - 3 24\n",
      "[-0.07703459] 0.2444796111835179 r2qr1k1/pp1b1pb1/2p1pnpp/2PpN3/1P1P1P2/P1NBP2P/6P1/2RQR1K1 b - - 0 17\n",
      "[0.3156439] 1.0 2r5/5p2/p4n2/6k1/P7/3K4/4p3/8 b - - 1 51\n",
      "[-0.24110007] 0.020791418713248522 rn2k2r/p4ppp/8/3PP3/Pp6/b2B2RP/P1KN4/R7 b kq - 0 24\n",
      "[0.2038945] -0.19834835668154938 1rbqnbk1/p4p2/3p2p1/n2P3p/1p3P2/3P2P1/PPP2NBP/1R1Q1RK1 b - - 1 17\n",
      "[-0.51641685] 0.9791687299432643 2r5/p1P3p1/4p2p/5p2/1k2pP2/7P/r4PP1/2RR1K2 w - - 1 33\n",
      "[-0.25041902] 0.20831560241084324 2kr3r/p1p1q3/2Q1bnpb/5p1p/5N1P/P1PpP3/5PP1/R1B1K2R w KQ - 0 19\n",
      "[0.8417237] 0.9994840110665257 r4k2/1p2r3/3R1p2/p2p4/3P4/2P2P2/PP3BPP/RN4K1 b - - 0 28\n",
      "[-0.3909589] -0.9999985644858674 2r1r1k1/6pp/p4p2/P3p3/7q/4PK2/5PPP/1R1R4 w - - 2 25\n",
      "[0.8340616] 0.9612122295051362 8/4r1pk/8/p4PPp/7P/bPR5/2P5/1K1R4 b - - 0 33\n",
      "[0.3446002] 0.3577466837574652 2k4r/pp2b1pp/8/2p5/4RB2/8/PPP2PPP/6K1 b - - 0 19\n",
      "[-0.00345629] -0.0034657220268392575 r4rk1/1pp2ppp/p2p4/4pN2/2B1P3/3P4/PPP2P1K/5R2 b - - 1 18\n",
      "[0.74577093] 0.999999998692009 1k2r3/ppRbP1q1/3P1p1p/8/8/6P1/P4P1P/3QR1K1 b - - 2 27\n",
      "[0.04193246] 0.8213725114010577 2k1r3/1pp2rpp/p7/4ppB1/8/P2P4/1PP2PPP/R2KR3 b - - 0 21\n",
      "[0.15889215] -0.9524597658511424 r7/3k1p1p/PB1p2pb/P2Pp3/1R6/7P/2r2PP1/6K1 w - - 1 30\n",
      "[0.15313148] 1.0 2r5/5p2/p7/3K2k1/P3p1n1/8/8/8 b - - 0 48\n"
     ]
    },
    {
     "ename": "IndexError",
     "evalue": "index 64 is out of bounds for axis 0 with size 64",
     "output_type": "error",
     "traceback": [
      "\u001b[0;31m---------------------------------------------------------------------------\u001b[0m",
      "\u001b[0;31mIndexError\u001b[0m                                Traceback (most recent call last)",
      "\u001b[1;32m/home/levigibson/Pictures/programming/python/value-net/model.ipynb Cell 8'\u001b[0m in \u001b[0;36m<cell line: 3>\u001b[0;34m()\u001b[0m\n\u001b[1;32m      <a href='vscode-notebook-cell:/home/levigibson/Pictures/programming/python/value-net/model.ipynb#ch0000007?line=1'>2</a>\u001b[0m act \u001b[39m=\u001b[39m val_generator[\u001b[39m0\u001b[39m][\u001b[39m1\u001b[39m] \u001b[39m*\u001b[39m \u001b[39m2\u001b[39m \u001b[39m-\u001b[39m \u001b[39m1\u001b[39m\n\u001b[1;32m      <a href='vscode-notebook-cell:/home/levigibson/Pictures/programming/python/value-net/model.ipynb#ch0000007?line=2'>3</a>\u001b[0m \u001b[39mfor\u001b[39;00m i \u001b[39min\u001b[39;00m \u001b[39mrange\u001b[39m(\u001b[39m128\u001b[39m):\n\u001b[0;32m----> <a href='vscode-notebook-cell:/home/levigibson/Pictures/programming/python/value-net/model.ipynb#ch0000007?line=3'>4</a>\u001b[0m     \u001b[39mprint\u001b[39m(pred[i], act[i], val_generator\u001b[39m.\u001b[39mgetfen(\u001b[39m0\u001b[39m)[i])\n",
      "\u001b[0;31mIndexError\u001b[0m: index 64 is out of bounds for axis 0 with size 64"
     ]
    }
   ],
   "source": [
    "pred = model.predict(val_generator[0][0]) * 2 - 1\n",
    "act = val_generator[0][1] * 2 - 1\n",
    "for i in range(128):\n",
    "    print(pred[i], act[i], val_generator.getfen(0)[i])"
   ]
  },
  {
   "cell_type": "code",
   "execution_count": 20,
   "metadata": {},
   "outputs": [
    {
     "name": "stdout",
     "output_type": "stream",
     "text": [
      "INFO:tensorflow:Assets written to: production/assets\n"
     ]
    }
   ],
   "source": [
    "import time\n",
    "# model.save(\"models/model-{}\".format(int(time.time())))\n",
    "model.save(\"production/\")"
   ]
  }
 ],
 "metadata": {
  "interpreter": {
   "hash": "916dbcbb3f70747c44a77c7bcd40155683ae19c65e1c03b4aa3499c5328201f1"
  },
  "kernelspec": {
   "display_name": "Python 3.8.10 64-bit",
   "language": "python",
   "name": "python3"
  },
  "language_info": {
   "codemirror_mode": {
    "name": "ipython",
    "version": 3
   },
   "file_extension": ".py",
   "mimetype": "text/x-python",
   "name": "python",
   "nbconvert_exporter": "python",
   "pygments_lexer": "ipython3",
   "version": "3.8.10"
  },
  "orig_nbformat": 4
 },
 "nbformat": 4,
 "nbformat_minor": 2
}
