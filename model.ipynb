{
 "cells": [
  {
   "cell_type": "code",
   "execution_count": 1,
   "metadata": {},
   "outputs": [],
   "source": [
    "import tensorflow as tf\n",
    "from tensorflow.keras.models import Sequential\n",
    "from tensorflow.keras.layers import Dense\n",
    "from tensorflow.keras.activations import relu\n",
    "from DataLoader import DataLoader\n",
    "from halfkp import get_halfkp_indeicies\n",
    "import chess\n",
    "from chess import Board\n",
    "import matplotlib.pyplot as plt\n",
    "\n",
    "import numpy as np"
   ]
  },
  {
   "cell_type": "code",
   "execution_count": 2,
   "metadata": {},
   "outputs": [],
   "source": [
    "training_generator = DataLoader(64, \"train\")\n",
    "val_generator = DataLoader(64, \"val\", shuffle=False)"
   ]
  },
  {
   "cell_type": "code",
   "execution_count": 3,
   "metadata": {},
   "outputs": [],
   "source": [
    "lossHistory = []\n",
    "valHistory = []\n",
    "class NnueCallbacks(tf.keras.callbacks.Callback):\n",
    "  def on_batch_end(self, batch, logs=None):\n",
    "    lossHistory.append(logs['loss'])\n",
    "    if batch and batch % 1000 == 0:\n",
    "      pred = self.model.predict(val_generator)\n",
    "      loss = (pred.flatten() - val_generator.labels.flatten()[0:len(val_generator)*64])**2\n",
    "      loss = np.sum(loss) / len(loss)\n",
    "      valHistory.append(loss)\n",
    "\n",
    "      plt.plot(valHistory)\n",
    "      plt.savefig(\"val.png\", dpi=200)\n",
    "      plt.clf()\n",
    "\n",
    "      plt.plot(lossHistory[20:])\n",
    "      plt.savefig(\"loss.png\", dpi=200)\n",
    "      plt.clf()\n",
    "      \n",
    "      print(\" val_loss : {}\".format(loss))\n",
    "\n",
    "      self.model.save(\"models/model-{}-{}\".format(len(valHistory), int(loss*10000)))"
   ]
  },
  {
   "cell_type": "code",
   "execution_count": 4,
   "metadata": {},
   "outputs": [],
   "source": [
    "from keras import backend as K\n",
    "def clipped_relu(x):\n",
    "    return K.relu(x, max_value=2)"
   ]
  },
  {
   "cell_type": "code",
   "execution_count": 5,
   "metadata": {},
   "outputs": [
    {
     "name": "stderr",
     "output_type": "stream",
     "text": [
      "2022-03-31 12:28:26.055633: I tensorflow/stream_executor/cuda/cuda_gpu_executor.cc:936] successful NUMA node read from SysFS had negative value (-1), but there must be at least one NUMA node, so returning NUMA node zero\n",
      "2022-03-31 12:28:26.096191: I tensorflow/stream_executor/cuda/cuda_gpu_executor.cc:936] successful NUMA node read from SysFS had negative value (-1), but there must be at least one NUMA node, so returning NUMA node zero\n",
      "2022-03-31 12:28:26.096600: I tensorflow/stream_executor/cuda/cuda_gpu_executor.cc:936] successful NUMA node read from SysFS had negative value (-1), but there must be at least one NUMA node, so returning NUMA node zero\n",
      "2022-03-31 12:28:26.098160: I tensorflow/core/platform/cpu_feature_guard.cc:151] This TensorFlow binary is optimized with oneAPI Deep Neural Network Library (oneDNN) to use the following CPU instructions in performance-critical operations:  AVX2 FMA\n",
      "To enable them in other operations, rebuild TensorFlow with the appropriate compiler flags.\n",
      "2022-03-31 12:28:26.099567: I tensorflow/stream_executor/cuda/cuda_gpu_executor.cc:936] successful NUMA node read from SysFS had negative value (-1), but there must be at least one NUMA node, so returning NUMA node zero\n",
      "2022-03-31 12:28:26.099823: I tensorflow/stream_executor/cuda/cuda_gpu_executor.cc:936] successful NUMA node read from SysFS had negative value (-1), but there must be at least one NUMA node, so returning NUMA node zero\n",
      "2022-03-31 12:28:26.100004: I tensorflow/stream_executor/cuda/cuda_gpu_executor.cc:936] successful NUMA node read from SysFS had negative value (-1), but there must be at least one NUMA node, so returning NUMA node zero\n",
      "2022-03-31 12:28:27.152730: I tensorflow/stream_executor/cuda/cuda_gpu_executor.cc:936] successful NUMA node read from SysFS had negative value (-1), but there must be at least one NUMA node, so returning NUMA node zero\n",
      "2022-03-31 12:28:27.153075: I tensorflow/stream_executor/cuda/cuda_gpu_executor.cc:936] successful NUMA node read from SysFS had negative value (-1), but there must be at least one NUMA node, so returning NUMA node zero\n",
      "2022-03-31 12:28:27.153260: I tensorflow/stream_executor/cuda/cuda_gpu_executor.cc:936] successful NUMA node read from SysFS had negative value (-1), but there must be at least one NUMA node, so returning NUMA node zero\n",
      "2022-03-31 12:28:27.153726: I tensorflow/core/common_runtime/gpu/gpu_device.cc:1525] Created device /job:localhost/replica:0/task:0/device:GPU:0 with 2193 MB memory:  -> device: 0, name: NVIDIA GeForce GTX 1650, pci bus id: 0000:01:00.0, compute capability: 7.5\n"
     ]
    }
   ],
   "source": [
    "halfAcc = Dense(256, clipped_relu)\n",
    "i1 = tf.keras.Input((64*64*12,))\n",
    "i2 = tf.keras.Input((64*64*12,))\n",
    "acc1 = halfAcc(i1)\n",
    "acc2 = halfAcc(i2)\n",
    "layerStack = tf.keras.layers.Concatenate()([acc1, acc2])\n",
    "\n",
    "h1 = Dense(32, clipped_relu)\n",
    "h2 = Dense(32, clipped_relu)\n",
    "out = Dense(1, 'sigmoid')\n",
    "\n",
    "layerStack = out(h2(h1(layerStack)))\n",
    "\n",
    "model = tf.keras.Model(inputs=[i1, i2], outputs=layerStack)\n",
    "\n",
    "model.compile(optimizer=tf.keras.optimizers.Adam(), loss='mse', metrics=['mae'])"
   ]
  },
  {
   "cell_type": "code",
   "execution_count": null,
   "metadata": {},
   "outputs": [],
   "source": [
    "model = tf.keras.models.load_model(\"models/model-4-1089/\")"
   ]
  },
  {
   "cell_type": "code",
   "execution_count": 6,
   "metadata": {},
   "outputs": [
    {
     "name": "stdout",
     "output_type": "stream",
     "text": [
      "   998/109375 [..............................] - ETA: 27:42 - loss: 0.0916 - mae: 0.2408 val_loss : 0.08932557487542972\n"
     ]
    },
    {
     "name": "stderr",
     "output_type": "stream",
     "text": [
      "2022-03-31 12:28:54.770058: W tensorflow/python/util/util.cc:368] Sets are not currently considered sequences, but this may change in the future, so consider avoiding using them.\n",
      "2022-03-31 12:28:55.186328: W tensorflow/core/framework/cpu_allocator_impl.cc:82] Allocation of 50331648 exceeds 10% of free system memory.\n",
      "2022-03-31 12:28:55.218637: W tensorflow/core/framework/cpu_allocator_impl.cc:82] Allocation of 50331648 exceeds 10% of free system memory.\n",
      "2022-03-31 12:28:55.249865: W tensorflow/core/framework/cpu_allocator_impl.cc:82] Allocation of 50331648 exceeds 10% of free system memory.\n"
     ]
    },
    {
     "name": "stdout",
     "output_type": "stream",
     "text": [
      "INFO:tensorflow:Assets written to: models/model-1-893/assets\n",
      "  1998/109375 [..............................] - ETA: 33:23 - loss: 0.0884 - mae: 0.2349 val_loss : 0.08562767029525926\n"
     ]
    },
    {
     "name": "stderr",
     "output_type": "stream",
     "text": [
      "2022-03-31 12:29:17.116045: W tensorflow/core/framework/cpu_allocator_impl.cc:82] Allocation of 50331648 exceeds 10% of free system memory.\n",
      "2022-03-31 12:29:17.134277: W tensorflow/core/framework/cpu_allocator_impl.cc:82] Allocation of 50331648 exceeds 10% of free system memory.\n"
     ]
    },
    {
     "name": "stdout",
     "output_type": "stream",
     "text": [
      "INFO:tensorflow:Assets written to: models/model-2-856/assets\n",
      "  3000/109375 [..............................] - ETA: 34:37 - loss: 0.0862 - mae: 0.2307 val_loss : 0.08264996677778584\n",
      "INFO:tensorflow:Assets written to: models/model-3-826/assets\n",
      "  4000/109375 [>.............................] - ETA: 34:43 - loss: 0.0844 - mae: 0.2273 val_loss : 0.08110595743005646\n",
      "INFO:tensorflow:Assets written to: models/model-4-811/assets\n",
      "  4997/109375 [>.............................] - ETA: 34:57 - loss: 0.0829 - mae: 0.2245 val_loss : 0.07963004862923224\n",
      "INFO:tensorflow:Assets written to: models/model-5-796/assets\n",
      "  6000/109375 [>.............................] - ETA: 34:48 - loss: 0.0817 - mae: 0.2222 val_loss : 0.07882303895897022\n",
      "INFO:tensorflow:Assets written to: models/model-6-788/assets\n",
      "  7000/109375 [>.............................] - ETA: 35:00 - loss: 0.0806 - mae: 0.2202 val_loss : 0.0778901443460914\n",
      "INFO:tensorflow:Assets written to: models/model-7-778/assets\n",
      "  7998/109375 [=>............................] - ETA: 34:47 - loss: 0.0798 - mae: 0.2186 val_loss : 0.07776800860766168\n",
      "INFO:tensorflow:Assets written to: models/model-8-777/assets\n",
      "  8998/109375 [=>............................] - ETA: 34:26 - loss: 0.0791 - mae: 0.2173 val_loss : 0.07747849769603264\n",
      "INFO:tensorflow:Assets written to: models/model-9-774/assets\n",
      "  9997/109375 [=>............................] - ETA: 34:04 - loss: 0.0786 - mae: 0.2161 val_loss : 0.07729964677516458\n",
      "INFO:tensorflow:Assets written to: models/model-10-772/assets\n",
      " 10998/109375 [==>...........................] - ETA: 33:37 - loss: 0.0781 - mae: 0.2151 val_loss : 0.0759481348087325\n",
      "INFO:tensorflow:Assets written to: models/model-11-759/assets\n",
      " 12000/109375 [==>...........................] - ETA: 33:14 - loss: 0.0775 - mae: 0.2140 val_loss : 0.0754496345576788\n",
      "INFO:tensorflow:Assets written to: models/model-12-754/assets\n",
      " 12999/109375 [==>...........................] - ETA: 32:49 - loss: 0.0770 - mae: 0.2131 val_loss : 0.07523346679621032\n",
      "INFO:tensorflow:Assets written to: models/model-13-752/assets\n",
      " 13996/109375 [==>...........................] - ETA: 32:24 - loss: 0.0766 - mae: 0.2122 val_loss : 0.07449765600041526\n",
      "INFO:tensorflow:Assets written to: models/model-14-744/assets\n",
      " 14999/109375 [===>..........................] - ETA: 32:05 - loss: 0.0762 - mae: 0.2114 val_loss : 0.07457709037427328\n",
      "INFO:tensorflow:Assets written to: models/model-15-745/assets\n",
      " 16000/109375 [===>..........................] - ETA: 35:57 - loss: 0.0759 - mae: 0.2108 val_loss : 0.07407516772159128\n",
      "INFO:tensorflow:Assets written to: models/model-16-740/assets\n",
      " 17000/109375 [===>..........................] - ETA: 40:07 - loss: 0.0755 - mae: 0.2100 val_loss : 0.07431064727911835\n",
      "INFO:tensorflow:Assets written to: models/model-17-743/assets\n",
      " 17998/109375 [===>..........................] - ETA: 40:55 - loss: 0.0752 - mae: 0.2094 val_loss : 0.0730679431939581\n",
      "INFO:tensorflow:Assets written to: models/model-18-730/assets\n",
      " 19000/109375 [====>.........................] - ETA: 39:58 - loss: 0.0749 - mae: 0.2089 val_loss : 0.07406564207161503\n",
      "INFO:tensorflow:Assets written to: models/model-19-740/assets\n",
      " 19996/109375 [====>.........................] - ETA: 39:12 - loss: 0.0746 - mae: 0.2083 val_loss : 0.0729165853199535\n",
      "INFO:tensorflow:Assets written to: models/model-20-729/assets\n",
      " 20998/109375 [====>.........................] - ETA: 38:14 - loss: 0.0744 - mae: 0.2078 val_loss : 0.072607423083383\n",
      "INFO:tensorflow:Assets written to: models/model-21-726/assets\n",
      " 21999/109375 [=====>........................] - ETA: 37:22 - loss: 0.0741 - mae: 0.2073 val_loss : 0.07318483008311867\n",
      "INFO:tensorflow:Assets written to: models/model-22-731/assets\n",
      " 22998/109375 [=====>........................] - ETA: 36:31 - loss: 0.0739 - mae: 0.2068 val_loss : 0.07264504641465258\n",
      "INFO:tensorflow:Assets written to: models/model-23-726/assets\n",
      " 23998/109375 [=====>........................] - ETA: 35:46 - loss: 0.0737 - mae: 0.2063 val_loss : 0.07310787750425389\n",
      "INFO:tensorflow:Assets written to: models/model-24-731/assets\n",
      " 24996/109375 [=====>........................] - ETA: 35:02 - loss: 0.0734 - mae: 0.2059 val_loss : 0.07285008808916948\n",
      "INFO:tensorflow:Assets written to: models/model-25-728/assets\n",
      " 25998/109375 [======>.......................] - ETA: 34:19 - loss: 0.0732 - mae: 0.2054 val_loss : 0.07250640216371732\n",
      "INFO:tensorflow:Assets written to: models/model-26-725/assets\n",
      " 26997/109375 [======>.......................] - ETA: 33:39 - loss: 0.0730 - mae: 0.2050 val_loss : 0.07265361934737781\n",
      "INFO:tensorflow:Assets written to: models/model-27-726/assets\n",
      " 27998/109375 [======>.......................] - ETA: 33:01 - loss: 0.0728 - mae: 0.2046 val_loss : 0.07243789711634464\n",
      "INFO:tensorflow:Assets written to: models/model-28-724/assets\n",
      " 28999/109375 [======>.......................] - ETA: 32:22 - loss: 0.0726 - mae: 0.2042 val_loss : 0.07128310450016462\n",
      "INFO:tensorflow:Assets written to: models/model-29-712/assets\n",
      " 29997/109375 [=======>......................] - ETA: 31:53 - loss: 0.0725 - mae: 0.2039 val_loss : 0.07244306003135365\n",
      "INFO:tensorflow:Assets written to: models/model-30-724/assets\n",
      " 30996/109375 [=======>......................] - ETA: 31:18 - loss: 0.0723 - mae: 0.2036 val_loss : 0.07223620658505234\n",
      "INFO:tensorflow:Assets written to: models/model-31-722/assets\n",
      " 31997/109375 [=======>......................] - ETA: 30:43 - loss: 0.0721 - mae: 0.2032 val_loss : 0.07149580949636324\n",
      "INFO:tensorflow:Assets written to: models/model-32-714/assets\n",
      " 32999/109375 [========>.....................] - ETA: 30:08 - loss: 0.0720 - mae: 0.2030 val_loss : 0.07151864667380388\n",
      "INFO:tensorflow:Assets written to: models/model-33-715/assets\n",
      " 33996/109375 [========>.....................] - ETA: 29:39 - loss: 0.0718 - mae: 0.2026 val_loss : 0.07133919745330293\n",
      "INFO:tensorflow:Assets written to: models/model-34-713/assets\n",
      " 34999/109375 [========>.....................] - ETA: 29:09 - loss: 0.0716 - mae: 0.2023 val_loss : 0.07144407526413363\n",
      "INFO:tensorflow:Assets written to: models/model-35-714/assets\n",
      " 36000/109375 [========>.....................] - ETA: 28:37 - loss: 0.0715 - mae: 0.2020 val_loss : 0.07087303177763053\n",
      "INFO:tensorflow:Assets written to: models/model-36-708/assets\n",
      " 36998/109375 [=========>....................] - ETA: 28:07 - loss: 0.0714 - mae: 0.2017 val_loss : 0.07115431899431285\n",
      "INFO:tensorflow:Assets written to: models/model-37-711/assets\n",
      " 37998/109375 [=========>....................] - ETA: 27:36 - loss: 0.0712 - mae: 0.2014 val_loss : 0.07127861331963868\n",
      "INFO:tensorflow:Assets written to: models/model-38-712/assets\n",
      " 38997/109375 [=========>....................] - ETA: 27:07 - loss: 0.0711 - mae: 0.2011 val_loss : 0.07114396408032754\n",
      "INFO:tensorflow:Assets written to: models/model-39-711/assets\n",
      " 39996/109375 [=========>....................] - ETA: 26:39 - loss: 0.0710 - mae: 0.2008 val_loss : 0.0708220266609144\n",
      "INFO:tensorflow:Assets written to: models/model-40-708/assets\n",
      " 40997/109375 [==========>...................] - ETA: 26:10 - loss: 0.0708 - mae: 0.2005 val_loss : 0.07046070230027743\n",
      "INFO:tensorflow:Assets written to: models/model-41-704/assets\n",
      " 41996/109375 [==========>...................] - ETA: 25:42 - loss: 0.0707 - mae: 0.2003 val_loss : 0.07078504882711481\n",
      "INFO:tensorflow:Assets written to: models/model-42-707/assets\n",
      " 42999/109375 [==========>...................] - ETA: 25:16 - loss: 0.0706 - mae: 0.2001 val_loss : 0.0712681357204327\n",
      "INFO:tensorflow:Assets written to: models/model-43-712/assets\n",
      " 43999/109375 [===========>..................] - ETA: 24:49 - loss: 0.0704 - mae: 0.1998 val_loss : 0.07079872341239869\n",
      "INFO:tensorflow:Assets written to: models/model-44-707/assets\n",
      " 44998/109375 [===========>..................] - ETA: 24:24 - loss: 0.0703 - mae: 0.1996 val_loss : 0.07036480639083004\n",
      "INFO:tensorflow:Assets written to: models/model-45-703/assets\n",
      " 45997/109375 [===========>..................] - ETA: 23:57 - loss: 0.0702 - mae: 0.1994 val_loss : 0.07040205378010984\n",
      "INFO:tensorflow:Assets written to: models/model-46-704/assets\n",
      " 46998/109375 [===========>..................] - ETA: 23:31 - loss: 0.0701 - mae: 0.1991 val_loss : 0.07067058428354069\n",
      "INFO:tensorflow:Assets written to: models/model-47-706/assets\n",
      " 47999/109375 [============>.................] - ETA: 23:04 - loss: 0.0700 - mae: 0.1989 val_loss : 0.0708960329405986\n",
      "INFO:tensorflow:Assets written to: models/model-48-708/assets\n",
      " 49000/109375 [============>.................] - ETA: 22:38 - loss: 0.0699 - mae: 0.1987 val_loss : 0.0700713382200945\n",
      "INFO:tensorflow:Assets written to: models/model-49-700/assets\n",
      " 49997/109375 [============>.................] - ETA: 22:12 - loss: 0.0698 - mae: 0.1985 val_loss : 0.0703682120008931\n",
      "INFO:tensorflow:Assets written to: models/model-50-703/assets\n",
      " 50999/109375 [============>.................] - ETA: 21:48 - loss: 0.0697 - mae: 0.1982 val_loss : 0.07027096902958482\n",
      "INFO:tensorflow:Assets written to: models/model-51-702/assets\n",
      " 51996/109375 [=============>................] - ETA: 21:23 - loss: 0.0696 - mae: 0.1981 val_loss : 0.07025689239165052\n",
      "INFO:tensorflow:Assets written to: models/model-52-702/assets\n",
      " 53000/109375 [=============>................] - ETA: 20:58 - loss: 0.0695 - mae: 0.1979 val_loss : 0.07033193975214624\n",
      "INFO:tensorflow:Assets written to: models/model-53-703/assets\n",
      " 53998/109375 [=============>................] - ETA: 20:33 - loss: 0.0694 - mae: 0.1977 val_loss : 0.0703187126241066\n",
      "INFO:tensorflow:Assets written to: models/model-54-703/assets\n",
      " 54998/109375 [==============>...............] - ETA: 20:09 - loss: 0.0693 - mae: 0.1975 val_loss : 0.0700944396757773\n",
      "INFO:tensorflow:Assets written to: models/model-55-700/assets\n",
      " 55996/109375 [==============>...............] - ETA: 19:44 - loss: 0.0692 - mae: 0.1973 val_loss : 0.07055119200274344\n",
      "INFO:tensorflow:Assets written to: models/model-56-705/assets\n",
      " 56997/109375 [==============>...............] - ETA: 19:20 - loss: 0.0692 - mae: 0.1972 val_loss : 0.07046620784876577\n",
      "INFO:tensorflow:Assets written to: models/model-57-704/assets\n",
      " 58000/109375 [==============>...............] - ETA: 18:56 - loss: 0.0691 - mae: 0.1970 val_loss : 0.07021358656389681\n",
      "INFO:tensorflow:Assets written to: models/model-58-702/assets\n",
      " 58996/109375 [===============>..............] - ETA: 18:31 - loss: 0.0690 - mae: 0.1968 val_loss : 0.07011751143919215\n",
      "INFO:tensorflow:Assets written to: models/model-59-701/assets\n",
      " 59999/109375 [===============>..............] - ETA: 18:07 - loss: 0.0689 - mae: 0.1966 val_loss : 0.06993776547214697\n",
      "INFO:tensorflow:Assets written to: models/model-60-699/assets\n",
      " 60999/109375 [===============>..............] - ETA: 17:43 - loss: 0.0688 - mae: 0.1964 val_loss : 0.07082598104416545\n",
      "INFO:tensorflow:Assets written to: models/model-61-708/assets\n",
      " 61997/109375 [================>.............] - ETA: 17:20 - loss: 0.0687 - mae: 0.1963 val_loss : 0.06995895830559264\n",
      "INFO:tensorflow:Assets written to: models/model-62-699/assets\n",
      " 62997/109375 [================>.............] - ETA: 16:56 - loss: 0.0686 - mae: 0.1961 val_loss : 0.07032488056704214\n",
      "INFO:tensorflow:Assets written to: models/model-63-703/assets\n",
      " 63997/109375 [================>.............] - ETA: 16:33 - loss: 0.0686 - mae: 0.1960 val_loss : 0.06994787639858982\n",
      "INFO:tensorflow:Assets written to: models/model-64-699/assets\n",
      " 64997/109375 [================>.............] - ETA: 16:09 - loss: 0.0685 - mae: 0.1958 val_loss : 0.07045152502342122\n",
      "INFO:tensorflow:Assets written to: models/model-65-704/assets\n",
      " 65999/109375 [=================>............] - ETA: 15:46 - loss: 0.0685 - mae: 0.1957 val_loss : 0.07050068370006339\n",
      "INFO:tensorflow:Assets written to: models/model-66-705/assets\n",
      " 66997/109375 [=================>............] - ETA: 15:23 - loss: 0.0684 - mae: 0.1955 val_loss : 0.07045406260544212\n",
      "INFO:tensorflow:Assets written to: models/model-67-704/assets\n",
      " 68000/109375 [=================>............] - ETA: 15:00 - loss: 0.0683 - mae: 0.1954 val_loss : 0.06951666848235001\n",
      "INFO:tensorflow:Assets written to: models/model-68-695/assets\n",
      " 68999/109375 [=================>............] - ETA: 14:38 - loss: 0.0682 - mae: 0.1953"
     ]
    }
   ],
   "source": [
    "#625/625 [==============================] - 76s 120ms/step - loss: 0.0710 - mae: 0.1957 - val_loss: 0.0967 - val_mae: 0.2318\n",
    "model.fit(training_generator, validation_data=val_generator, epochs=1, callbacks=[NnueCallbacks()])"
   ]
  },
  {
   "cell_type": "code",
   "execution_count": 18,
   "metadata": {},
   "outputs": [
    {
     "name": "stdout",
     "output_type": "stream",
     "text": [
      "[0.13856101]\n"
     ]
    }
   ],
   "source": [
    "indicies = get_halfkp_indeicies(Board(\"r3k1nr/pp2ppbp/n2p2p1/q1p5/3N1P2/1P2P3/PBPP3P/RN1K1B1R w kq - 1 9\"))\n",
    "indicies = indicies.reshape(2, -1)\n",
    "indicies = (np.array([indicies[0], indicies[0]]), np.array([indicies[1], indicies[1]]))\n",
    "pred = model.predict(indicies)\n",
    "print(pred[0])"
   ]
  },
  {
   "cell_type": "code",
   "execution_count": 8,
   "metadata": {},
   "outputs": [
    {
     "name": "stdout",
     "output_type": "stream",
     "text": [
      "[-0.3675208] 1.0 r6r/pp2k1pp/2p1Bp2/2b1p3/4P3/8/PPPB1PPP/2KR3R b - - 0 14\n",
      "[-0.24875295] -0.9999999999999999 r5k1/1b3ppp/p3p3/1pP2n2/8/5NP1/3R1PKP/5R2 b - - 1 24\n",
      "[-0.28492737] 1.0 r2q1rk1/1b1pbppp/pp2p3/2p3n1/P1BnP1Q1/1P4P1/1BPP1P1P/R4RNK w - - 7 15\n",
      "[-0.1943143] 1.0 8/p2Q2R1/7p/3pk2B/8/3P4/PPn2P1P/nN3K2 w - - 1 29\n",
      "[-0.27632397] 1.0 rn1qk2r/pp2bppb/2p1p1np/3pP3/3P4/P2B1N1P/1PPB1PP1/RN1Q1RK1 b kq - 0 10\n",
      "[-0.47265935] 1.0 rn1q1rk1/pp3b1p/2pb1p2/3p1Bp1/3Pp2P/2P1P3/PP1N1PP1/R1BQ1RK1 b - - 0 15\n",
      "[-0.42469263] 1.0 2R5/5ppk/8/6p1/2p5/3p4/6rr/3R2K1 w - - 4 45\n",
      "[-0.42500538] 1.0 1k3r2/p1p5/1p5P/8/6P1/5P2/8/4RRK1 b - - 0 35\n",
      "[-0.26649833] 1.0 rn2r2k/pp1b2pp/3q1p2/2bPp3/2B4N/2P3B1/P4PPP/R2Q1R1K w - - 6 18\n",
      "[-0.11016059] 1.0 4r1k1/p4p2/1p1p1bpp/2n5/8/2P2NPP/PP3PB1/R4K2 w - - 0 20\n",
      "[-0.22793901] 1.0 rn1qkbnr/pp3ppp/2pp4/1B1Pp3/4P1b1/5N2/PPP2PPP/RNBQK2R w KQkq - 0 6\n",
      "[0.39857173] 1.0 r3k1r1/2q1ppb1/2p5/p3p3/2P1P3/1PNQB1Pb/P4P1P/2KR2R1 b q - 1 22\n",
      "[0.36378467] 1.0 4rrk1/p4p2/1pp3p1/4Pp1p/1P1P1R2/2q1BQ1P/P4R1K/8 w - - 0 32\n",
      "[0.3673011] 1.0 3r1rk1/pp4pp/4pp2/8/2Pb4/2K4P/PP3P2/R6R w - - 0 22\n",
      "[0.8860533] 1.0 r4rk1/2p2pp1/p2p3p/4p1Q1/2N5/1PpP1BPR/P4K2/R7 b - - 0 28\n",
      "[0.3745191] 1.0 r1b2rk1/4np1p/p5p1/1pn1P3/2B5/2N2N1P/PP3PP1/R3R1K1 w - - 0 20\n",
      "[0.38539946] 1.0 3r1rk1/1p5p/p2pb3/2p1b3/P1P5/1PN1NBpP/8/2R1R1K1 w - - 0 28\n",
      "[0.9091866] 1.0 r2qk2r/1p2nppp/p1p1p3/8/3P3Q/P4N1P/1PP2PP1/R4RK1 b kq - 1 16\n",
      "[0.39321315] 1.0 rnbq1r1k/p3n1b1/1pp1pNpp/4P3/3p3B/3B1N2/PPPQ1PPP/R4RK1 b - - 3 14\n",
      "[0.4654268] 1.0 rn1qk2r/pbppnpbp/1p2p1p1/8/3P4/2N1PP2/PPPB2PP/R2QKBNR w KQkq - 1 7\n",
      "[0.2517177] 0.0 r1bq1rk1/2p2pbp/1pn2np1/p3p3/2P5/1P2P3/PB1NBPPP/1R1QK1NR w K - 0 11\n",
      "[-0.11543524] 0.020791418713248522 6k1/2p3bp/1p1p2r1/p2Pp3/2P5/5q1b/PP3RNB/6QK b - - 1 30\n",
      "[0.03077042] 0.04156486963612749 5bk1/2q3pp/2r2p2/p1rbp2n/2P1P2B/1B4PP/P4P1K/2NR1Q2 w - - 0 34\n",
      "[0.4635743] 0.11387321733362765 rnbqk1nr/pp1pppbp/6p1/2p5/2P5/5NP1/PP1PPPBP/RNBQK2R b KQkq - 1 4\n",
      "[-0.07681388] 0.0 r1bqk2r/ppp2ppp/2n1p3/3n4/1b1P4/2N2N2/PP1BPPPP/R2QKB1R w KQkq - 4 7\n",
      "[-0.05396456] 0.07954352413789079 r2r2k1/ppp4p/5bp1/4Pb2/5P2/1Q6/PP2BP2/R3K2R b KQ - 3 20\n",
      "[-0.20555347] 0.3846375318661255 r1b1kbnr/pp1ppppp/8/q2P4/2pnP3/2P5/PP3PPP/RNBQKBNR b KQkq - 1 6\n",
      "[0.10338199] -0.1648375447849061 8/8/PR2pk2/6p1/r7/2K5/8/8 w - - 0 51\n",
      "[-0.06484789] -0.141146483611846 r1b2rk1/pp5p/2p3p1/3p4/3b2P1/2P1p1NQ/PPK1B2P/4q3 w - - 0 23\n",
      "[0.03956306] -0.027718784880379266 8/7R/3Np1k1/p3P1p1/4N3/P5P1/5P1P/2R2K2 w - - 1 43\n",
      "[0.20929968] 0.945214820109344 r3rk2/2P1N1p1/p2B1p1p/1p6/4P1q1/1Q6/P4PPP/3RR1K1 b - - 0 27\n",
      "[0.9438833] 1.0 8/R5Br/2p1k3/2Pp1p2/1p3Pp1/1P2P1P1/4bK2/8 b - - 2 39\n",
      "[0.95749223] 1.0 3r1rk1/ppqnbpp1/2p1p2p/7P/2PPN1n1/3Q1N2/PP1B1P2/1K1R3R w - - 0 19\n",
      "[0.97026217] 1.0 4k2r/1rp1bp2/2p1qBp1/4p2p/8/1P1P1p1P/P1PQ1PP1/R3K2R w KQk - 0 18\n",
      "[-0.59014356] -0.9601434880672828 1k6/ppp1bp1p/2q2nr1/3N1R2/8/1P2PQ2/P1PP2PP/5RK1 b - - 0 19\n",
      "[-0.42838293] -0.9977119273760507 r1b1k3/pp1n3p/1qp1p3/2b5/3pPB2/1P1P3P/P1P1BP2/RN1QK1N1 w Qq - 1 14\n",
      "[-0.6487074] -0.997937640498122 3r2k1/pp5p/2p3p1/3p4/P2Pp1bq/2P1PrB1/1Q3PPP/R4RK1 b - - 9 20\n",
      "[-0.62262535] -0.9995015831636277 2k5/ppp2pp1/8/6Pp/5q2/PP4B1/2b3K1/6R1 b - - 1 27\n",
      "[-0.6852764] -0.9998673507342242 r4rk1/p4p2/4p3/2p1P1b1/3q4/5bNQ/PPPp2PP/R4R1K w - - 0 25\n",
      "[-0.4584822] -0.9999804166667071 r2qk1nr/2pb2pp/p2b1p2/1p2p3/4P3/1PPB1N2/P1Q2PPP/R1B2RK1 b kq - 3 13\n",
      "[-0.6595695] -0.9999839827228268 r1bqk2r/ppp2pp1/2np1n1p/2b1p3/2B1P3/2PP1N2/PP3PPP/RNBQ1RK1 w kq - 0 7\n",
      "[-0.6595695] -0.9999795850540477 r2qk2r/ppp2ppp/2n5/2b1p3/3P4/2P2b2/PP3PPP/RNBQK2R w KQkq - 0 10\n",
      "[0.16723502] -0.9999035640603424 4b3/2k4p/3p2p1/3Q4/P7/8/2P2PPP/4R1K1 b - - 0 38\n",
      "[0.18523121] 0.18833991719899434 r1b2rk1/pp2ppbp/2p2np1/2q5/5B2/1B3N1P/P1PQ1PP1/3R1RK1 w - - 0 17\n",
      "[0.15815878] 0.24773542738565202 1kr5/pp6/2b1p1Rp/4P3/3P3N/1q2n3/3QB1PK/8 w - - 2 34\n",
      "[0.20640719] 0.257469106578325 rnbqkb1r/pp1ppppp/5n2/2p5/8/N1P5/PP1PPPPP/1RBQKBNR b Kkq - 0 3\n",
      "[0.21337092] 0.23140177385966987 rnbqk2r/ppp2ppp/3b4/6n1/2BP1p2/5N2/PPP3PP/RNBQ1RK1 b kq - 2 8\n",
      "[0.01217234] -0.0242553929624989 4r3/1p4k1/p1p3p1/2Pp2Pp/1P1PrP2/P3PK2/4R3/8 w - h6 0 35\n",
      "[0.02241898] -0.2116285362590966 r4rk1/p1pq1pp1/2p1p3/3n2Q1/8/1BPP3P/P1P2P2/4RRK1 b - - 0 20\n",
      "[0.14008379] -0.20831560241084324 6k1/7p/5pp1/4b3/4P1PP/2rK4/8/8 w - - 3 41\n",
      "[0.2012248] -0.20831560241084324 r7/8/1K4p1/8/8/R7/1k5p/8 w - - 0 66\n",
      "[-0.18902284] -0.23140177385966987 5rk1/1bp3p1/p4q1p/1p1rpp2/3N4/P2PB2P/1PP1QPP1/1R1R2K1 b - - 0 19\n",
      "[-0.14769286] -0.28635170750503414 3rk3/1b1n1ppp/p3n3/1p2p3/4P3/BP3PP1/P6P/1N1B1RK1 w - - 1 23\n",
      "[-0.1444034] -0.27357558920792513 r3kb1r/pp3ppp/2b1p2n/3pP3/3p4/P1q1BN1P/3N1PP1/R2QK2R w KQkq - 0 12\n",
      "[-0.11145574] -0.19168052286983728 r2q1rk1/ppp2pp1/2npbn1p/2b1p3/N3P3/3P1NPP/PPP2PB1/R1BQ1RK1 b - - 4 9\n",
      "[-0.01889277] -0.35168739210477495 8/1p2rk1p/p1p3p1/2Pp1Q2/PP3PKP/8/6P1/4q2r b - - 10 39\n",
      "[0.01378536] -0.28635170750503414 4rrk1/p1p3pp/b2p4/2p5/8/P2n1PB1/1P4PP/3R2RK b - - 13 27\n",
      "[0.02455831] -0.017326945218914314 2r3k1/p3rpb1/Rnp3p1/1p6/1P2p3/4PB1P/5PP1/2R3K1 b - - 1 25\n",
      "[0.14980793] -0.4080062822856455 r2k3r/p2b1ppp/2n5/3Q4/3P4/B4N2/P4PPP/R3R1K1 b - - 4 18\n",
      "[0.35476005] -0.26715081343619185 rn1qkbnr/ppp1pppp/8/8/Q1pP2b1/2N5/PP2PPPP/R1B1KBNR b KQkq - 1 4\n",
      "[-0.03894794] -0.6363791027309247 r1b2k2/p4pp1/2p1pn1p/1pn5/2B2B2/2P2N2/PPP2PPP/3R2K1 w - - 0 16\n",
      "[-0.08829153] -0.7534134194149931 r1b3k1/p4rbp/1pp1p1pn/3p4/P2B3q/1PPB3P/2NPQPP1/R4RK1 b - - 0 18\n",
      "[-0.40919358] -0.09673714175054127 2k4r/ppp3p1/8/3rPp1p/1P4qP/6P1/P1K1N3/R5R1 b - - 1 22\n",
      "[-0.2751968] -0.9902947432448794 rnbqkbnr/ppp1pp1p/3p2p1/8/3P4/5N2/PPP1PPPP/RNBQKB1R w KQkq - 0 3\n"
     ]
    },
    {
     "ename": "IndexError",
     "evalue": "index 64 is out of bounds for axis 0 with size 64",
     "output_type": "error",
     "traceback": [
      "\u001b[0;31m---------------------------------------------------------------------------\u001b[0m",
      "\u001b[0;31mIndexError\u001b[0m                                Traceback (most recent call last)",
      "\u001b[0;32m/tmp/ipykernel_17098/2866267876.py\u001b[0m in \u001b[0;36m<module>\u001b[0;34m\u001b[0m\n\u001b[1;32m      2\u001b[0m \u001b[0mact\u001b[0m \u001b[0;34m=\u001b[0m \u001b[0mval_generator\u001b[0m\u001b[0;34m[\u001b[0m\u001b[0;36m0\u001b[0m\u001b[0;34m]\u001b[0m\u001b[0;34m[\u001b[0m\u001b[0;36m1\u001b[0m\u001b[0;34m]\u001b[0m \u001b[0;34m*\u001b[0m \u001b[0;36m2\u001b[0m \u001b[0;34m-\u001b[0m \u001b[0;36m1\u001b[0m\u001b[0;34m\u001b[0m\u001b[0;34m\u001b[0m\u001b[0m\n\u001b[1;32m      3\u001b[0m \u001b[0;32mfor\u001b[0m \u001b[0mi\u001b[0m \u001b[0;32min\u001b[0m \u001b[0mrange\u001b[0m\u001b[0;34m(\u001b[0m\u001b[0;36m128\u001b[0m\u001b[0;34m)\u001b[0m\u001b[0;34m:\u001b[0m\u001b[0;34m\u001b[0m\u001b[0;34m\u001b[0m\u001b[0m\n\u001b[0;32m----> 4\u001b[0;31m     \u001b[0mprint\u001b[0m\u001b[0;34m(\u001b[0m\u001b[0mpred\u001b[0m\u001b[0;34m[\u001b[0m\u001b[0mi\u001b[0m\u001b[0;34m]\u001b[0m\u001b[0;34m,\u001b[0m \u001b[0mact\u001b[0m\u001b[0;34m[\u001b[0m\u001b[0mi\u001b[0m\u001b[0;34m]\u001b[0m\u001b[0;34m,\u001b[0m \u001b[0mval_generator\u001b[0m\u001b[0;34m.\u001b[0m\u001b[0mgetfen\u001b[0m\u001b[0;34m(\u001b[0m\u001b[0;36m0\u001b[0m\u001b[0;34m)\u001b[0m\u001b[0;34m[\u001b[0m\u001b[0mi\u001b[0m\u001b[0;34m]\u001b[0m\u001b[0;34m)\u001b[0m\u001b[0;34m\u001b[0m\u001b[0;34m\u001b[0m\u001b[0m\n\u001b[0m",
      "\u001b[0;31mIndexError\u001b[0m: index 64 is out of bounds for axis 0 with size 64"
     ]
    }
   ],
   "source": [
    "pred = model.predict(val_generator[0][0]) * 2 - 1\n",
    "act = val_generator[0][1] * 2 - 1\n",
    "for i in range(128):\n",
    "    print(pred[i], act[i], val_generator.getfen(0)[i])"
   ]
  },
  {
   "cell_type": "code",
   "execution_count": 9,
   "metadata": {},
   "outputs": [
    {
     "name": "stdout",
     "output_type": "stream",
     "text": [
      "INFO:tensorflow:Assets written to: production/assets\n"
     ]
    }
   ],
   "source": [
    "import time\n",
    "# model.save(\"models/model-{}\".format(int(time.time())))\n",
    "model.save(\"production/\")"
   ]
  }
 ],
 "metadata": {
  "interpreter": {
   "hash": "916dbcbb3f70747c44a77c7bcd40155683ae19c65e1c03b4aa3499c5328201f1"
  },
  "kernelspec": {
   "display_name": "Python 3.8.10 64-bit",
   "language": "python",
   "name": "python3"
  },
  "language_info": {
   "codemirror_mode": {
    "name": "ipython",
    "version": 3
   },
   "file_extension": ".py",
   "mimetype": "text/x-python",
   "name": "python",
   "nbconvert_exporter": "python",
   "pygments_lexer": "ipython3",
   "version": "3.8.10"
  },
  "orig_nbformat": 4
 },
 "nbformat": 4,
 "nbformat_minor": 2
}
