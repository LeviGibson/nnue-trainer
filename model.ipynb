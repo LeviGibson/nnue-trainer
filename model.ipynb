{
 "cells": [
  {
   "cell_type": "code",
   "execution_count": 10,
   "metadata": {},
   "outputs": [],
   "source": [
    "import tensorflow as tf\n",
    "from tensorflow.keras.models import Sequential\n",
    "from tensorflow.keras.layers import Dense\n",
    "from tensorflow.keras.activations import relu\n",
    "from DataLoader import DataLoader\n",
    "import chess\n",
    "\n",
    "import numpy as np"
   ]
  },
  {
   "cell_type": "code",
   "execution_count": 11,
   "metadata": {},
   "outputs": [],
   "source": [
    "training_generator = DataLoader(128, \"train\")\n",
    "val_generator = DataLoader(128, \"val\")"
   ]
  },
  {
   "cell_type": "code",
   "execution_count": 15,
   "metadata": {},
   "outputs": [],
   "source": [
    "from keras import backend as K\n",
    "def clipped_relu(x):\n",
    "    return K.relu(x, max_value=1.984375)"
   ]
  },
  {
   "cell_type": "code",
   "execution_count": 13,
   "metadata": {},
   "outputs": [],
   "source": [
    "halfAcc = Dense(256, clipped_relu)\n",
    "i1 = tf.keras.Input((64*64*12,))\n",
    "i2 = tf.keras.Input((64*64*12,))\n",
    "acc1 = halfAcc(i1)\n",
    "acc2 = halfAcc(i2)\n",
    "layerStack = tf.keras.layers.Concatenate()([acc1, acc2])\n",
    "\n",
    "h1 = Dense(32, clipped_relu)\n",
    "h2 = Dense(32, clipped_relu)\n",
    "out = Dense(1, 'sigmoid')\n",
    "\n",
    "layerStack = out(h2(h1(layerStack)))\n",
    "\n",
    "model = tf.keras.Model(inputs=[i1, i2], outputs=layerStack)\n",
    "\n",
    "model.compile(optimizer=tf.keras.optimizers.Adam(), loss='mse', metrics=['mae'])"
   ]
  },
  {
   "cell_type": "code",
   "execution_count": 14,
   "metadata": {},
   "outputs": [
    {
     "name": "stdout",
     "output_type": "stream",
     "text": [
      "2981/2981 [==============================] - 76s 25ms/step - loss: 0.3785 - mae: 0.4697 - val_loss: 0.3862 - val_mae: 0.4566\n"
     ]
    },
    {
     "data": {
      "text/plain": [
       "<keras.callbacks.History at 0x7f7250785eb0>"
      ]
     },
     "execution_count": 14,
     "metadata": {},
     "output_type": "execute_result"
    }
   ],
   "source": [
    "#921/921 [==============================] - 24s 26ms/step - loss: 0.1499 - mae: 0.3252 - val_loss: 0.1661 - val_mae: 0.3544\n",
    "#921/921 [==============================] - 25s 27ms/step - loss: 0.1361 - mae: 0.3087 - val_loss: 0.1685 - val_mae: 0.3563\n",
    "\n",
    "model.fit(training_generator, validation_data=val_generator, epochs=1)"
   ]
  },
  {
   "cell_type": "code",
   "execution_count": 9,
   "metadata": {},
   "outputs": [
    {
     "name": "stdout",
     "output_type": "stream",
     "text": [
      "[0.07652974] 1.0 2r2rk1/1pq1bppp/p1np1n2/4pP2/5P2/P1N1B3/1PP1B1PP/R2QR2K b - - 2 14\n",
      "[0.05268109] 1.0 4rrk1/3n2p1/ppq1p2p/2p2p2/3Pn3/P1PBP3/1BQ2PPP/R4RK1 w - - 4 20\n",
      "[-0.06599802] 1.0 8/8/p3rk2/2P2p2/2R5/P7/1P1K4/8 w - - 2 42\n",
      "[-0.43313777] 1.0 3r2k1/p2r2p1/Q2p3p/p1pPpp2/2P5/1RPqP3/5PPP/1R5K w - - 0 27\n",
      "[-0.00580215] 0.0 6R1/8/5b2/3k4/1K6/5r2/8/8 b - - 52 101\n",
      "[-0.08939898] 1.0 r6k/1p3p2/1p2b2p/1P5N/4P3/n2B1K2/3r2PP/R6R w - - 3 26\n",
      "[0.33327663] 1.0 2rr2k1/pqnB2pp/1p3p2/3p4/5Q2/1P4P1/PB2PP1P/2RR2K1 b - - 0 26\n",
      "[-0.3123998] 0.0 8/4rkp1/1p5p/3R1p2/P7/1P5P/6P1/3Qq2K w - - 3 49\n",
      "[-0.46692902] -1.0 6k1/3b2bp/3P2p1/5p2/8/4B2P/3Rq1P1/r4NK1 w - - 0 51\n",
      "[0.32468903] 1.0 1r6/4k1p1/2b1p3/r2p1pP1/P1p2P2/2N1P1K1/RP5R/8 w - - 43 78\n",
      "[-0.08458406] -1.0 r2r4/1b2bp1k/p1nqp2p/5p2/N1Pp4/P4N2/1PQ1BPPP/3R1RK1 w - - 1 23\n",
      "[0.09309387] 1.0 rnbqk2r/ppp2ppp/4p3/3n4/1b1P4/2N5/PPQ1PPPP/R1B1KBNR w KQkq - 0 6\n",
      "[-0.15443814] 0.0 8/1Q4k1/4q3/4P1p1/8/1p3P2/6K1/8 b - - 10 80\n",
      "[0.4283594] 1.0 5k2/8/6K1/6P1/8/8/8/8 w - - 3 67\n",
      "[0.1918801] 1.0 2q1rknR/p4pp1/2pbp1b1/2Np4/5PP1/1P2B3/P3Q1K1/7R b - - 0 25\n",
      "[0.10978401] -1.0 r1b1kbnr/1pqp1ppp/p1n1p3/8/3NP3/2N5/PPP1BPPP/R1BQ1RK1 b kq - 3 7\n",
      "[0.24054551] 1.0 r4qR1/p2bk3/2p1p3/1p6/3P4/1PP3Q1/P4PKP/8 w - - 4 39\n",
      "[0.29049528] 0.0 5k2/8/p2p1n2/rppPpP2/2P5/1KPB1P2/8/1R6 w - - 0 76\n",
      "[-0.34429896] -1.0 2r2rk1/1b5p/p2N2p1/4p3/Qp6/1n6/PP1q2PP/4RR1K w - - 0 26\n",
      "[0.08801782] 0.0 r1bqkbnr/pppp1ppp/2n5/1B2p3/4P3/5N2/PPPP1PPP/RNBQK2R b KQkq - 3 3\n",
      "[0.08380115] 1.0 r1bqk2r/1p2bppp/p1n1pn2/8/3P4/1BN2N2/PP3PPP/R1BQR1K1 b kq - 2 10\n",
      "[-0.35289806] -1.0 5rk1/1p5p/p2p1qp1/P2Pn3/2PNP2P/4b2K/1P2Br2/R2Q3R w - - 7 32\n",
      "[0.2784264] 1.0 5r2/3b2kp/3p4/3P1n2/2P1NB2/3p2P1/5K1P/4R3 w - - 1 38\n",
      "[-0.15737772] -1.0 5rk1/pp5p/3p1b2/3Pp3/1P2Pp2/5R2/P3N1r1/2R1K3 w - - 4 32\n",
      "[0.15185869] 0.0 rnbq1rk1/1pp2pb1/3p1npp/p2Pp1B1/2P1P3/2N2N2/PP2BPPP/R2QK2R w KQ - 0 9\n",
      "[-0.02211004] 0.0 r2q2k1/5p1p/4rnp1/2Q1bb2/3p4/1PN1P3/P2BBPPP/2R2RK1 w - - 0 23\n",
      "[-0.4507702] -1.0 6k1/p4pp1/3p3p/2p5/2n1PP2/2P3P1/2K4P/8 w - - 2 36\n",
      "[0.04086244] 1.0 8/p2k2p1/4p3/2P4p/5P1P/P3K3/8/8 w - - 0 41\n",
      "[0.40185666] 1.0 1r3nk1/2r2p1p/1p3P2/2pPB3/2P1P1B1/8/7P/R5K1 b - - 0 38\n",
      "[0.27511346] 0.0 8/6kp/R7/7r/8/3K4/8/8 b - - 1 58\n",
      "[-0.18484443] 0.0 8/8/4p3/3p1k2/3P1n1p/5B1P/3r2P1/1R3K2 w - - 81 83\n",
      "[-0.05723119] 0.0 1r4k1/4r2p/3p1ppP/pBpP2q1/Pn2PpP1/1P3P2/4R2Q/3R3K b - - 43 207\n",
      "[0.59044456] 1.0 8/5k2/3R1n2/KP5p/5n2/8/7P/8 b - - 0 45\n",
      "[0.12741923] 0.0 4rrk1/2qbbppp/p2p1n2/nppPp3/4P3/2P2N1P/PPB2PPK/RNBQR3 w - - 3 14\n",
      "[-0.31016773] 0.0 4r1k1/bp3pp1/p1pprq1p/8/2PP4/1PBQ1BPb/P4P1P/R3R1K1 w - - 8 20\n",
      "[0.12877321] -1.0 3r3k/7p/5rp1/3P1q2/P1B1p3/1PR3P1/1P6/4Q1K1 w - - 4 44\n",
      "[0.58558035] 1.0 2r1kbbr/ppp2pp1/8/3pPPB1/6P1/5N2/PPR5/R5K1 w - - 0 21\n",
      "[0.04042733] 0.0 8/8/2n1B3/2k4p/P2p1P1K/4r1P1/8/3R4 w - - 4 61\n",
      "[0.17954719] 1.0 6k1/4b2p/p3N3/5p2/1pbB4/5P2/PP4PP/7K w - - 6 38\n",
      "[0.2927506] 1.0 1nrr2k1/2q1bp1p/pp3p2/1bP1pP2/1P2P3/4BN2/P1Q1B1PP/2R2RK1 b - - 3 22\n",
      "[0.17209303] -1.0 1r1qr1k1/p4p1p/5np1/b7/2pP4/P1N2K1B/1PQB1P1P/3R2R1 b - - 0 23\n",
      "[0.0886718] 1.0 rnbqkbnr/pppppppp/8/8/4P3/8/PPPP1PPP/RNBQKBNR b KQkq - 0 1\n",
      "[0.38446307] 1.0 2r4k/p5p1/2P2p1p/1p1P4/2b5/P4P2/2R2BPP/6K1 b - - 0 34\n",
      "[0.08014321] -1.0 r2q1rk1/pp1nppbp/5np1/2pP4/6b1/1BN1PN2/PP3PPP/R1BQ1RK1 w - - 1 11\n",
      "[0.03879058] 1.0 rn2k2b/pb3p2/1qp1pn2/1p2N1p1/2B1P3/2N2QB1/PP3PP1/3RK3 b q - 0 15\n",
      "[0.08467638] -1.0 8/2R2pk1/4pb2/2Qp3p/3P1Pp1/2P3P1/4K2P/2q5 b - - 3 42\n",
      "[0.03571379] 0.0 r1bqk2r/2ppbppp/p1n2n2/1p2p3/4P3/1B3N2/PPPP1PPP/RNBQR1K1 b kq - 1 7\n",
      "[0.0902766] 0.0 rnbqkb1r/1p2pppp/p1p2n2/3p4/2PP4/2N2N2/PP2PPPP/R1BQKB1R w KQkq - 0 5\n",
      "[-0.02741045] 1.0 3k4/1R1r1p2/p7/1b3R2/1b3p2/5B1P/1P4P1/6K1 b - - 3 45\n",
      "[0.5667093] 1.0 r3r1k1/3Rnppp/p1p2b2/1qQ2B2/8/1P2B2P/P4PP1/1R4K1 w - - 17 34\n",
      "[0.49415612] 1.0 8/1pr2k2/p2Rp3/2P2p1p/1P3P2/P3K1PP/8/8 b - - 2 42\n",
      "[0.0822773] 0.0 2rr2k1/1p1bqpp1/p1pRp2p/4P3/4B3/P3P3/1PQ2PPP/3R2K1 w - - 4 24\n",
      "[0.05415475] 0.0 7R/1p2r3/5p2/P2R1Pk1/2P5/1P1r3P/5K2/8 b - - 4 54\n",
      "[0.17411554] 0.0 r4rk1/1bqnbppp/pp1ppn2/8/2P1P3/1PN1QNP1/PB3PBP/3R1RK1 b - - 4 13\n",
      "[0.1545521] 1.0 2r3k1/1Rr3p1/4p1p1/1p6/p1b4P/4BP2/1P4P1/2R3K1 w - - 6 34\n",
      "[0.16448557] -1.0 2rq1rk1/pb1n1pbp/1p2p1p1/8/2PB4/P3PN2/2Q1BPPP/3R1RK1 b - - 0 16\n",
      "[0.19884562] -1.0 2r2r1k/1b2qppp/1pn1pn2/6N1/1p2p3/P1P3P1/1N2QPBP/3R1RK1 w - - 0 20\n",
      "[0.13570046] 1.0 r2qk2r/ppp2ppp/2n1p3/1B1pP3/4bB2/4P3/PPP2PPP/R2QK2R w KQkq - 0 10\n",
      "[-0.3578382] 1.0 8/p1r3k1/1p1q1r2/b2bp1pQ/P7/2PBR3/3B1PP1/2R3K1 w - - 2 30\n",
      "[0.08980441] 1.0 r1bqkbnr/1p1p1ppp/p1n1p3/8/3NP3/2N5/PPP1BPPP/R1BQK2R b KQkq - 1 6\n",
      "[0.15233123] 0.0 rnbq1rk1/ppp1bppp/4pn2/8/2pP4/5NP1/PP2PPBP/RNBQ1RK1 w - - 0 7\n",
      "[0.20546663] 0.0 8/6k1/1pn2q1p/8/P1P1Q1P1/1P3PK1/8/8 w - - 2 73\n",
      "[0.036183] -1.0 4r3/R5pk/1R2P3/6p1/1p6/p3P1P1/2n1K2P/8 b - - 5 46\n",
      "[0.13625395] -1.0 rn1qk2r/p3bppp/bpp1pn2/3p4/2PP4/1PB2NP1/P2NPPBP/R2QK2R b KQkq - 1 9\n",
      "[-0.3514616] -1.0 6k1/2R4p/3p2p1/pp1P1p2/8/q4BP1/6KP/8 w - - 2 38\n",
      "[0.40363038] 1.0 4kb2/3b1rpp/1pr5/pNn1Rp2/P3pP2/2P1B2P/1PB3PK/3R4 b - - 1 26\n",
      "[-0.22013593] 0.0 8/8/7R/8/1P4p1/r7/4K3/6k1 w - - 3 59\n",
      "[0.03526247] 0.0 2rq1rk1/1bpnbpp1/pp2pn1p/8/3P3B/2N1PN2/PPQ1BPPP/2R2RK1 b - - 5 13\n",
      "[0.07821834] 1.0 r4rk1/p1q1bppp/bnp1p3/4P2n/2pP4/2B2NP1/P1QN1P1P/RR3BK1 w - - 2 17\n",
      "[0.2679336] 0.0 1rbr2k1/2q1ppbp/ppp3p1/4P3/P1B1NPPn/Q3P2P/1P1B4/2R2RK1 b - - 2 20\n",
      "[-0.17060995] 0.0 8/4k3/2R5/2P2p2/6p1/6P1/2r5/5K2 b - - 14 60\n",
      "[0.19561613] 1.0 rn1q1rk1/pp2b1pp/3ppn2/7b/8/2N2N1P/PPP1BPP1/R1BQ1RK1 w - - 0 11\n",
      "[-0.10443223] -1.0 4r1k1/5ppp/pq1pbb2/2p4Q/P3P3/R1P2N2/1r1N1PPP/2R2K2 w - - 5 22\n",
      "[-0.32426775] 0.0 3r2n1/p1qr1k2/2bp1p2/2p4p/2N1PPN1/1PQ5/3R3P/4R1K1 w - - 0 41\n",
      "[0.02950513] -1.0 1rb2k2/4bp2/p1p1pprp/3p4/4P2P/qP3P2/P1PQN1P1/1K1R1B1R b - - 4 21\n",
      "[0.0599668] 0.0 4rrk1/2qbbpp1/p2p1n1p/1ppPp3/2n1P3/2P1BN1P/PPB2PPK/RN1QR3 w - - 6 18\n",
      "[-0.27534723] 0.0 8/6pk/6p1/6Pp/2q4P/K7/2P5/7Q b - - 2 66\n",
      "[-0.10675752] 0.0 1r4k1/q3npb1/p1npb1p1/2pNp2p/2P2P2/P1BPP1P1/6BP/3QNRK1 w - - 1 19\n",
      "[0.29005432] 0.0 4k3/p7/1b1p3B/2p5/6R1/1P6/P4r2/1K6 w - - 3 37\n",
      "[0.08887243] -1.0 rnbqk2r/ppp1ppbp/3p1np1/8/2PPP3/2N5/PP3PPP/R1BQKBNR w KQkq - 0 5\n",
      "[0.09149539] 1.0 rnbqkb1r/pp2pppp/2p2n2/3p4/2PP4/5N2/PP2PPPP/RNBQKB1R w KQkq - 2 4\n",
      "[0.3778224] 1.0 2q2rk1/r3b1pp/1p2b3/p3pn1P/P3QP2/1N1B4/1PPB4/1K1R2R1 w - - 3 28\n",
      "[0.07804108] 0.0 rnbqk2r/pp3ppp/4pn2/2p3B1/1bpPP3/2N2N2/PP3PPP/R2QKB1R w KQkq - 0 7\n",
      "[0.6743605] 1.0 qrb1n1k1/2p1n2r/1pPp2pP/pP1Pp1P1/P3Pp1R/2N5/1B2BPKQ/3R4 w - - 3 37\n",
      "[0.05721664] 0.0 4Q3/1bk5/2p5/4P3/4P3/1pq3P1/2N2P2/2K5 w - - 3 35\n",
      "[-0.41467392] 0.0 8/3r4/8/2P5/8/2K5/5k2/8 w - - 0 92\n",
      "[0.08064699] 1.0 r1bqkb1r/pp2pppp/2n2n2/3p4/3P4/2PB4/PP3PPP/RNBQK1NR w KQkq - 1 6\n",
      "[0.06870341] 1.0 r2qkb1r/1b1n1ppp/p3pn2/1ppP4/4P3/2NB1N2/PP3PPP/R1BQ1RK1 b kq - 0 11\n",
      "[0.09546542] -1.0 r2q1rk1/pbp2pp1/1pn1pn1p/3p4/2PP3B/P1QBPP2/1P4PP/R3K1NR b KQ - 1 11\n",
      "[0.08073807] 0.0 rnbqkbnr/pp2pppp/3p4/8/3pP3/5N2/PPP2PPP/RNBQKB1R w KQkq - 0 4\n",
      "[0.21668923] -1.0 8/Qpk2r1p/p2p4/1q1Pb3/1P3Pr1/2P5/1P3B2/1K1RR3 b - - 0 37\n",
      "[-0.04922211] 0.0 3r4/1b3k2/3r2p1/pp1P1p1p/3R1P1P/PK3BP1/3R4/8 b - - 83 90\n",
      "[0.05420756] 0.0 r1bq1rk1/pp3ppp/5n2/1N1pb3/8/4P3/PPQ1BPPP/R1B2RK1 w - - 0 13\n",
      "[0.09380805] 0.0 r1bqkb1r/pp1p1ppp/2n1pn2/2p5/2PP4/2N1PN2/PP3PPP/R1BQKB1R b KQkq - 0 5\n",
      "[0.00223005] 1.0 r3r1k1/ppp2ppp/3qbn2/2b5/3p4/3P1NP1/nPNBPPBP/RQ3RK1 w - - 8 17\n",
      "[0.16105378] 0.0 rn1q1rk1/pp2bppp/3p2n1/2pP4/8/2N2bPP/PP2PPB1/R1BQ1RK1 w - - 0 11\n",
      "[0.03366935] 1.0 r4kr1/pp3p2/3nb2p/q7/2PP4/3QP1P1/P4PNP/R1R3K1 b - - 0 22\n",
      "[0.07639694] 1.0 r1bqk2r/1pp2pp1/p1np3p/2bN4/2BPP3/5N2/PP3PPP/R2QK2R b KQkq - 0 11\n",
      "[0.18176174] 1.0 8/1pr1k1p1/p1b4p/2n1PP1P/2PR1KP1/8/P7/4R3 w - - 1 42\n",
      "[0.04658902] 0.0 r1bqk2r/2ppbppp/p1n2n2/1p2p3/B3P3/5N2/PPPP1PPP/RNBQR1K1 w kq - 0 7\n",
      "[0.05505311] 1.0 3q1rk1/p3bppp/b3p3/1p1pP3/1P1P2n1/1N3NPP/P2n1PB1/2Q2RK1 w - - 0 20\n",
      "[0.07363868] 0.0 r1bqk2r/2p1bppp/p1np1n2/1p2p3/4P3/1BP2N2/PP1P1PPP/RNBQR1K1 b kq - 0 8\n",
      "[0.1087606] 1.0 1rb1kb1r/p2p1ppp/2p1p3/3nP3/2PqNP2/PP6/3BQ1PP/R3KB1R w KQk - 1 16\n",
      "[0.07675374] 1.0 rnb1kb1r/1pq2ppp/p2ppn2/8/3NP3/2N1B3/PPP1BPPP/R2QK2R w KQkq - 2 8\n",
      "[-0.09236008] -1.0 8/8/5k1p/1B1p1pp1/3P1P1P/4PKP1/3q4/8 w - - 0 56\n",
      "[0.05921113] 1.0 1r1r2k1/5pp1/p5np/2qNp2n/b1P1P3/2QB1N1P/P2R2PK/5R2 b - - 9 29\n",
      "[0.16097414] 0.0 8/p7/P6p/1B2k2P/5pP1/4nK2/8/8 b - - 6 79\n",
      "[0.0100224] -1.0 3r1rk1/p1q1bppp/bpp1p3/2n1P3/2p1PP2/1PB2QP1/P2N2BP/R3R1K1 w - - 0 17\n",
      "[0.10038018] 0.0 8/5kp1/8/2P2PK1/2r3P1/8/5B2/8 b - - 10 64\n",
      "[0.09818494] 0.0 rnbqk2r/pp1p1ppp/4pn2/2P5/1bP5/2N5/PPQ1PPPP/R1B1KBNR b KQkq - 0 5\n",
      "[-0.5685037] 0.0 R7/8/8/1k1p1N2/4r3/1r4PP/5K2/8 b - - 5 56\n",
      "[0.01122344] 0.0 5k2/p7/1p2P3/6p1/P1B3P1/1P5P/3r4/6K1 b - - 24 64\n",
      "[0.41852844] 1.0 r4nk1/1b1n1p1p/2N3pP/1B2p1P1/Np6/1P2PP2/3RK3/8 b - - 4 55\n",
      "[-0.43479747] 0.0 8/6kp/4p3/8/rN2Pn2/7P/6P1/1R4K1 w - - 3 55\n",
      "[0.0441823] 0.0 2Rr2k1/1p1nqppp/4p3/p4b2/Pp1Pn3/4PN2/1P1BBPPP/R2Q2K1 b - - 0 17\n",
      "[0.04604161] -1.0 3r4/2p1bk2/3r4/4p3/2P2p1p/3nBP2/3R3P/R4N1K w - - 0 39\n",
      "[0.54857147] -1.0 2q4k/6pp/ppnr4/2bN4/5P2/1P2N3/4PP1P/Q2R2K1 w - - 2 27\n",
      "[0.13322031] 1.0 8/5kpp/8/R1P5/8/P5KP/2r3P1/8 b - - 2 44\n",
      "[-0.12150353] -1.0 2n3k1/2P2ppp/4p3/8/3P4/q3K2P/4QP2/2r1N2R w - - 4 37\n",
      "[0.08808708] 1.0 r1bqk2r/pp1pppbp/2n2np1/2p5/2PP4/2N2NP1/PP2PPBP/R1BQK2R b KQkq - 4 6\n",
      "[-0.59508085] 0.0 8/8/2n5/8/3k3R/1B2p1P1/2P2r1P/6K1 b - - 15 51\n",
      "[-0.12952584] 0.0 8/5p1p/3k1P1P/p1P1p1p1/P3P1P1/3K4/8/8 b - - 0 59\n",
      "[0.23567295] 1.0 3b1rk1/6pp/RP1p1p2/4p3/2r1n3/B4N2/5PPP/4R1K1 b - - 0 31\n",
      "[-0.26387978] -1.0 8/6pk/p7/5p1p/R6P/PP5r/2K5/8 w - - 0 46\n",
      "[-0.36900043] -1.0 1kr5/5p2/Q7/8/p2PnP2/1q6/6RK/8 b - - 2 47\n",
      "[0.11908019] 0.0 4R3/pnr2pp1/1p4kp/8/8/1P1N4/P4PPP/5K2 w - - 2 29\n",
      "[-0.09051996] 0.0 8/8/1p1b4/1P6/5p2/4pK2/3k2P1/5B2 w - - 92 109\n",
      "[0.18055809] 1.0 7k/5pp1/4p2p/ppBnP3/3P4/Pn3PP1/1P3K1P/3R4 w - - 4 47\n"
     ]
    }
   ],
   "source": [
    "pred = model.predict(val_generator[0][0]) * 2 - 1\n",
    "act = val_generator[0][1] * 2 - 1\n",
    "for i in range(128):\n",
    "    print(pred[i], act[i], val_generator.getfen(0)[i])"
   ]
  },
  {
   "cell_type": "code",
   "execution_count": 5,
   "metadata": {},
   "outputs": [
    {
     "name": "stderr",
     "output_type": "stream",
     "text": [
      "2022-03-26 19:52:09.820283: W tensorflow/python/util/util.cc:368] Sets are not currently considered sequences, but this may change in the future, so consider avoiding using them.\n"
     ]
    },
    {
     "name": "stdout",
     "output_type": "stream",
     "text": [
      "INFO:tensorflow:Assets written to: models/model-1648338729/assets\n"
     ]
    }
   ],
   "source": [
    "import time\n",
    "model.save(\"models/model-{}\".format(int(time.time())))"
   ]
  }
 ],
 "metadata": {
  "interpreter": {
   "hash": "916dbcbb3f70747c44a77c7bcd40155683ae19c65e1c03b4aa3499c5328201f1"
  },
  "kernelspec": {
   "display_name": "Python 3.8.10 64-bit",
   "language": "python",
   "name": "python3"
  },
  "language_info": {
   "codemirror_mode": {
    "name": "ipython",
    "version": 3
   },
   "file_extension": ".py",
   "mimetype": "text/x-python",
   "name": "python",
   "nbconvert_exporter": "python",
   "pygments_lexer": "ipython3",
   "version": "3.8.10"
  },
  "orig_nbformat": 4
 },
 "nbformat": 4,
 "nbformat_minor": 2
}
