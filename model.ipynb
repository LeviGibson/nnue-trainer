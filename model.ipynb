{
 "cells": [
  {
   "cell_type": "code",
   "execution_count": 13,
   "metadata": {},
   "outputs": [],
   "source": [
    "import tensorflow as tf\n",
    "from tensorflow.keras.models import Model\n",
    "from tensorflow.keras.layers import Dense, Input, concatenate\n",
    "from tensorflow.keras.activations import relu\n",
    "from DataLoader import DataLoader\n",
    "from halfkp import get_halfkp_indeicies\n",
    "import chess\n",
    "from chess import Board\n",
    "import matplotlib.pyplot as plt\n",
    "\n",
    "import numpy as np"
   ]
  },
  {
   "cell_type": "code",
   "execution_count": 10,
   "metadata": {},
   "outputs": [],
   "source": [
    "training_generator = DataLoader(64, \"train\")\n",
    "val_generator = DataLoader(64, \"val\", shuffle=False)"
   ]
  },
  {
   "cell_type": "code",
   "execution_count": 11,
   "metadata": {},
   "outputs": [],
   "source": [
    "lossHistory = []\n",
    "valHistory = []\n",
    "class NnueCallbacks(tf.keras.callbacks.Callback):\n",
    "  def on_batch_end(self, batch, logs=None):\n",
    "    lossHistory.append(logs['loss'])\n",
    "    if batch and batch % 1000 == 0:\n",
    "      pred = self.model.predict(val_generator)\n",
    "      loss = (pred.flatten() - val_generator.labels.flatten()[0:len(val_generator)*64])**2\n",
    "      loss = np.sum(loss) / len(loss)\n",
    "      valHistory.append(loss)\n",
    "\n",
    "      plt.plot(valHistory)\n",
    "      plt.savefig(\"val.png\", dpi=200)\n",
    "      plt.clf()\n",
    "\n",
    "      plt.plot(lossHistory[20:])\n",
    "      plt.savefig(\"loss.png\", dpi=200)\n",
    "      plt.clf()\n",
    "      \n",
    "      print(\" val_loss : {}\".format(loss))\n",
    "\n",
    "      self.model.save(\"models/model-{}-{}\".format(len(valHistory), int(loss*10000)))"
   ]
  },
  {
   "cell_type": "code",
   "execution_count": 12,
   "metadata": {},
   "outputs": [],
   "source": [
    "from keras import backend as K\n",
    "def clipped_relu(x):\n",
    "    return K.relu(x, max_value=2)"
   ]
  },
  {
   "cell_type": "code",
   "execution_count": 15,
   "metadata": {},
   "outputs": [],
   "source": [
    "accumulator = Dense(256, clipped_relu)\n",
    "input1 = Input((64*64*12,))\n",
    "input2 = Input((64*64*12,))\n",
    "layers = concatenate([accumulator(input1), accumulator(input2)])\n",
    "layers = Dense(32, clipped_relu)(layers)\n",
    "layers = Dense(32, clipped_relu)(layers)\n",
    "layers = Dense(1)(layers)\n",
    "model = Model(inputs=[input1, input2], outputs=layers)\n",
    "\n",
    "model.compile(optimizer=tf.keras.optimizers.Adam(), loss='mse', metrics=['mae'])"
   ]
  },
  {
   "cell_type": "code",
   "execution_count": null,
   "metadata": {},
   "outputs": [],
   "source": [
    "model = tf.keras.models.load_model(\"production/\")"
   ]
  },
  {
   "cell_type": "code",
   "execution_count": 16,
   "metadata": {},
   "outputs": [
    {
     "name": "stdout",
     "output_type": "stream",
     "text": [
      "  999/62500 [..............................] - ETA: 22:44 - loss: 13.9054 - mae: 2.3457 val_loss : 13.14160850172076\n"
     ]
    },
    {
     "name": "stderr",
     "output_type": "stream",
     "text": [
      "2022-04-12 10:43:15.255170: W tensorflow/python/util/util.cc:368] Sets are not currently considered sequences, but this may change in the future, so consider avoiding using them.\n"
     ]
    },
    {
     "name": "stdout",
     "output_type": "stream",
     "text": [
      "INFO:tensorflow:Assets written to: models/model-1-131416/assets\n",
      " 2000/62500 [..............................] - ETA: 20:56 - loss: 11.9332 - mae: 2.1862 val_loss : 10.41320055312828\n",
      "INFO:tensorflow:Assets written to: models/model-2-104132/assets\n",
      " 2997/62500 [>.............................] - ETA: 18:50 - loss: 10.8010 - mae: 2.0904 val_loss : 9.268189010120038\n",
      "INFO:tensorflow:Assets written to: models/model-3-92681/assets\n",
      " 3999/62500 [>.............................] - ETA: 17:51 - loss: 10.0525 - mae: 2.0255 val_loss : 8.527112578538679\n",
      "INFO:tensorflow:Assets written to: models/model-4-85271/assets\n",
      " 4998/62500 [=>............................] - ETA: 17:00 - loss: 9.5031 - mae: 1.9746 val_loss : 8.065849491198268\n",
      "INFO:tensorflow:Assets written to: models/model-5-80658/assets\n",
      " 6000/62500 [=>............................] - ETA: 16:31 - loss: 9.0568 - mae: 1.9319 val_loss : 7.964719078336325\n",
      "INFO:tensorflow:Assets written to: models/model-6-79647/assets\n",
      " 7000/62500 [==>...........................] - ETA: 16:01 - loss: 8.7108 - mae: 1.8975 val_loss : 7.3546867622825065\n",
      "INFO:tensorflow:Assets written to: models/model-7-73546/assets\n",
      " 8000/62500 [==>...........................] - ETA: 15:38 - loss: 8.4315 - mae: 1.8703 val_loss : 6.766597120661301\n",
      "INFO:tensorflow:Assets written to: models/model-8-67665/assets\n",
      " 8999/62500 [===>..........................] - ETA: 15:14 - loss: 8.1990 - mae: 1.8468 val_loss : 7.473520363146525\n",
      "INFO:tensorflow:Assets written to: models/model-9-74735/assets\n",
      "10000/62500 [===>..........................] - ETA: 14:53 - loss: 7.9931 - mae: 1.8257 val_loss : 7.238809161659736\n",
      "INFO:tensorflow:Assets written to: models/model-10-72388/assets\n",
      "10998/62500 [====>.........................] - ETA: 14:36 - loss: 7.8163 - mae: 1.8071"
     ]
    }
   ],
   "source": [
    "model.fit(training_generator, validation_data=val_generator, epochs=1, callbacks=[NnueCallbacks()])"
   ]
  },
  {
   "cell_type": "code",
   "execution_count": null,
   "metadata": {},
   "outputs": [],
   "source": [
    "indicies = get_halfkp_indeicies(Board(\"r3k1nr/pp2ppbp/n2p2p1/q1p5/3N1P2/1P2P3/PBPP3P/RN1K1B1R w kq - 1 9\"))\n",
    "indicies = indicies.reshape(2, -1)\n",
    "indicies = (np.array([indicies[0], indicies[0]]), np.array([indicies[1], indicies[1]]))\n",
    "pred = model.predict(indicies)\n",
    "print(pred[0])"
   ]
  },
  {
   "cell_type": "code",
   "execution_count": null,
   "metadata": {},
   "outputs": [],
   "source": [
    "pred = model.predict(val_generator[0][0]) * 2 - 1\n",
    "act = val_generator[0][1] * 2 - 1\n",
    "for i in range(128):\n",
    "    print(pred[i], act[i], val_generator.getfen(0)[i])"
   ]
  },
  {
   "cell_type": "code",
   "execution_count": 7,
   "metadata": {},
   "outputs": [
    {
     "name": "stdout",
     "output_type": "stream",
     "text": [
      "INFO:tensorflow:Assets written to: production/assets\n"
     ]
    }
   ],
   "source": [
    "import time\n",
    "# model.save(\"models/model-{}\".format(int(time.time())))\n",
    "model.save(\"production/\")"
   ]
  }
 ],
 "metadata": {
  "interpreter": {
   "hash": "916dbcbb3f70747c44a77c7bcd40155683ae19c65e1c03b4aa3499c5328201f1"
  },
  "kernelspec": {
   "display_name": "Python 3.8.10 64-bit",
   "language": "python",
   "name": "python3"
  },
  "language_info": {
   "codemirror_mode": {
    "name": "ipython",
    "version": 3
   },
   "file_extension": ".py",
   "mimetype": "text/x-python",
   "name": "python",
   "nbconvert_exporter": "python",
   "pygments_lexer": "ipython3",
   "version": "3.8.10"
  },
  "orig_nbformat": 4
 },
 "nbformat": 4,
 "nbformat_minor": 2
}
