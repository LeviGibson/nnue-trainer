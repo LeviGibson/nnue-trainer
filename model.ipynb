{
 "cells": [
  {
   "cell_type": "code",
   "execution_count": 1,
   "metadata": {},
   "outputs": [],
   "source": [
    "import tensorflow as tf\n",
    "from tensorflow.keras.models import Model\n",
    "from tensorflow.keras.layers import Dense, Input, concatenate\n",
    "from tensorflow.keras.activations import relu\n",
    "from DataLoader import DataLoader\n",
    "from halfkp import get_halfkp_indeicies\n",
    "import chess\n",
    "from chess import Board\n",
    "import matplotlib.pyplot as plt\n",
    "\n",
    "import numpy as np"
   ]
  },
  {
   "cell_type": "code",
   "execution_count": 2,
   "metadata": {},
   "outputs": [],
   "source": [
    "training_generator = DataLoader(128, \"train\", shuffle=False)\n",
    "val_generator = DataLoader(128, \"val\", shuffle=False)"
   ]
  },
  {
   "cell_type": "code",
   "execution_count": 3,
   "metadata": {},
   "outputs": [],
   "source": [
    "lossHistory = []\n",
    "valHistory = []\n",
    "class NnueCallbacks(tf.keras.callbacks.Callback):\n",
    "  def on_batch_end(self, batch, logs=None):\n",
    "    lossHistory.append(logs['loss'])\n",
    "    if batch and batch % 10000 == 0:\n",
    "      pred = self.model.predict(val_generator)\n",
    "      loss = np.abs(pred.flatten() - val_generator.labels.flatten()[0:len(val_generator)*128])\n",
    "      loss = np.sum(loss) / len(loss)\n",
    "      valHistory.append(loss)\n",
    "\n",
    "      plt.plot(valHistory)\n",
    "      plt.savefig(\"val.png\", dpi=400)\n",
    "      plt.clf()\n",
    "\n",
    "      plt.plot(lossHistory[20:])\n",
    "      plt.savefig(\"loss.png\", dpi=400)\n",
    "      plt.clf()\n",
    "      \n",
    "      print(\" val_loss : {}\".format(loss))\n",
    "\n",
    "      self.model.save(\"models/model-{}\".format(len(valHistory)))"
   ]
  },
  {
   "cell_type": "code",
   "execution_count": 4,
   "metadata": {},
   "outputs": [],
   "source": [
    "from keras import backend as K\n",
    "def clipped_relu(x):\n",
    "    return K.relu(x, max_value=2)"
   ]
  },
  {
   "cell_type": "code",
   "execution_count": null,
   "metadata": {},
   "outputs": [],
   "source": [
    "input1 = Input((64*6,), sparse=True)\n",
    "input2 = Input((64*6,), sparse=True)\n",
    "accumulator = Dense(128, clipped_relu)\n",
    "layers = concatenate([accumulator(input1), accumulator(input2)])\n",
    "layers = Dense(32, clipped_relu)(layers)\n",
    "layers = Dense(32, clipped_relu)(layers)\n",
    "layers = Dense(1, 'sigmoid')(layers)\n",
    "model = Model(inputs=[input1, input2], outputs=layers)\n",
    "\n",
    "model.compile(optimizer=tf.keras.optimizers.Adam(), loss='mae', metrics=['mse'])"
   ]
  },
  {
   "cell_type": "code",
   "execution_count": null,
   "metadata": {},
   "outputs": [],
   "source": [
    "model.fit(training_generator, validation_data=val_generator, epochs=1, callbacks=[NnueCallbacks()])"
   ]
  },
  {
   "cell_type": "code",
   "execution_count": null,
   "metadata": {},
   "outputs": [],
   "source": [
    "ids = get_halfkp_indeicies(Board(\"r3k1nr/pp2ppbp/n2p2p1/q1p5/3N1P2/1P2P3/PBPP3P/RN1K1B1R w kq - 1 9\"))\n",
    "\n",
    "ids = ids[ids > 0]\n",
    "h1 = ids[ids >= 384] - 384\n",
    "h2 = ids[ids < 384]\n",
    "\n",
    "x = (np.zeros((2, 384), bool), np.zeros((2, 384), bool))\n",
    "\n",
    "np.add.at(x[0][0], h1, h1.astype(bool))\n",
    "np.add.at(x[1][0], h2, h2.astype(bool))\n",
    "\n",
    "np.add.at(x[0][1], h1, h1.astype(bool))\n",
    "np.add.at(x[1][1], h2, h2.astype(bool))\n",
    "\n",
    "pred = model.predict(x)\n",
    "print(pred[0])"
   ]
  },
  {
   "cell_type": "code",
   "execution_count": null,
   "metadata": {},
   "outputs": [],
   "source": [
    "pred = model.predict(val_generator[0][0]) * 2 - 1\n",
    "act = val_generator[0][1] * 2 - 1\n",
    "for i in range(128):\n",
    "    print(pred[i], act[i], val_generator.getfen(0)[i])"
   ]
  },
  {
   "cell_type": "code",
   "execution_count": 9,
   "metadata": {},
   "outputs": [
    {
     "name": "stderr",
     "output_type": "stream",
     "text": [
      "WARNING:absl:Function `_wrapped_model` contains input name(s) args_0 with unsupported characters which will be renamed to args_0_5 in the SavedModel.\n"
     ]
    },
    {
     "name": "stdout",
     "output_type": "stream",
     "text": [
      "INFO:tensorflow:Assets written to: production/assets\n"
     ]
    },
    {
     "name": "stderr",
     "output_type": "stream",
     "text": [
      "INFO:tensorflow:Assets written to: production/assets\n"
     ]
    }
   ],
   "source": [
    "model.save(\"production/\")"
   ]
  }
 ],
 "metadata": {
  "interpreter": {
   "hash": "916dbcbb3f70747c44a77c7bcd40155683ae19c65e1c03b4aa3499c5328201f1"
  },
  "kernelspec": {
   "display_name": "Python 3.8.10 64-bit",
   "language": "python",
   "name": "python3"
  },
  "language_info": {
   "codemirror_mode": {
    "name": "ipython",
    "version": 3
   },
   "file_extension": ".py",
   "mimetype": "text/x-python",
   "name": "python",
   "nbconvert_exporter": "python",
   "pygments_lexer": "ipython3",
   "version": "3.8.10"
  },
  "orig_nbformat": 4
 },
 "nbformat": 4,
 "nbformat_minor": 2
}
