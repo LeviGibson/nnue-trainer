{
 "cells": [
  {
   "cell_type": "code",
   "execution_count": 1,
   "metadata": {},
   "outputs": [],
   "source": [
    "import tensorflow as tf\n",
    "from tensorflow.keras.models import Sequential\n",
    "from tensorflow.keras.layers import Dense\n",
    "from tensorflow.keras.activations import relu\n",
    "from DataLoader import DataLoader\n",
    "from halfkp import get_halfkp_indeicies\n",
    "import chess\n",
    "from chess import Board\n",
    "import matplotlib.pyplot as plt\n",
    "\n",
    "import numpy as np"
   ]
  },
  {
   "cell_type": "code",
   "execution_count": 2,
   "metadata": {},
   "outputs": [],
   "source": [
    "training_generator = DataLoader(64, \"train\")\n",
    "val_generator = DataLoader(64, \"val\", shuffle=False)"
   ]
  },
  {
   "cell_type": "code",
   "execution_count": 3,
   "metadata": {},
   "outputs": [],
   "source": [
    "lossHistory = []\n",
    "valHistory = []\n",
    "class NnueCallbacks(tf.keras.callbacks.Callback):\n",
    "  def on_batch_end(self, batch, logs=None):\n",
    "    lossHistory.append(logs['loss'])\n",
    "    if batch and batch % 1000 == 0:\n",
    "      pred = self.model.predict(val_generator)\n",
    "      loss = (pred.flatten() - val_generator.labels.flatten()[0:len(val_generator)*64])**2\n",
    "      loss = np.sum(loss) / len(loss)\n",
    "      valHistory.append(loss)\n",
    "\n",
    "      plt.plot(valHistory)\n",
    "      plt.savefig(\"val.png\", dpi=200)\n",
    "      plt.clf()\n",
    "\n",
    "      plt.plot(lossHistory[20:])\n",
    "      plt.savefig(\"loss.png\", dpi=200)\n",
    "      plt.clf()\n",
    "      \n",
    "      print(\" val_loss : {}\".format(loss))\n",
    "\n",
    "      self.model.save(\"models/model-{}-{}\".format(len(valHistory), int(loss*10000)))"
   ]
  },
  {
   "cell_type": "code",
   "execution_count": 5,
   "metadata": {},
   "outputs": [],
   "source": [
    "from keras import backend as K\n",
    "def clipped_relu(x):\n",
    "    return K.relu(x, max_value=2)"
   ]
  },
  {
   "cell_type": "code",
   "execution_count": null,
   "metadata": {},
   "outputs": [],
   "source": [
    "halfAcc = Dense(256, clipped_relu)\n",
    "i1 = tf.keras.Input((64*64*12,))\n",
    "i2 = tf.keras.Input((64*64*12,))\n",
    "acc1 = halfAcc(i1)\n",
    "acc2 = halfAcc(i2)\n",
    "layerStack = tf.keras.layers.Concatenate()([acc1, acc2])\n",
    "\n",
    "h1 = Dense(32, clipped_relu)\n",
    "h2 = Dense(32, clipped_relu)\n",
    "out = Dense(1, 'sigmoid')\n",
    "\n",
    "layerStack = out(h2(h1(layerStack)))\n",
    "\n",
    "model = tf.keras.Model(inputs=[i1, i2], outputs=layerStack)\n",
    "\n",
    "model.compile(optimizer=tf.keras.optimizers.Adam(), loss='mse', metrics=['mae'])"
   ]
  },
  {
   "cell_type": "code",
   "execution_count": null,
   "metadata": {},
   "outputs": [],
   "source": [
    "model = tf.keras.models.load_model(\"models/model-4-1089/\")"
   ]
  },
  {
   "cell_type": "code",
   "execution_count": 7,
   "metadata": {},
   "outputs": [
    {
     "name": "stdout",
     "output_type": "stream",
     "text": [
      "   998/109375 [..............................] - ETA: 12:03 - loss: 0.0923 - mae: 0.2423 val_loss : 0.09154156517510666\n"
     ]
    },
    {
     "name": "stderr",
     "output_type": "stream",
     "text": [
      "2022-03-30 19:16:17.920329: W tensorflow/python/util/util.cc:368] Sets are not currently considered sequences, but this may change in the future, so consider avoiding using them.\n",
      "2022-03-30 19:16:18.418018: W tensorflow/core/framework/cpu_allocator_impl.cc:82] Allocation of 50331648 exceeds 10% of free system memory.\n",
      "2022-03-30 19:16:18.431854: W tensorflow/core/framework/cpu_allocator_impl.cc:82] Allocation of 50331648 exceeds 10% of free system memory.\n",
      "2022-03-30 19:16:18.446492: W tensorflow/core/framework/cpu_allocator_impl.cc:82] Allocation of 50331648 exceeds 10% of free system memory.\n"
     ]
    },
    {
     "name": "stdout",
     "output_type": "stream",
     "text": [
      "INFO:tensorflow:Assets written to: models/model-1-915/assets\n",
      "  1997/109375 [..............................] - ETA: 13:45 - loss: 0.0883 - mae: 0.2349 val_loss : 0.0889307796883222\n"
     ]
    },
    {
     "name": "stderr",
     "output_type": "stream",
     "text": [
      "2022-03-30 19:16:26.802229: W tensorflow/core/framework/cpu_allocator_impl.cc:82] Allocation of 50331648 exceeds 10% of free system memory.\n",
      "2022-03-30 19:16:26.816291: W tensorflow/core/framework/cpu_allocator_impl.cc:82] Allocation of 50331648 exceeds 10% of free system memory.\n"
     ]
    },
    {
     "name": "stdout",
     "output_type": "stream",
     "text": [
      "INFO:tensorflow:Assets written to: models/model-2-889/assets\n",
      "  2995/109375 [..............................] - ETA: 14:08 - loss: 0.0862 - mae: 0.2308 val_loss : 0.08597961419265486\n",
      "INFO:tensorflow:Assets written to: models/model-3-859/assets\n",
      "  3993/109375 [>.............................] - ETA: 14:09 - loss: 0.0844 - mae: 0.2273 val_loss : 0.08696616370328521\n",
      "INFO:tensorflow:Assets written to: models/model-4-869/assets\n",
      "  4997/109375 [>.............................] - ETA: 14:04 - loss: 0.0828 - mae: 0.2243 val_loss : 0.08272026776836966\n",
      "INFO:tensorflow:Assets written to: models/model-5-827/assets\n",
      "  5994/109375 [>.............................] - ETA: 13:55 - loss: 0.0818 - mae: 0.2223 val_loss : 0.08281463973973228\n",
      "INFO:tensorflow:Assets written to: models/model-6-828/assets\n",
      "  7000/109375 [>.............................] - ETA: 13:51 - loss: 0.0809 - mae: 0.2205 val_loss : 0.08215452011691889\n",
      "INFO:tensorflow:Assets written to: models/model-7-821/assets\n",
      "  7993/109375 [=>............................] - ETA: 13:44 - loss: 0.0801 - mae: 0.2190 val_loss : 0.08287799781763798\n",
      "INFO:tensorflow:Assets written to: models/model-8-828/assets\n",
      "  8999/109375 [=>............................] - ETA: 13:37 - loss: 0.0794 - mae: 0.2176 val_loss : 0.07951030592200128\n",
      "INFO:tensorflow:Assets written to: models/model-9-795/assets\n",
      "  9995/109375 [=>............................] - ETA: 13:30 - loss: 0.0788 - mae: 0.2164 val_loss : 0.08056259024618694\n",
      "INFO:tensorflow:Assets written to: models/model-10-805/assets\n",
      " 10993/109375 [==>...........................] - ETA: 13:24 - loss: 0.0782 - mae: 0.2154 val_loss : 0.07847833156272749\n",
      "INFO:tensorflow:Assets written to: models/model-11-784/assets\n",
      " 11997/109375 [==>...........................] - ETA: 13:19 - loss: 0.0777 - mae: 0.2143 val_loss : 0.07814878686937868\n",
      "INFO:tensorflow:Assets written to: models/model-12-781/assets\n",
      " 12995/109375 [==>...........................] - ETA: 13:12 - loss: 0.0771 - mae: 0.2133 val_loss : 0.07937090495869081\n",
      "INFO:tensorflow:Assets written to: models/model-13-793/assets\n",
      " 14000/109375 [==>...........................] - ETA: 13:04 - loss: 0.0767 - mae: 0.2125 val_loss : 0.07769613076509864\n",
      "INFO:tensorflow:Assets written to: models/model-14-776/assets\n",
      " 14996/109375 [===>..........................] - ETA: 12:56 - loss: 0.0763 - mae: 0.2116 val_loss : 0.07973215772712318\n",
      "INFO:tensorflow:Assets written to: models/model-15-797/assets\n",
      " 15999/109375 [===>..........................] - ETA: 12:48 - loss: 0.0759 - mae: 0.2109 val_loss : 0.07959302857367458\n",
      "INFO:tensorflow:Assets written to: models/model-16-795/assets\n",
      " 16999/109375 [===>..........................] - ETA: 12:39 - loss: 0.0756 - mae: 0.2102 val_loss : 0.07861896462778663\n",
      "INFO:tensorflow:Assets written to: models/model-17-786/assets\n",
      " 17999/109375 [===>..........................] - ETA: 12:32 - loss: 0.0752 - mae: 0.2095 val_loss : 0.07721152747617206\n",
      "INFO:tensorflow:Assets written to: models/model-18-772/assets\n",
      " 18996/109375 [====>.........................] - ETA: 12:23 - loss: 0.0749 - mae: 0.2089 val_loss : 0.07820127729144562\n",
      "INFO:tensorflow:Assets written to: models/model-19-782/assets\n",
      " 19998/109375 [====>.........................] - ETA: 12:15 - loss: 0.0746 - mae: 0.2082 val_loss : 0.07748102554778452\n",
      "INFO:tensorflow:Assets written to: models/model-20-774/assets\n",
      " 20996/109375 [====>.........................] - ETA: 12:07 - loss: 0.0743 - mae: 0.2077 val_loss : 0.07792568455866841\n",
      "INFO:tensorflow:Assets written to: models/model-21-779/assets\n",
      " 22000/109375 [=====>........................] - ETA: 11:59 - loss: 0.0741 - mae: 0.2072 val_loss : 0.07754870905588503\n",
      "INFO:tensorflow:Assets written to: models/model-22-775/assets\n",
      " 22998/109375 [=====>........................] - ETA: 11:51 - loss: 0.0738 - mae: 0.2067 val_loss : 0.07890834799903988\n",
      "INFO:tensorflow:Assets written to: models/model-23-789/assets\n",
      " 23996/109375 [=====>........................] - ETA: 11:43 - loss: 0.0736 - mae: 0.2062 val_loss : 0.07726404839855355\n",
      "INFO:tensorflow:Assets written to: models/model-24-772/assets\n",
      " 24999/109375 [=====>........................] - ETA: 11:35 - loss: 0.0734 - mae: 0.2058 val_loss : 0.0776281703886358\n",
      "INFO:tensorflow:Assets written to: models/model-25-776/assets\n",
      " 26000/109375 [======>.......................] - ETA: 11:27 - loss: 0.0732 - mae: 0.2053 val_loss : 0.07794307856969344\n",
      "INFO:tensorflow:Assets written to: models/model-26-779/assets\n",
      " 26999/109375 [======>.......................] - ETA: 11:18 - loss: 0.0729 - mae: 0.2049 val_loss : 0.07811029380895207\n",
      "INFO:tensorflow:Assets written to: models/model-27-781/assets\n",
      " 27995/109375 [======>.......................] - ETA: 11:10 - loss: 0.0727 - mae: 0.2045 val_loss : 0.07772214291478445\n",
      "INFO:tensorflow:Assets written to: models/model-28-777/assets\n",
      " 29000/109375 [======>.......................] - ETA: 11:03 - loss: 0.0725 - mae: 0.2041 val_loss : 0.07761846873642349\n",
      "INFO:tensorflow:Assets written to: models/model-29-776/assets\n",
      " 29996/109375 [=======>......................] - ETA: 10:54 - loss: 0.0724 - mae: 0.2038 val_loss : 0.07656699529789321\n",
      "INFO:tensorflow:Assets written to: models/model-30-765/assets\n",
      " 30997/109375 [=======>......................] - ETA: 10:45 - loss: 0.0722 - mae: 0.2033 val_loss : 0.07736034337609055\n",
      "INFO:tensorflow:Assets written to: models/model-31-773/assets\n",
      " 32000/109375 [=======>......................] - ETA: 10:37 - loss: 0.0720 - mae: 0.2030 val_loss : 0.07590569278059603\n",
      "INFO:tensorflow:Assets written to: models/model-32-759/assets\n",
      " 32997/109375 [========>.....................] - ETA: 10:29 - loss: 0.0718 - mae: 0.2026 val_loss : 0.0758118499712993\n",
      "INFO:tensorflow:Assets written to: models/model-33-758/assets\n",
      " 33998/109375 [========>.....................] - ETA: 10:21 - loss: 0.0717 - mae: 0.2023 val_loss : 0.07570114925607142\n",
      "INFO:tensorflow:Assets written to: models/model-34-757/assets\n",
      " 34997/109375 [========>.....................] - ETA: 10:12 - loss: 0.0715 - mae: 0.2020 val_loss : 0.07573161187508005\n",
      "INFO:tensorflow:Assets written to: models/model-35-757/assets\n",
      " 35997/109375 [========>.....................] - ETA: 10:04 - loss: 0.0714 - mae: 0.2017 val_loss : 0.07519516793293904\n",
      "INFO:tensorflow:Assets written to: models/model-36-751/assets\n",
      " 36995/109375 [=========>....................] - ETA: 9:56 - loss: 0.0712 - mae: 0.2014 val_loss : 0.07513385078285391\n",
      "INFO:tensorflow:Assets written to: models/model-37-751/assets\n",
      " 37999/109375 [=========>....................] - ETA: 9:48 - loss: 0.0711 - mae: 0.2011 val_loss : 0.07490954518986778\n",
      "INFO:tensorflow:Assets written to: models/model-38-749/assets\n",
      " 38998/109375 [=========>....................] - ETA: 9:40 - loss: 0.0709 - mae: 0.2008 val_loss : 0.07440504380715618\n",
      "INFO:tensorflow:Assets written to: models/model-39-744/assets\n",
      " 40000/109375 [=========>....................] - ETA: 9:31 - loss: 0.0708 - mae: 0.2006 val_loss : 0.07402110170001937\n",
      "INFO:tensorflow:Assets written to: models/model-40-740/assets\n",
      " 40999/109375 [==========>...................] - ETA: 9:23 - loss: 0.0707 - mae: 0.2003 val_loss : 0.07380335987647897\n",
      "INFO:tensorflow:Assets written to: models/model-41-738/assets\n",
      " 41999/109375 [==========>...................] - ETA: 9:15 - loss: 0.0705 - mae: 0.2000 val_loss : 0.07559929410959369\n",
      "INFO:tensorflow:Assets written to: models/model-42-755/assets\n",
      " 42999/109375 [==========>...................] - ETA: 9:07 - loss: 0.0704 - mae: 0.1998 val_loss : 0.07487816983393979\n",
      "INFO:tensorflow:Assets written to: models/model-43-748/assets\n",
      " 44000/109375 [===========>..................] - ETA: 8:58 - loss: 0.0703 - mae: 0.1996 val_loss : 0.07469097582281817\n",
      "INFO:tensorflow:Assets written to: models/model-44-746/assets\n",
      " 44995/109375 [===========>..................] - ETA: 8:50 - loss: 0.0702 - mae: 0.1993 val_loss : 0.07430999513885594\n",
      "INFO:tensorflow:Assets written to: models/model-45-743/assets\n",
      " 45998/109375 [===========>..................] - ETA: 8:42 - loss: 0.0701 - mae: 0.1991 val_loss : 0.07402947062973633\n",
      "INFO:tensorflow:Assets written to: models/model-46-740/assets\n",
      " 47000/109375 [===========>..................] - ETA: 8:33 - loss: 0.0700 - mae: 0.1989 val_loss : 0.07470373642904596\n",
      "INFO:tensorflow:Assets written to: models/model-47-747/assets\n",
      " 47993/109375 [============>.................] - ETA: 8:25 - loss: 0.0699 - mae: 0.1986 val_loss : 0.07383231301312446\n",
      "INFO:tensorflow:Assets written to: models/model-48-738/assets\n",
      " 48994/109375 [============>.................] - ETA: 8:16 - loss: 0.0698 - mae: 0.1984 val_loss : 0.07372153643236726\n",
      "INFO:tensorflow:Assets written to: models/model-49-737/assets\n",
      " 49993/109375 [============>.................] - ETA: 8:08 - loss: 0.0697 - mae: 0.1982 val_loss : 0.0733020371019601\n",
      "INFO:tensorflow:Assets written to: models/model-50-733/assets\n",
      " 50993/109375 [============>.................] - ETA: 8:00 - loss: 0.0696 - mae: 0.1980 val_loss : 0.07373492221358487\n",
      "INFO:tensorflow:Assets written to: models/model-51-737/assets\n",
      " 51994/109375 [=============>................] - ETA: 7:52 - loss: 0.0695 - mae: 0.1978 val_loss : 0.07414629385531418\n",
      "INFO:tensorflow:Assets written to: models/model-52-741/assets\n",
      " 53000/109375 [=============>................] - ETA: 7:43 - loss: 0.0694 - mae: 0.1976 val_loss : 0.0748634079633069\n",
      "INFO:tensorflow:Assets written to: models/model-53-748/assets\n",
      " 53995/109375 [=============>................] - ETA: 7:35 - loss: 0.0693 - mae: 0.1974 val_loss : 0.07330579397979453\n",
      "INFO:tensorflow:Assets written to: models/model-54-733/assets\n",
      " 54997/109375 [==============>...............] - ETA: 7:27 - loss: 0.0692 - mae: 0.1972 val_loss : 0.07355269871668779\n",
      "INFO:tensorflow:Assets written to: models/model-55-735/assets\n",
      " 55999/109375 [==============>...............] - ETA: 7:19 - loss: 0.0691 - mae: 0.1970 val_loss : 0.07378554143934674\n",
      "INFO:tensorflow:Assets written to: models/model-56-737/assets\n",
      " 56998/109375 [==============>...............] - ETA: 7:10 - loss: 0.0690 - mae: 0.1968 val_loss : 0.07352302938352998\n",
      "INFO:tensorflow:Assets written to: models/model-57-735/assets\n",
      " 57998/109375 [==============>...............] - ETA: 7:02 - loss: 0.0689 - mae: 0.1967 val_loss : 0.0728393591823684\n",
      "INFO:tensorflow:Assets written to: models/model-58-728/assets\n",
      " 58998/109375 [===============>..............] - ETA: 6:54 - loss: 0.0688 - mae: 0.1965 val_loss : 0.07331979052407192\n",
      "INFO:tensorflow:Assets written to: models/model-59-733/assets\n",
      " 59993/109375 [===============>..............] - ETA: 6:46 - loss: 0.0688 - mae: 0.1963 val_loss : 0.07352162147371653\n",
      "INFO:tensorflow:Assets written to: models/model-60-735/assets\n",
      " 61000/109375 [===============>..............] - ETA: 6:38 - loss: 0.0687 - mae: 0.1962 val_loss : 0.07525700337190322\n",
      "INFO:tensorflow:Assets written to: models/model-61-752/assets\n",
      " 61998/109375 [================>.............] - ETA: 6:30 - loss: 0.0686 - mae: 0.1960 val_loss : 0.0733430610516725\n",
      "INFO:tensorflow:Assets written to: models/model-62-733/assets\n",
      " 62998/109375 [================>.............] - ETA: 6:21 - loss: 0.0686 - mae: 0.1959 val_loss : 0.07234721256744987\n",
      "INFO:tensorflow:Assets written to: models/model-63-723/assets\n",
      " 63998/109375 [================>.............] - ETA: 6:13 - loss: 0.0685 - mae: 0.1958 val_loss : 0.07295636903851828\n",
      "INFO:tensorflow:Assets written to: models/model-64-729/assets\n",
      " 64998/109375 [================>.............] - ETA: 6:05 - loss: 0.0684 - mae: 0.1956 val_loss : 0.07374865951607323\n",
      "INFO:tensorflow:Assets written to: models/model-65-737/assets\n",
      " 65999/109375 [=================>............] - ETA: 5:56 - loss: 0.0683 - mae: 0.1954 val_loss : 0.07326033673396956\n",
      "INFO:tensorflow:Assets written to: models/model-66-732/assets\n",
      " 66997/109375 [=================>............] - ETA: 5:48 - loss: 0.0683 - mae: 0.1953 val_loss : 0.07321436459343371\n",
      "INFO:tensorflow:Assets written to: models/model-67-732/assets\n",
      " 68000/109375 [=================>............] - ETA: 5:40 - loss: 0.0682 - mae: 0.1951 val_loss : 0.07336334529255682\n",
      "INFO:tensorflow:Assets written to: models/model-68-733/assets\n",
      " 68998/109375 [=================>............] - ETA: 5:31 - loss: 0.0681 - mae: 0.1950 val_loss : 0.07247634906073022\n",
      "INFO:tensorflow:Assets written to: models/model-69-724/assets\n",
      " 69998/109375 [==================>...........] - ETA: 5:23 - loss: 0.0681 - mae: 0.1948 val_loss : 0.07321734613553392\n",
      "INFO:tensorflow:Assets written to: models/model-70-732/assets\n",
      " 70998/109375 [==================>...........] - ETA: 5:15 - loss: 0.0680 - mae: 0.1947 val_loss : 0.07366354791062965\n",
      "INFO:tensorflow:Assets written to: models/model-71-736/assets\n",
      " 71994/109375 [==================>...........] - ETA: 5:07 - loss: 0.0679 - mae: 0.1946 val_loss : 0.07388913504776057\n",
      "INFO:tensorflow:Assets written to: models/model-72-738/assets\n",
      " 72995/109375 [===================>..........] - ETA: 4:58 - loss: 0.0679 - mae: 0.1945 val_loss : 0.07441731500088386\n",
      "INFO:tensorflow:Assets written to: models/model-73-744/assets\n",
      " 73999/109375 [===================>..........] - ETA: 4:50 - loss: 0.0678 - mae: 0.1943 val_loss : 0.07449263844284824\n",
      "INFO:tensorflow:Assets written to: models/model-74-744/assets\n",
      " 74999/109375 [===================>..........] - ETA: 4:42 - loss: 0.0677 - mae: 0.1942 val_loss : 0.073642524308772\n",
      "INFO:tensorflow:Assets written to: models/model-75-736/assets\n",
      " 75998/109375 [===================>..........] - ETA: 4:34 - loss: 0.0677 - mae: 0.1941 val_loss : 0.07344852678184108\n",
      "INFO:tensorflow:Assets written to: models/model-76-734/assets\n",
      " 76998/109375 [====================>.........] - ETA: 4:25 - loss: 0.0676 - mae: 0.1939 val_loss : 0.07359900223574495\n",
      "INFO:tensorflow:Assets written to: models/model-77-735/assets\n",
      " 77995/109375 [====================>.........] - ETA: 4:17 - loss: 0.0676 - mae: 0.1938 val_loss : 0.07402335605653546\n",
      "INFO:tensorflow:Assets written to: models/model-78-740/assets\n",
      " 78996/109375 [====================>.........] - ETA: 4:09 - loss: 0.0675 - mae: 0.1937 val_loss : 0.07216227243126691\n",
      "INFO:tensorflow:Assets written to: models/model-79-721/assets\n",
      " 79993/109375 [====================>.........] - ETA: 4:01 - loss: 0.0674 - mae: 0.1936 val_loss : 0.0734779127735181\n",
      "INFO:tensorflow:Assets written to: models/model-80-734/assets\n",
      " 80993/109375 [=====================>........] - ETA: 3:53 - loss: 0.0674 - mae: 0.1935 val_loss : 0.07280892308061644\n",
      "INFO:tensorflow:Assets written to: models/model-81-728/assets\n",
      " 81998/109375 [=====================>........] - ETA: 3:44 - loss: 0.0673 - mae: 0.1934 val_loss : 0.07341317176294546\n",
      "INFO:tensorflow:Assets written to: models/model-82-734/assets\n",
      " 82997/109375 [=====================>........] - ETA: 3:36 - loss: 0.0673 - mae: 0.1932 val_loss : 0.07272316586222001\n",
      "INFO:tensorflow:Assets written to: models/model-83-727/assets\n",
      " 83994/109375 [======================>.......] - ETA: 3:28 - loss: 0.0672 - mae: 0.1931 val_loss : 0.07298821207956073\n",
      "INFO:tensorflow:Assets written to: models/model-84-729/assets\n",
      " 84998/109375 [======================>.......] - ETA: 3:20 - loss: 0.0672 - mae: 0.1930 val_loss : 0.07221406613544726\n",
      "INFO:tensorflow:Assets written to: models/model-85-722/assets\n",
      " 85993/109375 [======================>.......] - ETA: 3:11 - loss: 0.0671 - mae: 0.1929 val_loss : 0.07229332119070617\n",
      "INFO:tensorflow:Assets written to: models/model-86-722/assets\n",
      " 86996/109375 [======================>.......] - ETA: 3:03 - loss: 0.0671 - mae: 0.1928 val_loss : 0.072059084289418\n",
      "INFO:tensorflow:Assets written to: models/model-87-720/assets\n",
      " 87998/109375 [=======================>......] - ETA: 2:55 - loss: 0.0670 - mae: 0.1927 val_loss : 0.07166364699179442\n",
      "INFO:tensorflow:Assets written to: models/model-88-716/assets\n",
      " 88993/109375 [=======================>......] - ETA: 2:47 - loss: 0.0670 - mae: 0.1926 val_loss : 0.07155930251401833\n",
      "INFO:tensorflow:Assets written to: models/model-89-715/assets\n",
      " 89993/109375 [=======================>......] - ETA: 2:39 - loss: 0.0669 - mae: 0.1925 val_loss : 0.07291595501462698\n",
      "INFO:tensorflow:Assets written to: models/model-90-729/assets\n",
      " 90995/109375 [=======================>......] - ETA: 2:31 - loss: 0.0669 - mae: 0.1924 val_loss : 0.07324995462105602\n",
      "INFO:tensorflow:Assets written to: models/model-91-732/assets\n",
      " 92000/109375 [========================>.....] - ETA: 2:22 - loss: 0.0668 - mae: 0.1923 val_loss : 0.0730471366279822\n",
      "INFO:tensorflow:Assets written to: models/model-92-730/assets\n",
      " 92998/109375 [========================>.....] - ETA: 2:14 - loss: 0.0668 - mae: 0.1922 val_loss : 0.07407801337145267\n",
      "INFO:tensorflow:Assets written to: models/model-93-740/assets\n",
      " 93994/109375 [========================>.....] - ETA: 2:06 - loss: 0.0667 - mae: 0.1921 val_loss : 0.07399736826820467\n",
      "INFO:tensorflow:Assets written to: models/model-94-739/assets\n",
      " 94999/109375 [=========================>....] - ETA: 1:58 - loss: 0.0667 - mae: 0.1920 val_loss : 0.07300153093647212\n",
      "INFO:tensorflow:Assets written to: models/model-95-730/assets\n",
      " 95998/109375 [=========================>....] - ETA: 1:49 - loss: 0.0666 - mae: 0.1919 val_loss : 0.0729065152776857\n",
      "INFO:tensorflow:Assets written to: models/model-96-729/assets\n",
      " 96993/109375 [=========================>....] - ETA: 1:41 - loss: 0.0666 - mae: 0.1918 val_loss : 0.0734936601845664\n",
      "INFO:tensorflow:Assets written to: models/model-97-734/assets\n",
      " 97996/109375 [=========================>....] - ETA: 1:33 - loss: 0.0665 - mae: 0.1917 val_loss : 0.07296028660334918\n",
      "INFO:tensorflow:Assets written to: models/model-98-729/assets\n",
      " 99000/109375 [==========================>...] - ETA: 1:25 - loss: 0.0665 - mae: 0.1916 val_loss : 0.07304323418730406\n",
      "INFO:tensorflow:Assets written to: models/model-99-730/assets\n",
      " 99993/109375 [==========================>...] - ETA: 1:17 - loss: 0.0664 - mae: 0.1915 val_loss : 0.072531962801314\n",
      "INFO:tensorflow:Assets written to: models/model-100-725/assets\n",
      "100995/109375 [==========================>...] - ETA: 1:08 - loss: 0.0664 - mae: 0.1914 val_loss : 0.07399368989207367\n",
      "INFO:tensorflow:Assets written to: models/model-101-739/assets\n",
      "101994/109375 [==========================>...] - ETA: 1:00 - loss: 0.0664 - mae: 0.1913 val_loss : 0.07336375922550428\n",
      "INFO:tensorflow:Assets written to: models/model-102-733/assets\n",
      "102993/109375 [===========================>..] - ETA: 52s - loss: 0.0663 - mae: 0.1912 val_loss : 0.07393847880853957\n",
      "INFO:tensorflow:Assets written to: models/model-103-739/assets\n",
      "103998/109375 [===========================>..] - ETA: 44s - loss: 0.0663 - mae: 0.1912 val_loss : 0.07229982211613276\n",
      "INFO:tensorflow:Assets written to: models/model-104-722/assets\n",
      "104994/109375 [===========================>..] - ETA: 36s - loss: 0.0662 - mae: 0.1911 val_loss : 0.07280703899964107\n",
      "INFO:tensorflow:Assets written to: models/model-105-728/assets\n",
      "105999/109375 [============================>.] - ETA: 27s - loss: 0.0662 - mae: 0.1910 val_loss : 0.07296770844847793\n",
      "INFO:tensorflow:Assets written to: models/model-106-729/assets\n",
      "106996/109375 [============================>.] - ETA: 19s - loss: 0.0661 - mae: 0.1909 val_loss : 0.07221816839446972\n",
      "INFO:tensorflow:Assets written to: models/model-107-722/assets\n",
      "107998/109375 [============================>.] - ETA: 11s - loss: 0.0661 - mae: 0.1908 val_loss : 0.07246957461561528\n",
      "INFO:tensorflow:Assets written to: models/model-108-724/assets\n",
      "108997/109375 [============================>.] - ETA: 3s - loss: 0.0661 - mae: 0.1908 val_loss : 0.07130253105570705\n",
      "INFO:tensorflow:Assets written to: models/model-109-713/assets\n",
      "109375/109375 [==============================] - 903s 8ms/step - loss: 0.0661 - mae: 0.1907 - val_loss: 0.0713 - val_mae: 0.1984\n"
     ]
    },
    {
     "data": {
      "text/plain": [
       "<keras.callbacks.History at 0x7f5ab46eba60>"
      ]
     },
     "execution_count": 7,
     "metadata": {},
     "output_type": "execute_result"
    },
    {
     "data": {
      "text/plain": [
       "<Figure size 432x288 with 0 Axes>"
      ]
     },
     "metadata": {},
     "output_type": "display_data"
    }
   ],
   "source": [
    "#625/625 [==============================] - 76s 120ms/step - loss: 0.0710 - mae: 0.1957 - val_loss: 0.0967 - val_mae: 0.2318\n",
    "model.fit(training_generator, validation_data=val_generator, epochs=1, callbacks=[NnueCallbacks()])"
   ]
  },
  {
   "cell_type": "code",
   "execution_count": 18,
   "metadata": {},
   "outputs": [
    {
     "name": "stdout",
     "output_type": "stream",
     "text": [
      "[0.13856101]\n"
     ]
    }
   ],
   "source": [
    "indicies = get_halfkp_indeicies(Board(\"r3k1nr/pp2ppbp/n2p2p1/q1p5/3N1P2/1P2P3/PBPP3P/RN1K1B1R w kq - 1 9\"))\n",
    "indicies = indicies.reshape(2, -1)\n",
    "indicies = (np.array([indicies[0], indicies[0]]), np.array([indicies[1], indicies[1]]))\n",
    "pred = model.predict(indicies)\n",
    "print(pred[0])"
   ]
  },
  {
   "cell_type": "code",
   "execution_count": 8,
   "metadata": {},
   "outputs": [
    {
     "name": "stdout",
     "output_type": "stream",
     "text": [
      "[-0.3675208] 1.0 r6r/pp2k1pp/2p1Bp2/2b1p3/4P3/8/PPPB1PPP/2KR3R b - - 0 14\n",
      "[-0.24875295] -0.9999999999999999 r5k1/1b3ppp/p3p3/1pP2n2/8/5NP1/3R1PKP/5R2 b - - 1 24\n",
      "[-0.28492737] 1.0 r2q1rk1/1b1pbppp/pp2p3/2p3n1/P1BnP1Q1/1P4P1/1BPP1P1P/R4RNK w - - 7 15\n",
      "[-0.1943143] 1.0 8/p2Q2R1/7p/3pk2B/8/3P4/PPn2P1P/nN3K2 w - - 1 29\n",
      "[-0.27632397] 1.0 rn1qk2r/pp2bppb/2p1p1np/3pP3/3P4/P2B1N1P/1PPB1PP1/RN1Q1RK1 b kq - 0 10\n",
      "[-0.47265935] 1.0 rn1q1rk1/pp3b1p/2pb1p2/3p1Bp1/3Pp2P/2P1P3/PP1N1PP1/R1BQ1RK1 b - - 0 15\n",
      "[-0.42469263] 1.0 2R5/5ppk/8/6p1/2p5/3p4/6rr/3R2K1 w - - 4 45\n",
      "[-0.42500538] 1.0 1k3r2/p1p5/1p5P/8/6P1/5P2/8/4RRK1 b - - 0 35\n",
      "[-0.26649833] 1.0 rn2r2k/pp1b2pp/3q1p2/2bPp3/2B4N/2P3B1/P4PPP/R2Q1R1K w - - 6 18\n",
      "[-0.11016059] 1.0 4r1k1/p4p2/1p1p1bpp/2n5/8/2P2NPP/PP3PB1/R4K2 w - - 0 20\n",
      "[-0.22793901] 1.0 rn1qkbnr/pp3ppp/2pp4/1B1Pp3/4P1b1/5N2/PPP2PPP/RNBQK2R w KQkq - 0 6\n",
      "[0.39857173] 1.0 r3k1r1/2q1ppb1/2p5/p3p3/2P1P3/1PNQB1Pb/P4P1P/2KR2R1 b q - 1 22\n",
      "[0.36378467] 1.0 4rrk1/p4p2/1pp3p1/4Pp1p/1P1P1R2/2q1BQ1P/P4R1K/8 w - - 0 32\n",
      "[0.3673011] 1.0 3r1rk1/pp4pp/4pp2/8/2Pb4/2K4P/PP3P2/R6R w - - 0 22\n",
      "[0.8860533] 1.0 r4rk1/2p2pp1/p2p3p/4p1Q1/2N5/1PpP1BPR/P4K2/R7 b - - 0 28\n",
      "[0.3745191] 1.0 r1b2rk1/4np1p/p5p1/1pn1P3/2B5/2N2N1P/PP3PP1/R3R1K1 w - - 0 20\n",
      "[0.38539946] 1.0 3r1rk1/1p5p/p2pb3/2p1b3/P1P5/1PN1NBpP/8/2R1R1K1 w - - 0 28\n",
      "[0.9091866] 1.0 r2qk2r/1p2nppp/p1p1p3/8/3P3Q/P4N1P/1PP2PP1/R4RK1 b kq - 1 16\n",
      "[0.39321315] 1.0 rnbq1r1k/p3n1b1/1pp1pNpp/4P3/3p3B/3B1N2/PPPQ1PPP/R4RK1 b - - 3 14\n",
      "[0.4654268] 1.0 rn1qk2r/pbppnpbp/1p2p1p1/8/3P4/2N1PP2/PPPB2PP/R2QKBNR w KQkq - 1 7\n",
      "[0.2517177] 0.0 r1bq1rk1/2p2pbp/1pn2np1/p3p3/2P5/1P2P3/PB1NBPPP/1R1QK1NR w K - 0 11\n",
      "[-0.11543524] 0.020791418713248522 6k1/2p3bp/1p1p2r1/p2Pp3/2P5/5q1b/PP3RNB/6QK b - - 1 30\n",
      "[0.03077042] 0.04156486963612749 5bk1/2q3pp/2r2p2/p1rbp2n/2P1P2B/1B4PP/P4P1K/2NR1Q2 w - - 0 34\n",
      "[0.4635743] 0.11387321733362765 rnbqk1nr/pp1pppbp/6p1/2p5/2P5/5NP1/PP1PPPBP/RNBQK2R b KQkq - 1 4\n",
      "[-0.07681388] 0.0 r1bqk2r/ppp2ppp/2n1p3/3n4/1b1P4/2N2N2/PP1BPPPP/R2QKB1R w KQkq - 4 7\n",
      "[-0.05396456] 0.07954352413789079 r2r2k1/ppp4p/5bp1/4Pb2/5P2/1Q6/PP2BP2/R3K2R b KQ - 3 20\n",
      "[-0.20555347] 0.3846375318661255 r1b1kbnr/pp1ppppp/8/q2P4/2pnP3/2P5/PP3PPP/RNBQKBNR b KQkq - 1 6\n",
      "[0.10338199] -0.1648375447849061 8/8/PR2pk2/6p1/r7/2K5/8/8 w - - 0 51\n",
      "[-0.06484789] -0.141146483611846 r1b2rk1/pp5p/2p3p1/3p4/3b2P1/2P1p1NQ/PPK1B2P/4q3 w - - 0 23\n",
      "[0.03956306] -0.027718784880379266 8/7R/3Np1k1/p3P1p1/4N3/P5P1/5P1P/2R2K2 w - - 1 43\n",
      "[0.20929968] 0.945214820109344 r3rk2/2P1N1p1/p2B1p1p/1p6/4P1q1/1Q6/P4PPP/3RR1K1 b - - 0 27\n",
      "[0.9438833] 1.0 8/R5Br/2p1k3/2Pp1p2/1p3Pp1/1P2P1P1/4bK2/8 b - - 2 39\n",
      "[0.95749223] 1.0 3r1rk1/ppqnbpp1/2p1p2p/7P/2PPN1n1/3Q1N2/PP1B1P2/1K1R3R w - - 0 19\n",
      "[0.97026217] 1.0 4k2r/1rp1bp2/2p1qBp1/4p2p/8/1P1P1p1P/P1PQ1PP1/R3K2R w KQk - 0 18\n",
      "[-0.59014356] -0.9601434880672828 1k6/ppp1bp1p/2q2nr1/3N1R2/8/1P2PQ2/P1PP2PP/5RK1 b - - 0 19\n",
      "[-0.42838293] -0.9977119273760507 r1b1k3/pp1n3p/1qp1p3/2b5/3pPB2/1P1P3P/P1P1BP2/RN1QK1N1 w Qq - 1 14\n",
      "[-0.6487074] -0.997937640498122 3r2k1/pp5p/2p3p1/3p4/P2Pp1bq/2P1PrB1/1Q3PPP/R4RK1 b - - 9 20\n",
      "[-0.62262535] -0.9995015831636277 2k5/ppp2pp1/8/6Pp/5q2/PP4B1/2b3K1/6R1 b - - 1 27\n",
      "[-0.6852764] -0.9998673507342242 r4rk1/p4p2/4p3/2p1P1b1/3q4/5bNQ/PPPp2PP/R4R1K w - - 0 25\n",
      "[-0.4584822] -0.9999804166667071 r2qk1nr/2pb2pp/p2b1p2/1p2p3/4P3/1PPB1N2/P1Q2PPP/R1B2RK1 b kq - 3 13\n",
      "[-0.6595695] -0.9999839827228268 r1bqk2r/ppp2pp1/2np1n1p/2b1p3/2B1P3/2PP1N2/PP3PPP/RNBQ1RK1 w kq - 0 7\n",
      "[-0.6595695] -0.9999795850540477 r2qk2r/ppp2ppp/2n5/2b1p3/3P4/2P2b2/PP3PPP/RNBQK2R w KQkq - 0 10\n",
      "[0.16723502] -0.9999035640603424 4b3/2k4p/3p2p1/3Q4/P7/8/2P2PPP/4R1K1 b - - 0 38\n",
      "[0.18523121] 0.18833991719899434 r1b2rk1/pp2ppbp/2p2np1/2q5/5B2/1B3N1P/P1PQ1PP1/3R1RK1 w - - 0 17\n",
      "[0.15815878] 0.24773542738565202 1kr5/pp6/2b1p1Rp/4P3/3P3N/1q2n3/3QB1PK/8 w - - 2 34\n",
      "[0.20640719] 0.257469106578325 rnbqkb1r/pp1ppppp/5n2/2p5/8/N1P5/PP1PPPPP/1RBQKBNR b Kkq - 0 3\n",
      "[0.21337092] 0.23140177385966987 rnbqk2r/ppp2ppp/3b4/6n1/2BP1p2/5N2/PPP3PP/RNBQ1RK1 b kq - 2 8\n",
      "[0.01217234] -0.0242553929624989 4r3/1p4k1/p1p3p1/2Pp2Pp/1P1PrP2/P3PK2/4R3/8 w - h6 0 35\n",
      "[0.02241898] -0.2116285362590966 r4rk1/p1pq1pp1/2p1p3/3n2Q1/8/1BPP3P/P1P2P2/4RRK1 b - - 0 20\n",
      "[0.14008379] -0.20831560241084324 6k1/7p/5pp1/4b3/4P1PP/2rK4/8/8 w - - 3 41\n",
      "[0.2012248] -0.20831560241084324 r7/8/1K4p1/8/8/R7/1k5p/8 w - - 0 66\n",
      "[-0.18902284] -0.23140177385966987 5rk1/1bp3p1/p4q1p/1p1rpp2/3N4/P2PB2P/1PP1QPP1/1R1R2K1 b - - 0 19\n",
      "[-0.14769286] -0.28635170750503414 3rk3/1b1n1ppp/p3n3/1p2p3/4P3/BP3PP1/P6P/1N1B1RK1 w - - 1 23\n",
      "[-0.1444034] -0.27357558920792513 r3kb1r/pp3ppp/2b1p2n/3pP3/3p4/P1q1BN1P/3N1PP1/R2QK2R w KQkq - 0 12\n",
      "[-0.11145574] -0.19168052286983728 r2q1rk1/ppp2pp1/2npbn1p/2b1p3/N3P3/3P1NPP/PPP2PB1/R1BQ1RK1 b - - 4 9\n",
      "[-0.01889277] -0.35168739210477495 8/1p2rk1p/p1p3p1/2Pp1Q2/PP3PKP/8/6P1/4q2r b - - 10 39\n",
      "[0.01378536] -0.28635170750503414 4rrk1/p1p3pp/b2p4/2p5/8/P2n1PB1/1P4PP/3R2RK b - - 13 27\n",
      "[0.02455831] -0.017326945218914314 2r3k1/p3rpb1/Rnp3p1/1p6/1P2p3/4PB1P/5PP1/2R3K1 b - - 1 25\n",
      "[0.14980793] -0.4080062822856455 r2k3r/p2b1ppp/2n5/3Q4/3P4/B4N2/P4PPP/R3R1K1 b - - 4 18\n",
      "[0.35476005] -0.26715081343619185 rn1qkbnr/ppp1pppp/8/8/Q1pP2b1/2N5/PP2PPPP/R1B1KBNR b KQkq - 1 4\n",
      "[-0.03894794] -0.6363791027309247 r1b2k2/p4pp1/2p1pn1p/1pn5/2B2B2/2P2N2/PPP2PPP/3R2K1 w - - 0 16\n",
      "[-0.08829153] -0.7534134194149931 r1b3k1/p4rbp/1pp1p1pn/3p4/P2B3q/1PPB3P/2NPQPP1/R4RK1 b - - 0 18\n",
      "[-0.40919358] -0.09673714175054127 2k4r/ppp3p1/8/3rPp1p/1P4qP/6P1/P1K1N3/R5R1 b - - 1 22\n",
      "[-0.2751968] -0.9902947432448794 rnbqkbnr/ppp1pp1p/3p2p1/8/3P4/5N2/PPP1PPPP/RNBQKB1R w KQkq - 0 3\n"
     ]
    },
    {
     "ename": "IndexError",
     "evalue": "index 64 is out of bounds for axis 0 with size 64",
     "output_type": "error",
     "traceback": [
      "\u001b[0;31m---------------------------------------------------------------------------\u001b[0m",
      "\u001b[0;31mIndexError\u001b[0m                                Traceback (most recent call last)",
      "\u001b[0;32m/tmp/ipykernel_17098/2866267876.py\u001b[0m in \u001b[0;36m<module>\u001b[0;34m\u001b[0m\n\u001b[1;32m      2\u001b[0m \u001b[0mact\u001b[0m \u001b[0;34m=\u001b[0m \u001b[0mval_generator\u001b[0m\u001b[0;34m[\u001b[0m\u001b[0;36m0\u001b[0m\u001b[0;34m]\u001b[0m\u001b[0;34m[\u001b[0m\u001b[0;36m1\u001b[0m\u001b[0;34m]\u001b[0m \u001b[0;34m*\u001b[0m \u001b[0;36m2\u001b[0m \u001b[0;34m-\u001b[0m \u001b[0;36m1\u001b[0m\u001b[0;34m\u001b[0m\u001b[0;34m\u001b[0m\u001b[0m\n\u001b[1;32m      3\u001b[0m \u001b[0;32mfor\u001b[0m \u001b[0mi\u001b[0m \u001b[0;32min\u001b[0m \u001b[0mrange\u001b[0m\u001b[0;34m(\u001b[0m\u001b[0;36m128\u001b[0m\u001b[0;34m)\u001b[0m\u001b[0;34m:\u001b[0m\u001b[0;34m\u001b[0m\u001b[0;34m\u001b[0m\u001b[0m\n\u001b[0;32m----> 4\u001b[0;31m     \u001b[0mprint\u001b[0m\u001b[0;34m(\u001b[0m\u001b[0mpred\u001b[0m\u001b[0;34m[\u001b[0m\u001b[0mi\u001b[0m\u001b[0;34m]\u001b[0m\u001b[0;34m,\u001b[0m \u001b[0mact\u001b[0m\u001b[0;34m[\u001b[0m\u001b[0mi\u001b[0m\u001b[0;34m]\u001b[0m\u001b[0;34m,\u001b[0m \u001b[0mval_generator\u001b[0m\u001b[0;34m.\u001b[0m\u001b[0mgetfen\u001b[0m\u001b[0;34m(\u001b[0m\u001b[0;36m0\u001b[0m\u001b[0;34m)\u001b[0m\u001b[0;34m[\u001b[0m\u001b[0mi\u001b[0m\u001b[0;34m]\u001b[0m\u001b[0;34m)\u001b[0m\u001b[0;34m\u001b[0m\u001b[0;34m\u001b[0m\u001b[0m\n\u001b[0m",
      "\u001b[0;31mIndexError\u001b[0m: index 64 is out of bounds for axis 0 with size 64"
     ]
    }
   ],
   "source": [
    "pred = model.predict(val_generator[0][0]) * 2 - 1\n",
    "act = val_generator[0][1] * 2 - 1\n",
    "for i in range(128):\n",
    "    print(pred[i], act[i], val_generator.getfen(0)[i])"
   ]
  },
  {
   "cell_type": "code",
   "execution_count": 9,
   "metadata": {},
   "outputs": [
    {
     "name": "stdout",
     "output_type": "stream",
     "text": [
      "INFO:tensorflow:Assets written to: production/assets\n"
     ]
    }
   ],
   "source": [
    "import time\n",
    "# model.save(\"models/model-{}\".format(int(time.time())))\n",
    "model.save(\"production/\")"
   ]
  }
 ],
 "metadata": {
  "interpreter": {
   "hash": "916dbcbb3f70747c44a77c7bcd40155683ae19c65e1c03b4aa3499c5328201f1"
  },
  "kernelspec": {
   "display_name": "Python 3.8.10 64-bit",
   "language": "python",
   "name": "python3"
  },
  "language_info": {
   "codemirror_mode": {
    "name": "ipython",
    "version": 3
   },
   "file_extension": ".py",
   "mimetype": "text/x-python",
   "name": "python",
   "nbconvert_exporter": "python",
   "pygments_lexer": "ipython3",
   "version": "3.8.10"
  },
  "orig_nbformat": 4
 },
 "nbformat": 4,
 "nbformat_minor": 2
}
